{
  "nbformat": 4,
  "nbformat_minor": 0,
  "metadata": {
    "colab": {
      "provenance": [],
      "collapsed_sections": [],
      "authorship_tag": "ABX9TyMuldmVH7Afw3lhHH2SxuvF",
      "include_colab_link": true
    },
    "kernelspec": {
      "name": "python3",
      "display_name": "Python 3"
    },
    "language_info": {
      "name": "python"
    }
  },
  "cells": [
    {
      "cell_type": "markdown",
      "metadata": {
        "id": "view-in-github",
        "colab_type": "text"
      },
      "source": [
        "<a href=\"https://colab.research.google.com/github/Atusha/Atusha/blob/Neural_Network/01_neural_network_regression_with_tensorflow.ipynb\" target=\"_parent\"><img src=\"https://colab.research.google.com/assets/colab-badge.svg\" alt=\"Open In Colab\"/></a>"
      ]
    },
    {
      "cell_type": "markdown",
      "source": [
        "#Introduction to Regression with Neural Networks in Tensorflow\n",
        "There are many definitions for a regression problem but in our case, we're going to simplify it : predicting a numerical variable based on some other combination of variables, even shorter... predicting a number. "
      ],
      "metadata": {
        "id": "yMFqzfh6F25Y"
      }
    },
    {
      "cell_type": "code",
      "execution_count": null,
      "metadata": {
        "id": "TbMYXgi-GQ1y",
        "colab": {
          "base_uri": "https://localhost:8080/"
        },
        "outputId": "f941765e-084b-4c48-8086-fe3335a042be"
      },
      "outputs": [
        {
          "output_type": "stream",
          "name": "stdout",
          "text": [
            "2.8.2\n"
          ]
        }
      ],
      "source": [
        "#import Tensorflow\n",
        "import tensorflow as tf\n",
        "print(tf.__version__)"
      ]
    },
    {
      "cell_type": "markdown",
      "source": [
        "## Creating data to view and fit."
      ],
      "metadata": {
        "id": "H0sGV7HDGjlV"
      }
    },
    {
      "cell_type": "code",
      "source": [
        "import numpy as np\n",
        "import matplotlib.pyplot as plt\n",
        "\n",
        "#Create features. \n",
        "X = np.array([-7.0,-4.0,-1.0,2.0,5.0,8.0,11.0,14.0])\n",
        "\n",
        "#Create labels\n",
        "y = np.array([3.0,6.0,9.0,12.0,15.0,18.0,21.0,24.0])\n",
        "\n",
        "#Visualize the feature and label relationship\n",
        "plt.scatter(X,y)"
      ],
      "metadata": {
        "colab": {
          "base_uri": "https://localhost:8080/",
          "height": 286
        },
        "id": "s3rUZsf-GWQn",
        "outputId": "eafb4135-eb7a-4f76-f9cb-d0af45f0c355"
      },
      "execution_count": null,
      "outputs": [
        {
          "output_type": "execute_result",
          "data": {
            "text/plain": [
              "<matplotlib.collections.PathCollection at 0x7fecdda9f6d0>"
            ]
          },
          "metadata": {},
          "execution_count": 2
        },
        {
          "output_type": "display_data",
          "data": {
            "text/plain": [
              "<Figure size 432x288 with 1 Axes>"
            ],
            "image/png": "[encoded data removed]"
          },
          "metadata": {
            "needs_background": "light"
          }
        }
      ]
    },
    {
      "cell_type": "markdown",
      "source": [
        "#Input & Output shapes"
      ],
      "metadata": {
        "id": "YcboB-v_KUKP"
      }
    },
    {
      "cell_type": "code",
      "source": [
        "#Create a demo tensor for our housing price prediction problem\n",
        "\n",
        "input_shape = X.shape\n",
        "output_shape = y.shape\n",
        "input_shape, output_shape"
      ],
      "metadata": {
        "colab": {
          "base_uri": "https://localhost:8080/"
        },
        "id": "tqh4ielYJew5",
        "outputId": "12b83b09-2964-4352-e084-6f559cc20531"
      },
      "execution_count": null,
      "outputs": [
        {
          "output_type": "execute_result",
          "data": {
            "text/plain": [
              "((8,), (8,))"
            ]
          },
          "metadata": {},
          "execution_count": 3
        }
      ]
    },
    {
      "cell_type": "code",
      "source": [
        "#Turn our Numpy arrays into tensors\n",
        "X = tf.constant(X)\n",
        "y = tf.constant(y)\n",
        "X,y"
      ],
      "metadata": {
        "colab": {
          "base_uri": "https://localhost:8080/"
        },
        "id": "HMiti4j8LyJU",
        "outputId": "414de020-e9a9-4257-b900-68eaf7690cd4"
      },
      "execution_count": null,
      "outputs": [
        {
          "output_type": "execute_result",
          "data": {
            "text/plain": [
              "(<tf.Tensor: shape=(8,), dtype=float64, numpy=array([-7., -4., -1.,  2.,  5.,  8., 11., 14.])>,\n",
              " <tf.Tensor: shape=(8,), dtype=float64, numpy=array([ 3.,  6.,  9., 12., 15., 18., 21., 24.])>)"
            ]
          },
          "metadata": {},
          "execution_count": 4
        }
      ]
    },
    {
      "cell_type": "code",
      "source": [
        "X[0].shape"
      ],
      "metadata": {
        "colab": {
          "base_uri": "https://localhost:8080/"
        },
        "id": "ZWA4mj52MT4K",
        "outputId": "adde9c13-d12a-4292-f610-c1cbb1eb6190"
      },
      "execution_count": null,
      "outputs": [
        {
          "output_type": "execute_result",
          "data": {
            "text/plain": [
              "TensorShape([])"
            ]
          },
          "metadata": {},
          "execution_count": 5
        }
      ]
    },
    {
      "cell_type": "markdown",
      "source": [
        "## Steps in modelling with Tensorflow\n",
        "\n",
        "1. Creating a model - define the input & output layers, as well as hidden layers of a DL model. \n",
        "\n",
        "2. Compiling a model - \n",
        "* define the loss function (the function which tells our model how wrong it is).\n",
        "*  the optimizer (tells our model how to improve the patterns its learning)\n",
        "*  evaluation metrics (what we can use to interpret the performance of our model).\n",
        "\n",
        "3. Fitting the model - letting the model try to find patterns between X & y (features & labels)"
      ],
      "metadata": {
        "id": "3l2vzhteMk0m"
      }
    },
    {
      "cell_type": "code",
      "source": [
        "#Set random seed\n",
        "tf.random.set_seed(42)\n",
        "\n",
        "#1. Create a model using the Sequantial API\n",
        "model = tf.keras.Sequential([\n",
        "        tf.keras.layers.Dense(1) #1 is taken because we want the model to take 1 feature(number) and predict 1 number.\n",
        "])\n",
        "\n",
        "#2. Compile the model\n",
        "model.compile(loss=tf.keras.losses.mae, #MAE = computes mean absolue error between predicted and labels\n",
        "              optimizer = tf.keras.optimizers.SGD(),\n",
        "              metrics = [\"mae\"])\n",
        "\n",
        "#3. Fit the model\n",
        "model.fit(tf.expand_dims(X,axis=-1), y, epochs=5)"
      ],
      "metadata": {
        "id": "wuAG_t0kMX04",
        "colab": {
          "base_uri": "https://localhost:8080/"
        },
        "outputId": "d51cbddd-3fb9-410f-f2e8-4026cd3f25ea"
      },
      "execution_count": null,
      "outputs": [
        {
          "output_type": "stream",
          "name": "stdout",
          "text": [
            "Epoch 1/5\n",
            "1/1 [==============================] - 1s 515ms/step - loss: 11.5048 - mae: 11.5048\n",
            "Epoch 2/5\n",
            "1/1 [==============================] - 0s 8ms/step - loss: 11.3723 - mae: 11.3723\n",
            "Epoch 3/5\n",
            "1/1 [==============================] - 0s 7ms/step - loss: 11.2398 - mae: 11.2398\n",
            "Epoch 4/5\n",
            "1/1 [==============================] - 0s 6ms/step - loss: 11.1073 - mae: 11.1073\n",
            "Epoch 5/5\n",
            "1/1 [==============================] - 0s 6ms/step - loss: 10.9748 - mae: 10.9748\n"
          ]
        },
        {
          "output_type": "execute_result",
          "data": {
            "text/plain": [
              "<keras.callbacks.History at 0x7fecd9794b50>"
            ]
          },
          "metadata": {},
          "execution_count": 6
        }
      ]
    },
    {
      "cell_type": "code",
      "source": [
        "#Check out X and Y\n",
        "X, y"
      ],
      "metadata": {
        "colab": {
          "base_uri": "https://localhost:8080/"
        },
        "id": "DxlG_l-ovvlv",
        "outputId": "67f59381-9839-4ea0-fb56-7a0cccb1569f"
      },
      "execution_count": null,
      "outputs": [
        {
          "output_type": "execute_result",
          "data": {
            "text/plain": [
              "(<tf.Tensor: shape=(8,), dtype=float64, numpy=array([-7., -4., -1.,  2.,  5.,  8., 11., 14.])>,\n",
              " <tf.Tensor: shape=(8,), dtype=float64, numpy=array([ 3.,  6.,  9., 12., 15., 18., 21., 24.])>)"
            ]
          },
          "metadata": {},
          "execution_count": 7
        }
      ]
    },
    {
      "cell_type": "code",
      "source": [
        "#Try and predict with our model\n",
        "model.predict([17.0])"
      ],
      "metadata": {
        "colab": {
          "base_uri": "https://localhost:8080/"
        },
        "id": "mxakHc6cwySU",
        "outputId": "456763f0-0781-4248-808f-11f75ca621f1"
      },
      "execution_count": null,
      "outputs": [
        {
          "output_type": "execute_result",
          "data": {
            "text/plain": [
              "array([[12.716021]], dtype=float32)"
            ]
          },
          "metadata": {},
          "execution_count": 8
        }
      ]
    },
    {
      "cell_type": "markdown",
      "source": [
        "## Improving the model\n",
        "\n",
        "We can improve our model by altering the steps we took to create a model\n",
        "\n",
        "1. **Creating a model** - here we might add more layers, increase the number of hidden units(all called neurons) within each of the hidden layers, change the activation function of each layer. \n",
        "\n",
        "2. **Compiling a model** - here we might change the optimization function por perhaps the learniing rate of the optimization function. \n",
        "\n",
        "3. **Fitting a model** -  here we might fit a model for more epochs or on more data (give the model more examples to learn from)"
      ],
      "metadata": {
        "id": "67hbVodS0NWg"
      }
    },
    {
      "cell_type": "code",
      "source": [
        "#Larger model \n",
        "model = tf.keras.Sequential([\n",
        "    tf.keras.layers.Dense(100, activation=\"relu\"), #activation = None\n",
        "    tf.keras.layers.Dense(1)\n",
        "])\n",
        "\n",
        "model.compile(loss=\"mae\",\n",
        "              optimizer=tf.keras.optimizers.SGD(), #Adam(lr=0.0001)\n",
        "              metrics=[\"mae\"])\n",
        "\n",
        "model.fit(tf.expand_dims(X,axis=-1), y, epochs=100)"
      ],
      "metadata": {
        "id": "TcGlkTASw6LO",
        "colab": {
          "base_uri": "https://localhost:8080/"
        },
        "outputId": "f3e19f51-b027-406a-b0ed-c10b9000bcd9"
      },
      "execution_count": null,
      "outputs": [
        {
          "output_type": "stream",
          "name": "stdout",
          "text": [
            "Epoch 1/100\n",
            "1/1 [==============================] - 0s 336ms/step - loss: 13.9468 - mae: 13.9468\n",
            "Epoch 2/100\n",
            "1/1 [==============================] - 0s 9ms/step - loss: 13.2859 - mae: 13.2859\n",
            "Epoch 3/100\n",
            "1/1 [==============================] - 0s 7ms/step - loss: 12.6279 - mae: 12.6279\n",
            "Epoch 4/100\n",
            "1/1 [==============================] - 0s 7ms/step - loss: 11.9702 - mae: 11.9702\n",
            "Epoch 5/100\n",
            "1/1 [==============================] - 0s 7ms/step - loss: 11.3044 - mae: 11.3044\n",
            "Epoch 6/100\n",
            "1/1 [==============================] - 0s 7ms/step - loss: 10.6244 - mae: 10.6244\n",
            "Epoch 7/100\n",
            "1/1 [==============================] - 0s 6ms/step - loss: 9.9248 - mae: 9.9248\n",
            "Epoch 8/100\n",
            "1/1 [==============================] - 0s 6ms/step - loss: 9.1949 - mae: 9.1949\n",
            "Epoch 9/100\n",
            "1/1 [==============================] - 0s 15ms/step - loss: 8.4303 - mae: 8.4303\n",
            "Epoch 10/100\n",
            "1/1 [==============================] - 0s 18ms/step - loss: 7.6245 - mae: 7.6245\n",
            "Epoch 11/100\n",
            "1/1 [==============================] - 0s 11ms/step - loss: 6.7723 - mae: 6.7723\n",
            "Epoch 12/100\n",
            "1/1 [==============================] - 0s 7ms/step - loss: 5.8960 - mae: 5.8960\n",
            "Epoch 13/100\n",
            "1/1 [==============================] - 0s 12ms/step - loss: 4.9754 - mae: 4.9754\n",
            "Epoch 14/100\n",
            "1/1 [==============================] - 0s 9ms/step - loss: 4.1323 - mae: 4.1323\n",
            "Epoch 15/100\n",
            "1/1 [==============================] - 0s 6ms/step - loss: 4.0312 - mae: 4.0312\n",
            "Epoch 16/100\n",
            "1/1 [==============================] - 0s 6ms/step - loss: 3.9276 - mae: 3.9276\n",
            "Epoch 17/100\n",
            "1/1 [==============================] - 0s 6ms/step - loss: 3.9605 - mae: 3.9605\n",
            "Epoch 18/100\n",
            "1/1 [==============================] - 0s 6ms/step - loss: 3.9073 - mae: 3.9073\n",
            "Epoch 19/100\n",
            "1/1 [==============================] - 0s 5ms/step - loss: 3.9714 - mae: 3.9714\n",
            "Epoch 20/100\n",
            "1/1 [==============================] - 0s 6ms/step - loss: 3.8999 - mae: 3.8999\n",
            "Epoch 21/100\n",
            "1/1 [==============================] - 0s 6ms/step - loss: 3.9595 - mae: 3.9595\n",
            "Epoch 22/100\n",
            "1/1 [==============================] - 0s 6ms/step - loss: 3.9079 - mae: 3.9079\n",
            "Epoch 23/100\n",
            "1/1 [==============================] - 0s 7ms/step - loss: 3.9333 - mae: 3.9333\n",
            "Epoch 24/100\n",
            "1/1 [==============================] - 0s 6ms/step - loss: 3.9160 - mae: 3.9160\n",
            "Epoch 25/100\n",
            "1/1 [==============================] - 0s 6ms/step - loss: 3.9096 - mae: 3.9096\n",
            "Epoch 26/100\n",
            "1/1 [==============================] - 0s 6ms/step - loss: 3.9309 - mae: 3.9309\n",
            "Epoch 27/100\n",
            "1/1 [==============================] - 0s 5ms/step - loss: 3.8864 - mae: 3.8864\n",
            "Epoch 28/100\n",
            "1/1 [==============================] - 0s 6ms/step - loss: 3.9391 - mae: 3.9391\n",
            "Epoch 29/100\n",
            "1/1 [==============================] - 0s 7ms/step - loss: 3.8681 - mae: 3.8681\n",
            "Epoch 30/100\n",
            "1/1 [==============================] - 0s 6ms/step - loss: 3.9381 - mae: 3.9381\n",
            "Epoch 31/100\n",
            "1/1 [==============================] - 0s 6ms/step - loss: 3.8763 - mae: 3.8763\n",
            "Epoch 32/100\n",
            "1/1 [==============================] - 0s 6ms/step - loss: 3.9117 - mae: 3.9117\n",
            "Epoch 33/100\n",
            "1/1 [==============================] - 0s 11ms/step - loss: 3.8854 - mae: 3.8854\n",
            "Epoch 34/100\n",
            "1/1 [==============================] - 0s 6ms/step - loss: 3.8910 - mae: 3.8910\n",
            "Epoch 35/100\n",
            "1/1 [==============================] - 0s 6ms/step - loss: 3.8996 - mae: 3.8996\n",
            "Epoch 36/100\n",
            "1/1 [==============================] - 0s 8ms/step - loss: 3.8641 - mae: 3.8641\n",
            "Epoch 37/100\n",
            "1/1 [==============================] - 0s 10ms/step - loss: 3.9080 - mae: 3.9080\n",
            "Epoch 38/100\n",
            "1/1 [==============================] - 0s 7ms/step - loss: 3.8374 - mae: 3.8374\n",
            "Epoch 39/100\n",
            "1/1 [==============================] - 0s 8ms/step - loss: 3.9154 - mae: 3.9154\n",
            "Epoch 40/100\n",
            "1/1 [==============================] - 0s 6ms/step - loss: 3.8459 - mae: 3.8459\n",
            "Epoch 41/100\n",
            "1/1 [==============================] - 0s 16ms/step - loss: 3.8888 - mae: 3.8888\n",
            "Epoch 42/100\n",
            "1/1 [==============================] - 0s 10ms/step - loss: 3.8594 - mae: 3.8594\n",
            "Epoch 43/100\n",
            "1/1 [==============================] - 0s 11ms/step - loss: 3.8678 - mae: 3.8678\n",
            "Epoch 44/100\n",
            "1/1 [==============================] - 0s 7ms/step - loss: 3.8695 - mae: 3.8695\n",
            "Epoch 45/100\n",
            "1/1 [==============================] - 0s 6ms/step - loss: 3.8407 - mae: 3.8407\n",
            "Epoch 46/100\n",
            "1/1 [==============================] - 0s 7ms/step - loss: 3.8782 - mae: 3.8782\n",
            "Epoch 47/100\n",
            "1/1 [==============================] - 0s 11ms/step - loss: 3.8134 - mae: 3.8134\n",
            "Epoch 48/100\n",
            "1/1 [==============================] - 0s 7ms/step - loss: 3.8870 - mae: 3.8870\n",
            "Epoch 49/100\n",
            "1/1 [==============================] - 0s 7ms/step - loss: 3.8165 - mae: 3.8165\n",
            "Epoch 50/100\n",
            "1/1 [==============================] - 0s 6ms/step - loss: 3.8678 - mae: 3.8678\n",
            "Epoch 51/100\n",
            "1/1 [==============================] - 0s 9ms/step - loss: 3.8318 - mae: 3.8318\n",
            "Epoch 52/100\n",
            "1/1 [==============================] - 0s 12ms/step - loss: 3.8433 - mae: 3.8433\n",
            "Epoch 53/100\n",
            "1/1 [==============================] - 0s 8ms/step - loss: 3.8405 - mae: 3.8405\n",
            "Epoch 54/100\n",
            "1/1 [==============================] - 0s 7ms/step - loss: 3.8159 - mae: 3.8159\n",
            "Epoch 55/100\n",
            "1/1 [==============================] - 0s 6ms/step - loss: 3.8494 - mae: 3.8494\n",
            "Epoch 56/100\n",
            "1/1 [==============================] - 0s 9ms/step - loss: 3.7884 - mae: 3.7884\n",
            "Epoch 57/100\n",
            "1/1 [==============================] - 0s 6ms/step - loss: 3.8585 - mae: 3.8585\n",
            "Epoch 58/100\n",
            "1/1 [==============================] - 0s 6ms/step - loss: 3.7889 - mae: 3.7889\n",
            "Epoch 59/100\n",
            "1/1 [==============================] - 0s 6ms/step - loss: 3.8451 - mae: 3.8451\n",
            "Epoch 60/100\n",
            "1/1 [==============================] - 0s 7ms/step - loss: 3.8037 - mae: 3.8037\n",
            "Epoch 61/100\n",
            "1/1 [==============================] - 0s 9ms/step - loss: 3.8175 - mae: 3.8175\n",
            "Epoch 62/100\n",
            "1/1 [==============================] - 0s 7ms/step - loss: 3.8126 - mae: 3.8126\n",
            "Epoch 63/100\n",
            "1/1 [==============================] - 0s 7ms/step - loss: 3.7899 - mae: 3.7899\n",
            "Epoch 64/100\n",
            "1/1 [==============================] - 0s 9ms/step - loss: 3.8218 - mae: 3.8218\n",
            "Epoch 65/100\n",
            "1/1 [==============================] - 0s 10ms/step - loss: 3.7622 - mae: 3.7622\n",
            "Epoch 66/100\n",
            "1/1 [==============================] - 0s 9ms/step - loss: 3.8311 - mae: 3.8311\n",
            "Epoch 67/100\n",
            "1/1 [==============================] - 0s 14ms/step - loss: 3.7651 - mae: 3.7651\n",
            "Epoch 68/100\n",
            "1/1 [==============================] - 0s 9ms/step - loss: 3.8185 - mae: 3.8185\n",
            "Epoch 69/100\n",
            "1/1 [==============================] - 0s 9ms/step - loss: 3.7766 - mae: 3.7766\n",
            "Epoch 70/100\n",
            "1/1 [==============================] - 0s 11ms/step - loss: 3.7906 - mae: 3.7906\n",
            "Epoch 71/100\n",
            "1/1 [==============================] - 0s 11ms/step - loss: 3.7858 - mae: 3.7858\n",
            "Epoch 72/100\n",
            "1/1 [==============================] - 0s 7ms/step - loss: 3.7627 - mae: 3.7627\n",
            "Epoch 73/100\n",
            "1/1 [==============================] - 0s 6ms/step - loss: 3.7952 - mae: 3.7952\n",
            "Epoch 74/100\n",
            "1/1 [==============================] - 0s 8ms/step - loss: 3.7347 - mae: 3.7347\n",
            "Epoch 75/100\n",
            "1/1 [==============================] - 0s 7ms/step - loss: 3.8055 - mae: 3.8055\n",
            "Epoch 76/100\n",
            "1/1 [==============================] - 0s 6ms/step - loss: 3.7414 - mae: 3.7414\n",
            "Epoch 77/100\n",
            "1/1 [==============================] - 0s 8ms/step - loss: 3.7906 - mae: 3.7906\n",
            "Epoch 78/100\n",
            "1/1 [==============================] - 0s 8ms/step - loss: 3.7506 - mae: 3.7506\n",
            "Epoch 79/100\n",
            "1/1 [==============================] - 0s 7ms/step - loss: 3.7624 - mae: 3.7624\n",
            "Epoch 80/100\n",
            "1/1 [==============================] - 0s 9ms/step - loss: 3.7599 - mae: 3.7599\n",
            "Epoch 81/100\n",
            "1/1 [==============================] - 0s 7ms/step - loss: 3.7342 - mae: 3.7342\n",
            "Epoch 82/100\n",
            "1/1 [==============================] - 0s 7ms/step - loss: 3.7696 - mae: 3.7696\n",
            "Epoch 83/100\n",
            "1/1 [==============================] - 0s 7ms/step - loss: 3.7059 - mae: 3.7059\n",
            "Epoch 84/100\n",
            "1/1 [==============================] - 0s 9ms/step - loss: 3.7833 - mae: 3.7833\n",
            "Epoch 85/100\n",
            "1/1 [==============================] - 0s 14ms/step - loss: 3.7162 - mae: 3.7162\n",
            "Epoch 86/100\n",
            "1/1 [==============================] - 0s 7ms/step - loss: 3.7614 - mae: 3.7614\n",
            "Epoch 87/100\n",
            "1/1 [==============================] - 0s 7ms/step - loss: 3.7255 - mae: 3.7255\n",
            "Epoch 88/100\n",
            "1/1 [==============================] - 0s 30ms/step - loss: 3.7328 - mae: 3.7328\n",
            "Epoch 89/100\n",
            "1/1 [==============================] - 0s 9ms/step - loss: 3.7351 - mae: 3.7351\n",
            "Epoch 90/100\n",
            "1/1 [==============================] - 0s 8ms/step - loss: 3.7044 - mae: 3.7044\n",
            "Epoch 91/100\n",
            "1/1 [==============================] - 0s 11ms/step - loss: 3.7449 - mae: 3.7449\n",
            "Epoch 92/100\n",
            "1/1 [==============================] - 0s 12ms/step - loss: 3.6776 - mae: 3.6776\n",
            "Epoch 93/100\n",
            "1/1 [==============================] - 0s 12ms/step - loss: 3.7594 - mae: 3.7594\n",
            "Epoch 94/100\n",
            "1/1 [==============================] - 0s 12ms/step - loss: 3.6919 - mae: 3.6919\n",
            "Epoch 95/100\n",
            "1/1 [==============================] - 0s 11ms/step - loss: 3.7307 - mae: 3.7307\n",
            "Epoch 96/100\n",
            "1/1 [==============================] - 0s 13ms/step - loss: 3.7015 - mae: 3.7015\n",
            "Epoch 97/100\n",
            "1/1 [==============================] - 0s 12ms/step - loss: 3.7019 - mae: 3.7019\n",
            "Epoch 98/100\n",
            "1/1 [==============================] - 0s 12ms/step - loss: 3.7114 - mae: 3.7114\n",
            "Epoch 99/100\n",
            "1/1 [==============================] - 0s 11ms/step - loss: 3.6731 - mae: 3.6731\n",
            "Epoch 100/100\n",
            "1/1 [==============================] - 0s 9ms/step - loss: 3.7214 - mae: 3.7214\n"
          ]
        },
        {
          "output_type": "execute_result",
          "data": {
            "text/plain": [
              "<keras.callbacks.History at 0x7fecd9704a90>"
            ]
          },
          "metadata": {},
          "execution_count": 9
        }
      ]
    },
    {
      "cell_type": "code",
      "source": [
        "X,y"
      ],
      "metadata": {
        "colab": {
          "base_uri": "https://localhost:8080/"
        },
        "id": "wTUfqS7iGtLr",
        "outputId": "b5eee2d4-e81f-44bd-856d-e88ee5e64a9e"
      },
      "execution_count": null,
      "outputs": [
        {
          "output_type": "execute_result",
          "data": {
            "text/plain": [
              "(<tf.Tensor: shape=(8,), dtype=float64, numpy=array([-7., -4., -1.,  2.,  5.,  8., 11., 14.])>,\n",
              " <tf.Tensor: shape=(8,), dtype=float64, numpy=array([ 3.,  6.,  9., 12., 15., 18., 21., 24.])>)"
            ]
          },
          "metadata": {},
          "execution_count": 10
        }
      ]
    },
    {
      "cell_type": "code",
      "source": [
        "model.predict([17.0])"
      ],
      "metadata": {
        "colab": {
          "base_uri": "https://localhost:8080/"
        },
        "id": "rAixa_K8KL5z",
        "outputId": "682271df-100a-4162-b346-b8c278b11ce0"
      },
      "execution_count": null,
      "outputs": [
        {
          "output_type": "execute_result",
          "data": {
            "text/plain": [
              "array([[31.941307]], dtype=float32)"
            ]
          },
          "metadata": {},
          "execution_count": 11
        }
      ]
    },
    {
      "cell_type": "markdown",
      "source": [
        "###Common ways to improve a deep model:\n",
        "\n",
        "\n",
        "*   Adding layers\n",
        "*   Increase the number of hidden units\n",
        "*   Change the activation functions\n",
        "*   Change the optimization function\n",
        "*   Change the learning rate\n",
        "*   Fitting on more data\n",
        "*   Fitting for longer\n",
        "\n",
        "🔑 Because you can alter each of these, they're \"HYPERPARAMETERS\"."
      ],
      "metadata": {
        "id": "k-_7IdbOMLpl"
      }
    },
    {
      "cell_type": "markdown",
      "source": [
        "##Evaluating a Model\n",
        "\n",
        "In practice, a typical workflow you'll g through when building neural networks is: \n",
        "\n",
        "> Build a model -> fit it -> evaluate it -> tweak a model -> fit it -> evaluate it -> tweak a model...."
      ],
      "metadata": {
        "id": "MSZu-kF1LiKC"
      }
    },
    {
      "cell_type": "markdown",
      "source": [
        "When it comes to evaluate a mode, we should visualise the model. \n",
        "\n",
        "Its a good idea to visualise: \n",
        "\n",
        "* The data - What data are we working on? What does it look like?\n",
        "* The model itself - what does our model look like? \n",
        "* The training of a model - how does a model perform while it learns? \n",
        "* The prediction of the model - how do the predictions of a model line up against the ground truth (the original labels)\n"
      ],
      "metadata": {
        "id": "AXw2xHDpOgcF"
      }
    },
    {
      "cell_type": "code",
      "source": [
        "#Make a bigger dataset\n",
        "X = tf.range(-100, 100, 4)\n",
        "X"
      ],
      "metadata": {
        "colab": {
          "base_uri": "https://localhost:8080/"
        },
        "id": "-tJMeDzzKaFF",
        "outputId": "744e848b-0167-4a24-91b3-9f67329618a6"
      },
      "execution_count": null,
      "outputs": [
        {
          "output_type": "execute_result",
          "data": {
            "text/plain": [
              "<tf.Tensor: shape=(50,), dtype=int32, numpy=\n",
              "array([-100,  -96,  -92,  -88,  -84,  -80,  -76,  -72,  -68,  -64,  -60,\n",
              "        -56,  -52,  -48,  -44,  -40,  -36,  -32,  -28,  -24,  -20,  -16,\n",
              "        -12,   -8,   -4,    0,    4,    8,   12,   16,   20,   24,   28,\n",
              "         32,   36,   40,   44,   48,   52,   56,   60,   64,   68,   72,\n",
              "         76,   80,   84,   88,   92,   96], dtype=int32)>"
            ]
          },
          "metadata": {},
          "execution_count": 12
        }
      ]
    },
    {
      "cell_type": "code",
      "source": [
        "#labels\n",
        "y = X + 10\n",
        "y"
      ],
      "metadata": {
        "colab": {
          "base_uri": "https://localhost:8080/"
        },
        "id": "5JifIYZdPYcE",
        "outputId": "50f016a1-e30f-4f78-bf9f-db4908c0ae7c"
      },
      "execution_count": null,
      "outputs": [
        {
          "output_type": "execute_result",
          "data": {
            "text/plain": [
              "<tf.Tensor: shape=(50,), dtype=int32, numpy=\n",
              "array([-90, -86, -82, -78, -74, -70, -66, -62, -58, -54, -50, -46, -42,\n",
              "       -38, -34, -30, -26, -22, -18, -14, -10,  -6,  -2,   2,   6,  10,\n",
              "        14,  18,  22,  26,  30,  34,  38,  42,  46,  50,  54,  58,  62,\n",
              "        66,  70,  74,  78,  82,  86,  90,  94,  98, 102, 106], dtype=int32)>"
            ]
          },
          "metadata": {},
          "execution_count": 13
        }
      ]
    },
    {
      "cell_type": "code",
      "source": [
        "#Visualise the data\n",
        "import matplotlib.pyplot as plt\n",
        "\n",
        "plt.scatter(X,y)"
      ],
      "metadata": {
        "colab": {
          "base_uri": "https://localhost:8080/",
          "height": 282
        },
        "id": "VSJ50OOmPcRO",
        "outputId": "a1688175-1a34-4f20-edf9-d045110ddca3"
      },
      "execution_count": null,
      "outputs": [
        {
          "output_type": "execute_result",
          "data": {
            "text/plain": [
              "<matplotlib.collections.PathCollection at 0x7fecd9630610>"
            ]
          },
          "metadata": {},
          "execution_count": 14
        },
        {
          "output_type": "display_data",
          "data": {
            "text/plain": [
              "<Figure size 432x288 with 1 Axes>"
            ],
            "image/png": "[encoded data removed]"
          },
          "metadata": {
            "needs_background": "light"
          }
        }
      ]
    },
    {
      "cell_type": "markdown",
      "source": [
        "### The 3 sets... \n",
        "* **Training set** - the model learns from the data, which is typically 70-80% of the total dataset. \n",
        "* **Validation set** - the model gets tuned on this data, which is typically 10-15% of the total data. \n",
        "* **Test set** - the model gets evaluated on this data to test what it is has learned, this set is typically 10-15% of the total data. \n",
        "\n",
        "### Generalization - The ability for a machine learning model to perform well on data it hasn't seen before. "
      ],
      "metadata": {
        "id": "4UydxSTFPzuU"
      }
    },
    {
      "cell_type": "code",
      "source": [
        "#Split the data into train and test set\n",
        "\n",
        "X_train = X[:40] #80% of the total\n",
        "X_train = tf.cast(X_train, dtype = tf.float32)\n",
        "y_train = y[:40]\n",
        "y_train = tf.cast(y_train, dtype = tf.float32)\n",
        "\n",
        "X_test=X[40:] #20% of the total\n",
        "y_test=y[40:]\n",
        "\n",
        "len(X_train),len(X_test)"
      ],
      "metadata": {
        "colab": {
          "base_uri": "https://localhost:8080/"
        },
        "id": "USdIfAy6PoZo",
        "outputId": "62e61350-56c2-4f9c-9332-191789756813"
      },
      "execution_count": null,
      "outputs": [
        {
          "output_type": "execute_result",
          "data": {
            "text/plain": [
              "(40, 10)"
            ]
          },
          "metadata": {},
          "execution_count": 15
        }
      ]
    },
    {
      "cell_type": "markdown",
      "source": [
        "## Visualising the data\n",
        "\n",
        "Now we've got our data in training and test sets.. let's visualise the data"
      ],
      "metadata": {
        "id": "_BBIPV6_S4Gr"
      }
    },
    {
      "cell_type": "code",
      "source": [
        "plt.figure(figsize=(10,7))\n",
        "# Plot training data in blue\n",
        "plt.scatter(X_train, y_train, c=\"b\", label =\"Training data\")\n",
        "#Plot test data in green\n",
        "plt.scatter(X_test, y_test, c=\"g\", label=\"Testing data\")\n",
        "#Show a legend\n",
        "plt.legend();"
      ],
      "metadata": {
        "colab": {
          "base_uri": "https://localhost:8080/",
          "height": 428
        },
        "id": "jhRk8lEGSjSB",
        "outputId": "3b39170e-363d-4ed4-ea13-d76c22884b17"
      },
      "execution_count": null,
      "outputs": [
        {
          "output_type": "display_data",
          "data": {
            "text/plain": [
              "<Figure size 720x504 with 1 Axes>"
            ],
            "image/png": "[encoded data removed]"
          },
          "metadata": {
            "needs_background": "light"
          }
        }
      ]
    },
    {
      "cell_type": "code",
      "source": [
        "#Let's create a model\n",
        "\n",
        "model = tf.keras.Sequential([\n",
        "    tf.keras.layers.Dense(1)\n",
        "])\n",
        "\n",
        "model.compile(loss=\"mae\",\n",
        "              optimizer=tf.keras.optimizers.SGD(),\n",
        "              metrics=[\"mae\"])\n",
        "\n",
        "#model.fit(X_train, y_train, epochs=100)"
      ],
      "metadata": {
        "id": "dzJC-86YS1cT"
      },
      "execution_count": null,
      "outputs": []
    },
    {
      "cell_type": "markdown",
      "source": [
        "## Visualizing the Model"
      ],
      "metadata": {
        "id": "pAHRMzY1aanX"
      }
    },
    {
      "cell_type": "code",
      "source": [
        "#Let's create a model which builds automatically by defining the input_shape arguement in the first layer\n",
        "tf.random.set_seed(42)\n",
        "\n",
        "model=tf.keras.Sequential(([\n",
        "    tf.keras.layers.Dense(10, input_shape=[1], name=\"input_layer\"),\n",
        "    tf.keras.layers.Dense(1,name=\"output_layer\")\n",
        "]),name=\"model_1\")\n",
        "\n",
        "model.compile(loss=\"mae\",\n",
        "              optimizer=tf.keras.optimizers.SGD(),\n",
        "              metrics=[\"mae\"])"
      ],
      "metadata": {
        "id": "zjC--4dQYMRQ"
      },
      "execution_count": null,
      "outputs": []
    },
    {
      "cell_type": "code",
      "source": [
        "model.summary()"
      ],
      "metadata": {
        "colab": {
          "base_uri": "https://localhost:8080/"
        },
        "id": "w8TlJwvdagnS",
        "outputId": "ecb9206b-746a-4a24-a990-cfedabb057d4"
      },
      "execution_count": null,
      "outputs": [
        {
          "output_type": "stream",
          "name": "stdout",
          "text": [
            "Model: \"model_1\"\n",
            "_________________________________________________________________\n",
            " Layer (type)                Output Shape              Param #   \n",
            "=================================================================\n",
            " input_layer (Dense)         (None, 10)                20        \n",
            "                                                                 \n",
            " output_layer (Dense)        (None, 1)                 11        \n",
            "                                                                 \n",
            "=================================================================\n",
            "Total params: 31\n",
            "Trainable params: 31\n",
            "Non-trainable params: 0\n",
            "_________________________________________________________________\n"
          ]
        }
      ]
    },
    {
      "cell_type": "markdown",
      "source": [
        "* Total params - total number of parameters in the model. \n",
        "* Trainable parameters - these are the parameters (patterns) the model can update as it trains. \n",
        "* Non-trinable params - these parameters aren't updated during training (this is typical when you bring in already learn patterns or parameters from other models during **transfer learning**).\n",
        "\n",
        "📖 **Resource** - checkout introduction videos of MIT deep learning"
      ],
      "metadata": {
        "id": "qORRl5Y3dRjj"
      }
    },
    {
      "cell_type": "code",
      "source": [
        "#Let's fit our model to the training data\n",
        "model.fit(X_train, y_train, epochs=100, verbose = 0)"
      ],
      "metadata": {
        "colab": {
          "base_uri": "https://localhost:8080/"
        },
        "id": "jAsVGEIIb_o6",
        "outputId": "00cdd301-c9ad-49b3-9138-b861894ff19f"
      },
      "execution_count": null,
      "outputs": [
        {
          "output_type": "execute_result",
          "data": {
            "text/plain": [
              "<keras.callbacks.History at 0x7fecd8ff6c50>"
            ]
          },
          "metadata": {},
          "execution_count": 20
        }
      ]
    },
    {
      "cell_type": "code",
      "source": [
        "#Get a summary of our model\n",
        "model.summary()"
      ],
      "metadata": {
        "colab": {
          "base_uri": "https://localhost:8080/"
        },
        "id": "hUpBG_xFfRFs",
        "outputId": "6add2362-d9d6-44ba-fc3c-06ca19420878"
      },
      "execution_count": null,
      "outputs": [
        {
          "output_type": "stream",
          "name": "stdout",
          "text": [
            "Model: \"model_1\"\n",
            "_________________________________________________________________\n",
            " Layer (type)                Output Shape              Param #   \n",
            "=================================================================\n",
            " input_layer (Dense)         (None, 10)                20        \n",
            "                                                                 \n",
            " output_layer (Dense)        (None, 1)                 11        \n",
            "                                                                 \n",
            "=================================================================\n",
            "Total params: 31\n",
            "Trainable params: 31\n",
            "Non-trainable params: 0\n",
            "_________________________________________________________________\n"
          ]
        }
      ]
    },
    {
      "cell_type": "code",
      "source": [
        "from tensorflow.keras.utils import plot_model\n",
        "\n",
        "plot_model(model=model, show_shapes=True)"
      ],
      "metadata": {
        "colab": {
          "base_uri": "https://localhost:8080/",
          "height": 312
        },
        "id": "NRsmjyi8frU4",
        "outputId": "3c387eff-8f9c-44c6-eb00-2ebfc5460919"
      },
      "execution_count": null,
      "outputs": [
        {
          "output_type": "execute_result",
          "data": {
            "image/png": "[encoded data removed]",
            "text/plain": [
              "<IPython.core.display.Image object>"
            ]
          },
          "metadata": {},
          "execution_count": 22
        }
      ]
    },
    {
      "cell_type": "markdown",
      "source": [
        "##Visualising our model's prediction\n",
        "\n",
        "To visualize predictions, it's a good idea to plot them against the ground truth labels. \n",
        "\n",
        "Often you'l see this in the form of y_test or y_true versus y_pred (ground truth versus your model's predictions)."
      ],
      "metadata": {
        "id": "qwLD_npJPkko"
      }
    },
    {
      "cell_type": "code",
      "source": [
        "#Make some predictions\n",
        "y_pred = model.predict(X_test)\n",
        "y_pred"
      ],
      "metadata": {
        "id": "P8fuPfe8gKrv",
        "colab": {
          "base_uri": "https://localhost:8080/"
        },
        "outputId": "e6e6caa7-04c1-4ab5-fd20-a19ded6b4401"
      },
      "execution_count": null,
      "outputs": [
        {
          "output_type": "execute_result",
          "data": {
            "text/plain": [
              "array([[ 70.55218 ],\n",
              "       [ 75.13991 ],\n",
              "       [ 79.72763 ],\n",
              "       [ 84.31535 ],\n",
              "       [ 88.903076],\n",
              "       [ 93.49081 ],\n",
              "       [ 98.07853 ],\n",
              "       [102.66625 ],\n",
              "       [107.253975],\n",
              "       [111.8417  ]], dtype=float32)"
            ]
          },
          "metadata": {},
          "execution_count": 23
        }
      ]
    },
    {
      "cell_type": "code",
      "source": [
        "y_test"
      ],
      "metadata": {
        "colab": {
          "base_uri": "https://localhost:8080/"
        },
        "id": "XqDIuaMAQR4w",
        "outputId": "b136cb44-0f65-4f88-b89e-f9c53b431c16"
      },
      "execution_count": null,
      "outputs": [
        {
          "output_type": "execute_result",
          "data": {
            "text/plain": [
              "<tf.Tensor: shape=(10,), dtype=int32, numpy=array([ 70,  74,  78,  82,  86,  90,  94,  98, 102, 106], dtype=int32)>"
            ]
          },
          "metadata": {},
          "execution_count": 24
        }
      ]
    },
    {
      "cell_type": "markdown",
      "source": [
        "🔑 If you feel like you're going to reuse some kind of functonality in the future, it's a good idea to create a function. "
      ],
      "metadata": {
        "id": "0cppUS1CQdBX"
      }
    },
    {
      "cell_type": "code",
      "source": [
        "#Create a plotting function\n",
        "def prediction_plot(train_data = X_train,\n",
        "                    train_label= y_train,\n",
        "                    test_data = X_test,\n",
        "                    test_label = y_test,\n",
        "                    predictions = y_pred):\n",
        "  plt.figure(figsize=(10,7))\n",
        "  #training data in blue\n",
        "  plt.scatter(train_data, train_label, c=\"b\", label=\"Training data\")\n",
        "  #testing in yellow\n",
        "  plt.scatter(test_data, test_label, c=\"y\", label=\"Testing data\")\n",
        "  #prediction in red\n",
        "  plt.scatter(test_data, predictions, c=\"r\", label=\"Prediction data\")\n",
        "  plt.legend()"
      ],
      "metadata": {
        "id": "Kl-LMilsQTAR"
      },
      "execution_count": null,
      "outputs": []
    },
    {
      "cell_type": "code",
      "source": [
        "prediction_plot()"
      ],
      "metadata": {
        "colab": {
          "base_uri": "https://localhost:8080/",
          "height": 428
        },
        "id": "eC7807ZAZVdY",
        "outputId": "bac79d22-5e32-43ad-cbd2-1335e6b108da"
      },
      "execution_count": null,
      "outputs": [
        {
          "output_type": "display_data",
          "data": {
            "text/plain": [
              "<Figure size 720x504 with 1 Axes>"
            ],
            "image/png": "[encoded data removed]"
          },
          "metadata": {
            "needs_background": "light"
          }
        }
      ]
    },
    {
      "cell_type": "markdown",
      "source": [
        "##Evaluating our model's predictions with regressiong evaluation metrics.\n",
        "\n",
        "Depending on the problem you are working on, there will be different evaluation metrics \n",
        "\n",
        "Mainly there are two metrics for regression:\n",
        "* MAE - Mean absolute Error, \"on average, how wrong is each of my model's prediction value\"\n",
        "*MSE - Mean square Error, square the errors\""
      ],
      "metadata": {
        "id": "aIe3cccdbFHo"
      }
    },
    {
      "cell_type": "code",
      "source": [
        "#Evaluate the mode on the test\n",
        "model.evaluate(X_test, y_test)"
      ],
      "metadata": {
        "colab": {
          "base_uri": "https://localhost:8080/"
        },
        "id": "uiIymAqMZYjy",
        "outputId": "00693158-3cd7-4fc3-dfa8-11da240be4df"
      },
      "execution_count": null,
      "outputs": [
        {
          "output_type": "stream",
          "name": "stdout",
          "text": [
            "1/1 [==============================] - 0s 143ms/step - loss: 3.1969 - mae: 3.1969\n"
          ]
        },
        {
          "output_type": "execute_result",
          "data": {
            "text/plain": [
              "[3.196942090988159, 3.196942090988159]"
            ]
          },
          "metadata": {},
          "execution_count": 27
        }
      ]
    },
    {
      "cell_type": "code",
      "source": [
        "#Calculate MAE\n",
        "tf.keras.losses.MAE(y_test,tf.constant(y_pred))"
      ],
      "metadata": {
        "colab": {
          "base_uri": "https://localhost:8080/"
        },
        "id": "GXF4tTuscKxE",
        "outputId": "f29aa025-a80c-439e-fd86-c7b1341275e3"
      },
      "execution_count": null,
      "outputs": [
        {
          "output_type": "execute_result",
          "data": {
            "text/plain": [
              "<tf.Tensor: shape=(10,), dtype=float32, numpy=\n",
              "array([17.558258 , 14.1160555, 11.708948 , 10.336929 , 10.       ,\n",
              "       10.698161 , 12.447118 , 15.333002 , 19.253975 , 23.841698 ],\n",
              "      dtype=float32)>"
            ]
          },
          "metadata": {},
          "execution_count": 28
        }
      ]
    },
    {
      "cell_type": "code",
      "source": [
        "tf.squeeze(y_pred)"
      ],
      "metadata": {
        "colab": {
          "base_uri": "https://localhost:8080/"
        },
        "id": "ikF5NmUrc6bw",
        "outputId": "9314c19f-ba38-4c43-f728-174f81f35cff"
      },
      "execution_count": null,
      "outputs": [
        {
          "output_type": "execute_result",
          "data": {
            "text/plain": [
              "<tf.Tensor: shape=(10,), dtype=float32, numpy=\n",
              "array([ 70.55218 ,  75.13991 ,  79.72763 ,  84.31535 ,  88.903076,\n",
              "        93.49081 ,  98.07853 , 102.66625 , 107.253975, 111.8417  ],\n",
              "      dtype=float32)>"
            ]
          },
          "metadata": {},
          "execution_count": 29
        }
      ]
    },
    {
      "cell_type": "code",
      "source": [
        "#Calculate the perfect MAE\n",
        "tf.keras.losses.MAE(y_test, tf.squeeze(y_pred))"
      ],
      "metadata": {
        "colab": {
          "base_uri": "https://localhost:8080/"
        },
        "id": "AoZGSufPeGld",
        "outputId": "bf21f9fe-0b13-4b19-c2b1-26c14ce4ec8c"
      },
      "execution_count": null,
      "outputs": [
        {
          "output_type": "execute_result",
          "data": {
            "text/plain": [
              "<tf.Tensor: shape=(), dtype=float32, numpy=3.1969407>"
            ]
          },
          "metadata": {},
          "execution_count": 30
        }
      ]
    },
    {
      "cell_type": "code",
      "source": [
        "#Calculate the MSE\n",
        "tf.keras.losses.MSE(y_test,tf.squeeze(y_pred))"
      ],
      "metadata": {
        "colab": {
          "base_uri": "https://localhost:8080/"
        },
        "id": "SuIKbkfKeTOW",
        "outputId": "0aa3544f-7a93-4786-e764-f0a2128ea0ee"
      },
      "execution_count": null,
      "outputs": [
        {
          "output_type": "execute_result",
          "data": {
            "text/plain": [
              "<tf.Tensor: shape=(), dtype=float32, numpy=13.070143>"
            ]
          },
          "metadata": {},
          "execution_count": 31
        }
      ]
    },
    {
      "cell_type": "code",
      "source": [
        "#Make functions to reuse MAE & MSE\n",
        "\n",
        "def mae(y_true, y_pred):\n",
        "  return tf.keras.losses.MAE(y_true,y_pred)\n",
        "\n",
        "def mse(y_true, y_pred):\n",
        "  return tf.keras.losses.MSE(y_true,y_pred)"
      ],
      "metadata": {
        "id": "DiSm_kv1elH_"
      },
      "execution_count": null,
      "outputs": []
    },
    {
      "cell_type": "markdown",
      "source": [
        "## Running experiments to improve our model\n",
        "\n",
        "```\n",
        "Build a model -> fit it -> evaluate it -> tweak a model -> fit it -> evaluate it -> tweak a model....\n",
        "```\n",
        "\n",
        "1. Get more data - get more examples for your model to train on.\n",
        "2. Make your model larger (using a more complex model) - this might come in the form of more layers orm ore hidden units in each layers.\n",
        "3. Train for longer - give your model more of a chance to find a pattern in the training data. \n",
        "\n",
        "Let's do 3 modelling experiments: \n",
        "\n",
        "1. `model_1`- similar to original one, with 100 epochs. \n",
        "2. `model_2` - 2 layers, with 100 epochs. \n",
        "3.`model_3` - 2 layers, 500 epochs\n"
      ],
      "metadata": {
        "id": "Xh9XHrePgFq5"
      }
    },
    {
      "cell_type": "markdown",
      "source": [
        "Build **model_1**"
      ],
      "metadata": {
        "id": "dPaeeJLSi_Qo"
      }
    },
    {
      "cell_type": "code",
      "source": [
        "#Set random seed\n",
        "tf.random.set_seed(42)\n",
        "\n",
        "#Create a model \n",
        "model_1 = tf.keras.Sequential([\n",
        "    tf.keras.layers.Dense(1)\n",
        "])\n",
        "\n",
        "#Compile\n",
        "model_1.compile(loss = \"mae\",\n",
        "           optimizer=tf.keras.optimizers.SGD(),\n",
        "           metrics=[\"mae\"])\n",
        "\n",
        "#Fit\n",
        "model_1.fit(tf.expand_dims(X_train,axis=-1), y_train, epochs=100)"
      ],
      "metadata": {
        "colab": {
          "base_uri": "https://localhost:8080/"
        },
        "id": "9gEJ93xTf8am",
        "outputId": "336e0b63-2ec9-42bc-deff-c6227435e366"
      },
      "execution_count": null,
      "outputs": [
        {
          "output_type": "stream",
          "name": "stdout",
          "text": [
            "Epoch 1/100\n",
            "2/2 [==============================] - 0s 5ms/step - loss: 15.9024 - mae: 15.9024\n",
            "Epoch 2/100\n",
            "2/2 [==============================] - 0s 4ms/step - loss: 11.2837 - mae: 11.2837\n",
            "Epoch 3/100\n",
            "2/2 [==============================] - 0s 3ms/step - loss: 11.1074 - mae: 11.1074\n",
            "Epoch 4/100\n",
            "2/2 [==============================] - 0s 7ms/step - loss: 9.2991 - mae: 9.2991\n",
            "Epoch 5/100\n",
            "2/2 [==============================] - 0s 7ms/step - loss: 10.1677 - mae: 10.1677\n",
            "Epoch 6/100\n",
            "2/2 [==============================] - 0s 6ms/step - loss: 9.4303 - mae: 9.4303\n",
            "Epoch 7/100\n",
            "2/2 [==============================] - 0s 12ms/step - loss: 8.5704 - mae: 8.5704\n",
            "Epoch 8/100\n",
            "2/2 [==============================] - 0s 7ms/step - loss: 9.0442 - mae: 9.0442\n",
            "Epoch 9/100\n",
            "2/2 [==============================] - 0s 7ms/step - loss: 18.7517 - mae: 18.7517\n",
            "Epoch 10/100\n",
            "2/2 [==============================] - 0s 6ms/step - loss: 10.1142 - mae: 10.1142\n",
            "Epoch 11/100\n",
            "2/2 [==============================] - 0s 7ms/step - loss: 8.3980 - mae: 8.3980\n",
            "Epoch 12/100\n",
            "2/2 [==============================] - 0s 10ms/step - loss: 10.6639 - mae: 10.6639\n",
            "Epoch 13/100\n",
            "2/2 [==============================] - 0s 7ms/step - loss: 9.7977 - mae: 9.7977\n",
            "Epoch 14/100\n",
            "2/2 [==============================] - 0s 8ms/step - loss: 16.0103 - mae: 16.0103\n",
            "Epoch 15/100\n",
            "2/2 [==============================] - 0s 5ms/step - loss: 11.4068 - mae: 11.4068\n",
            "Epoch 16/100\n",
            "2/2 [==============================] - 0s 6ms/step - loss: 8.5393 - mae: 8.5393\n",
            "Epoch 17/100\n",
            "2/2 [==============================] - 0s 8ms/step - loss: 13.6348 - mae: 13.6348\n",
            "Epoch 18/100\n",
            "2/2 [==============================] - 0s 10ms/step - loss: 11.4629 - mae: 11.4629\n",
            "Epoch 19/100\n",
            "2/2 [==============================] - 0s 3ms/step - loss: 17.9148 - mae: 17.9148\n",
            "Epoch 20/100\n",
            "2/2 [==============================] - 0s 7ms/step - loss: 15.0494 - mae: 15.0494\n",
            "Epoch 21/100\n",
            "2/2 [==============================] - 0s 3ms/step - loss: 11.0216 - mae: 11.0216\n",
            "Epoch 22/100\n",
            "2/2 [==============================] - 0s 7ms/step - loss: 8.1558 - mae: 8.1558\n",
            "Epoch 23/100\n",
            "2/2 [==============================] - 0s 5ms/step - loss: 9.5138 - mae: 9.5138\n",
            "Epoch 24/100\n",
            "2/2 [==============================] - 0s 6ms/step - loss: 7.6617 - mae: 7.6617\n",
            "Epoch 25/100\n",
            "2/2 [==============================] - 0s 7ms/step - loss: 13.1859 - mae: 13.1859\n",
            "Epoch 26/100\n",
            "2/2 [==============================] - 0s 6ms/step - loss: 16.4211 - mae: 16.4211\n",
            "Epoch 27/100\n",
            "2/2 [==============================] - 0s 7ms/step - loss: 13.1660 - mae: 13.1660\n",
            "Epoch 28/100\n",
            "2/2 [==============================] - 0s 9ms/step - loss: 14.2559 - mae: 14.2559\n",
            "Epoch 29/100\n",
            "2/2 [==============================] - 0s 4ms/step - loss: 10.0670 - mae: 10.0670\n",
            "Epoch 30/100\n",
            "2/2 [==============================] - 0s 7ms/step - loss: 16.3409 - mae: 16.3409\n",
            "Epoch 31/100\n",
            "2/2 [==============================] - 0s 9ms/step - loss: 23.6444 - mae: 23.6444\n",
            "Epoch 32/100\n",
            "2/2 [==============================] - 0s 6ms/step - loss: 7.6215 - mae: 7.6215\n",
            "Epoch 33/100\n",
            "2/2 [==============================] - 0s 5ms/step - loss: 9.3221 - mae: 9.3221\n",
            "Epoch 34/100\n",
            "2/2 [==============================] - 0s 6ms/step - loss: 13.7313 - mae: 13.7313\n",
            "Epoch 35/100\n",
            "2/2 [==============================] - 0s 7ms/step - loss: 11.1276 - mae: 11.1276\n",
            "Epoch 36/100\n",
            "2/2 [==============================] - 0s 7ms/step - loss: 13.3222 - mae: 13.3222\n",
            "Epoch 37/100\n",
            "2/2 [==============================] - 0s 7ms/step - loss: 9.4763 - mae: 9.4763\n",
            "Epoch 38/100\n",
            "2/2 [==============================] - 0s 6ms/step - loss: 10.1381 - mae: 10.1381\n",
            "Epoch 39/100\n",
            "2/2 [==============================] - 0s 5ms/step - loss: 10.1793 - mae: 10.1793\n",
            "Epoch 40/100\n",
            "2/2 [==============================] - 0s 6ms/step - loss: 10.9137 - mae: 10.9137\n",
            "Epoch 41/100\n",
            "2/2 [==============================] - 0s 6ms/step - loss: 7.9063 - mae: 7.9063\n",
            "Epoch 42/100\n",
            "2/2 [==============================] - 0s 5ms/step - loss: 10.0914 - mae: 10.0914\n",
            "Epoch 43/100\n",
            "2/2 [==============================] - 0s 5ms/step - loss: 8.7006 - mae: 8.7006\n",
            "Epoch 44/100\n",
            "2/2 [==============================] - 0s 6ms/step - loss: 12.2047 - mae: 12.2047\n",
            "Epoch 45/100\n",
            "2/2 [==============================] - 0s 4ms/step - loss: 13.7970 - mae: 13.7970\n",
            "Epoch 46/100\n",
            "2/2 [==============================] - 0s 5ms/step - loss: 8.4687 - mae: 8.4687\n",
            "Epoch 47/100\n",
            "2/2 [==============================] - 0s 4ms/step - loss: 9.1330 - mae: 9.1330\n",
            "Epoch 48/100\n",
            "2/2 [==============================] - 0s 4ms/step - loss: 10.6190 - mae: 10.6190\n",
            "Epoch 49/100\n",
            "2/2 [==============================] - 0s 4ms/step - loss: 7.7503 - mae: 7.7503\n",
            "Epoch 50/100\n",
            "2/2 [==============================] - 0s 6ms/step - loss: 9.5407 - mae: 9.5407\n",
            "Epoch 51/100\n",
            "2/2 [==============================] - 0s 4ms/step - loss: 9.1584 - mae: 9.1584\n",
            "Epoch 52/100\n",
            "2/2 [==============================] - 0s 5ms/step - loss: 16.3630 - mae: 16.3630\n",
            "Epoch 53/100\n",
            "2/2 [==============================] - 0s 7ms/step - loss: 14.1299 - mae: 14.1299\n",
            "Epoch 54/100\n",
            "2/2 [==============================] - 0s 4ms/step - loss: 21.1247 - mae: 21.1247\n",
            "Epoch 55/100\n",
            "2/2 [==============================] - 0s 4ms/step - loss: 16.3961 - mae: 16.3961\n",
            "Epoch 56/100\n",
            "2/2 [==============================] - 0s 4ms/step - loss: 9.9806 - mae: 9.9806\n",
            "Epoch 57/100\n",
            "2/2 [==============================] - 0s 5ms/step - loss: 9.9606 - mae: 9.9606\n",
            "Epoch 58/100\n",
            "2/2 [==============================] - 0s 5ms/step - loss: 9.2209 - mae: 9.2209\n",
            "Epoch 59/100\n",
            "2/2 [==============================] - 0s 5ms/step - loss: 8.4239 - mae: 8.4239\n",
            "Epoch 60/100\n",
            "2/2 [==============================] - 0s 5ms/step - loss: 9.4869 - mae: 9.4869\n",
            "Epoch 61/100\n",
            "2/2 [==============================] - 0s 5ms/step - loss: 11.4355 - mae: 11.4355\n",
            "Epoch 62/100\n",
            "2/2 [==============================] - 0s 5ms/step - loss: 11.6887 - mae: 11.6887\n",
            "Epoch 63/100\n",
            "2/2 [==============================] - 0s 6ms/step - loss: 7.0838 - mae: 7.0838\n",
            "Epoch 64/100\n",
            "2/2 [==============================] - 0s 16ms/step - loss: 16.9675 - mae: 16.9675\n",
            "Epoch 65/100\n",
            "2/2 [==============================] - 0s 10ms/step - loss: 12.4599 - mae: 12.4599\n",
            "Epoch 66/100\n",
            "2/2 [==============================] - 0s 8ms/step - loss: 13.0184 - mae: 13.0184\n",
            "Epoch 67/100\n",
            "2/2 [==============================] - 0s 8ms/step - loss: 8.0600 - mae: 8.0600\n",
            "Epoch 68/100\n",
            "2/2 [==============================] - 0s 12ms/step - loss: 10.1888 - mae: 10.1888\n",
            "Epoch 69/100\n",
            "2/2 [==============================] - 0s 10ms/step - loss: 12.3633 - mae: 12.3633\n",
            "Epoch 70/100\n",
            "2/2 [==============================] - 0s 9ms/step - loss: 9.0516 - mae: 9.0516\n",
            "Epoch 71/100\n",
            "2/2 [==============================] - 0s 7ms/step - loss: 10.0378 - mae: 10.0378\n",
            "Epoch 72/100\n",
            "2/2 [==============================] - 0s 7ms/step - loss: 10.0516 - mae: 10.0516\n",
            "Epoch 73/100\n",
            "2/2 [==============================] - 0s 4ms/step - loss: 12.6151 - mae: 12.6151\n",
            "Epoch 74/100\n",
            "2/2 [==============================] - 0s 4ms/step - loss: 10.3819 - mae: 10.3819\n",
            "Epoch 75/100\n",
            "2/2 [==============================] - 0s 4ms/step - loss: 9.7229 - mae: 9.7229\n",
            "Epoch 76/100\n",
            "2/2 [==============================] - 0s 4ms/step - loss: 11.2252 - mae: 11.2252\n",
            "Epoch 77/100\n",
            "2/2 [==============================] - 0s 5ms/step - loss: 8.3642 - mae: 8.3642\n",
            "Epoch 78/100\n",
            "2/2 [==============================] - 0s 4ms/step - loss: 9.1274 - mae: 9.1274\n",
            "Epoch 79/100\n",
            "2/2 [==============================] - 0s 4ms/step - loss: 19.5039 - mae: 19.5039\n",
            "Epoch 80/100\n",
            "2/2 [==============================] - 0s 6ms/step - loss: 14.8945 - mae: 14.8945\n",
            "Epoch 81/100\n",
            "2/2 [==============================] - 0s 8ms/step - loss: 9.0034 - mae: 9.0034\n",
            "Epoch 82/100\n",
            "2/2 [==============================] - 0s 8ms/step - loss: 13.0206 - mae: 13.0206\n",
            "Epoch 83/100\n",
            "2/2 [==============================] - 0s 4ms/step - loss: 7.9299 - mae: 7.9299\n",
            "Epoch 84/100\n",
            "2/2 [==============================] - 0s 5ms/step - loss: 7.6872 - mae: 7.6872\n",
            "Epoch 85/100\n",
            "2/2 [==============================] - 0s 8ms/step - loss: 10.0328 - mae: 10.0328\n",
            "Epoch 86/100\n",
            "2/2 [==============================] - 0s 6ms/step - loss: 9.2433 - mae: 9.2433\n",
            "Epoch 87/100\n",
            "2/2 [==============================] - 0s 10ms/step - loss: 12.0209 - mae: 12.0209\n",
            "Epoch 88/100\n",
            "2/2 [==============================] - 0s 4ms/step - loss: 10.6389 - mae: 10.6389\n",
            "Epoch 89/100\n",
            "2/2 [==============================] - 0s 4ms/step - loss: 7.2667 - mae: 7.2667\n",
            "Epoch 90/100\n",
            "2/2 [==============================] - 0s 4ms/step - loss: 12.7786 - mae: 12.7786\n",
            "Epoch 91/100\n",
            "2/2 [==============================] - 0s 4ms/step - loss: 7.3481 - mae: 7.3481\n",
            "Epoch 92/100\n",
            "2/2 [==============================] - 0s 4ms/step - loss: 7.7175 - mae: 7.7175\n",
            "Epoch 93/100\n",
            "2/2 [==============================] - 0s 4ms/step - loss: 7.1263 - mae: 7.1263\n",
            "Epoch 94/100\n",
            "2/2 [==============================] - 0s 4ms/step - loss: 12.6190 - mae: 12.6190\n",
            "Epoch 95/100\n",
            "2/2 [==============================] - 0s 4ms/step - loss: 10.0912 - mae: 10.0912\n",
            "Epoch 96/100\n",
            "2/2 [==============================] - 0s 4ms/step - loss: 9.3558 - mae: 9.3558\n",
            "Epoch 97/100\n",
            "2/2 [==============================] - 0s 6ms/step - loss: 12.6834 - mae: 12.6834\n",
            "Epoch 98/100\n",
            "2/2 [==============================] - 0s 6ms/step - loss: 8.6762 - mae: 8.6762\n",
            "Epoch 99/100\n",
            "2/2 [==============================] - 0s 5ms/step - loss: 9.4693 - mae: 9.4693\n",
            "Epoch 100/100\n",
            "2/2 [==============================] - 0s 4ms/step - loss: 8.7067 - mae: 8.7067\n"
          ]
        },
        {
          "output_type": "execute_result",
          "data": {
            "text/plain": [
              "<keras.callbacks.History at 0x7fecd7c68410>"
            ]
          },
          "metadata": {},
          "execution_count": 33
        }
      ]
    },
    {
      "cell_type": "code",
      "source": [
        "#Make and plot the model_1\n",
        "\n",
        "y_preds_1 = model_1.predict(X_test)\n",
        "prediction_plot(predictions=y_preds_1)"
      ],
      "metadata": {
        "colab": {
          "base_uri": "https://localhost:8080/",
          "height": 428
        },
        "id": "kJZLcnfRfg8b",
        "outputId": "34d59fad-5d23-407e-cdda-f37eed140920"
      },
      "execution_count": null,
      "outputs": [
        {
          "output_type": "display_data",
          "data": {
            "text/plain": [
              "<Figure size 720x504 with 1 Axes>"
            ],
            "image/png": "[encoded data removed]"
          },
          "metadata": {
            "needs_background": "light"
          }
        }
      ]
    },
    {
      "cell_type": "markdown",
      "source": [
        "Build **model_2**"
      ],
      "metadata": {
        "id": "tLTk2t3apzfx"
      }
    },
    {
      "cell_type": "code",
      "source": [
        "#Create a model\n",
        "model_2 = tf.keras.Sequential([\n",
        "    tf.keras.layers.Dense(10),\n",
        "    tf.keras.layers.Dense(1)\n",
        "])\n",
        "\n",
        "#Compile\n",
        "model_2.compile(loss=\"mae\",\n",
        "                optimizer=tf.keras.optimizers.SGD(),\n",
        "                metrics=[\"mse\"])\n",
        "\n",
        "#Fit\n",
        "model_2.fit(tf.expand_dims(X_train,axis=-1), y_train, epochs=100, verbose=1)"
      ],
      "metadata": {
        "colab": {
          "base_uri": "https://localhost:8080/"
        },
        "id": "3PpWaL6aoFwc",
        "outputId": "29e32aba-a828-4e28-99dc-d325cbeddd36"
      },
      "execution_count": null,
      "outputs": [
        {
          "output_type": "stream",
          "name": "stdout",
          "text": [
            "Epoch 1/100\n",
            "2/2 [==============================] - 0s 6ms/step - loss: 73.0019 - mse: 7955.5830\n",
            "Epoch 2/100\n",
            "2/2 [==============================] - 0s 5ms/step - loss: 17.5325 - mse: 483.7135\n",
            "Epoch 3/100\n",
            "2/2 [==============================] - 0s 6ms/step - loss: 20.4862 - mse: 612.8412\n",
            "Epoch 4/100\n",
            "2/2 [==============================] - 0s 7ms/step - loss: 13.1871 - mse: 230.7354\n",
            "Epoch 5/100\n",
            "2/2 [==============================] - 0s 4ms/step - loss: 14.5492 - mse: 261.8344\n",
            "Epoch 6/100\n",
            "2/2 [==============================] - 0s 4ms/step - loss: 11.6087 - mse: 155.5869\n",
            "Epoch 7/100\n",
            "2/2 [==============================] - 0s 5ms/step - loss: 12.6668 - mse: 215.1633\n",
            "Epoch 8/100\n",
            "2/2 [==============================] - 0s 9ms/step - loss: 11.0468 - mse: 150.9927\n",
            "Epoch 9/100\n",
            "2/2 [==============================] - 0s 6ms/step - loss: 39.7317 - mse: 2475.0767\n",
            "Epoch 10/100\n",
            "2/2 [==============================] - 0s 7ms/step - loss: 27.2189 - mse: 1042.4827\n",
            "Epoch 11/100\n",
            "2/2 [==============================] - 0s 5ms/step - loss: 11.0353 - mse: 181.3307\n",
            "Epoch 12/100\n",
            "2/2 [==============================] - 0s 3ms/step - loss: 24.4166 - mse: 837.2491\n",
            "Epoch 13/100\n",
            "2/2 [==============================] - 0s 4ms/step - loss: 19.3019 - mse: 524.3475\n",
            "Epoch 14/100\n",
            "2/2 [==============================] - 0s 4ms/step - loss: 23.5364 - mse: 848.9185\n",
            "Epoch 15/100\n",
            "2/2 [==============================] - 0s 4ms/step - loss: 15.3060 - mse: 316.2495\n",
            "Epoch 16/100\n",
            "2/2 [==============================] - 0s 3ms/step - loss: 11.3811 - mse: 150.8312\n",
            "Epoch 17/100\n",
            "2/2 [==============================] - 0s 4ms/step - loss: 23.2584 - mse: 757.8690\n",
            "Epoch 18/100\n",
            "2/2 [==============================] - 0s 6ms/step - loss: 11.8111 - mse: 214.7285\n",
            "Epoch 19/100\n",
            "2/2 [==============================] - 0s 11ms/step - loss: 16.5386 - mse: 438.6374\n",
            "Epoch 20/100\n",
            "2/2 [==============================] - 0s 4ms/step - loss: 8.2427 - mse: 93.4057\n",
            "Epoch 21/100\n",
            "2/2 [==============================] - 0s 4ms/step - loss: 14.4055 - mse: 288.0856\n",
            "Epoch 22/100\n",
            "2/2 [==============================] - 0s 4ms/step - loss: 12.8167 - mse: 245.3218\n",
            "Epoch 23/100\n",
            "2/2 [==============================] - 0s 6ms/step - loss: 15.4582 - mse: 314.6258\n",
            "Epoch 24/100\n",
            "2/2 [==============================] - 0s 4ms/step - loss: 15.2467 - mse: 315.2892\n",
            "Epoch 25/100\n",
            "2/2 [==============================] - 0s 4ms/step - loss: 14.3296 - mse: 272.5994\n",
            "Epoch 26/100\n",
            "2/2 [==============================] - 0s 4ms/step - loss: 19.3209 - mse: 566.5538\n",
            "Epoch 27/100\n",
            "2/2 [==============================] - 0s 6ms/step - loss: 11.4720 - mse: 170.2993\n",
            "Epoch 28/100\n",
            "2/2 [==============================] - 0s 4ms/step - loss: 29.1772 - mse: 1384.2197\n",
            "Epoch 29/100\n",
            "2/2 [==============================] - 0s 6ms/step - loss: 9.2578 - mse: 94.4045\n",
            "Epoch 30/100\n",
            "2/2 [==============================] - 0s 6ms/step - loss: 29.8922 - mse: 1620.3453\n",
            "Epoch 31/100\n",
            "2/2 [==============================] - 0s 4ms/step - loss: 54.2504 - mse: 5273.4019\n",
            "Epoch 32/100\n",
            "2/2 [==============================] - 0s 7ms/step - loss: 9.5899 - mse: 101.4286\n",
            "Epoch 33/100\n",
            "2/2 [==============================] - 0s 5ms/step - loss: 12.1833 - mse: 182.2239\n",
            "Epoch 34/100\n",
            "2/2 [==============================] - 0s 4ms/step - loss: 23.9572 - mse: 869.8658\n",
            "Epoch 35/100\n",
            "2/2 [==============================] - 0s 5ms/step - loss: 12.6202 - mse: 243.1981\n",
            "Epoch 36/100\n",
            "2/2 [==============================] - 0s 5ms/step - loss: 21.5189 - mse: 660.4368\n",
            "Epoch 37/100\n",
            "2/2 [==============================] - 0s 8ms/step - loss: 11.3948 - mse: 150.4475\n",
            "Epoch 38/100\n",
            "2/2 [==============================] - 0s 8ms/step - loss: 13.4825 - mse: 270.0059\n",
            "Epoch 39/100\n",
            "2/2 [==============================] - 0s 14ms/step - loss: 10.8031 - mse: 139.6788\n",
            "Epoch 40/100\n",
            "2/2 [==============================] - 0s 6ms/step - loss: 16.6186 - mse: 400.6646\n",
            "Epoch 41/100\n",
            "2/2 [==============================] - 0s 7ms/step - loss: 10.9878 - mse: 180.0287\n",
            "Epoch 42/100\n",
            "2/2 [==============================] - 0s 6ms/step - loss: 9.3120 - mse: 115.1650\n",
            "Epoch 43/100\n",
            "2/2 [==============================] - 0s 10ms/step - loss: 9.6002 - mse: 110.9968\n",
            "Epoch 44/100\n",
            "2/2 [==============================] - 0s 8ms/step - loss: 28.0120 - mse: 1258.6654\n",
            "Epoch 45/100\n",
            "2/2 [==============================] - 0s 6ms/step - loss: 11.2956 - mse: 147.2469\n",
            "Epoch 46/100\n",
            "2/2 [==============================] - 0s 6ms/step - loss: 14.0830 - mse: 289.4811\n",
            "Epoch 47/100\n",
            "2/2 [==============================] - 0s 6ms/step - loss: 13.5011 - mse: 256.6292\n",
            "Epoch 48/100\n",
            "2/2 [==============================] - 0s 9ms/step - loss: 17.3373 - mse: 407.7535\n",
            "Epoch 49/100\n",
            "2/2 [==============================] - 0s 7ms/step - loss: 9.5238 - mse: 98.7683\n",
            "Epoch 50/100\n",
            "2/2 [==============================] - 0s 9ms/step - loss: 13.7154 - mse: 253.9054\n",
            "Epoch 51/100\n",
            "2/2 [==============================] - 0s 7ms/step - loss: 11.5670 - mse: 153.2033\n",
            "Epoch 52/100\n",
            "2/2 [==============================] - 0s 7ms/step - loss: 30.2257 - mse: 1575.6971\n",
            "Epoch 53/100\n",
            "2/2 [==============================] - 0s 10ms/step - loss: 13.7352 - mse: 279.1414\n",
            "Epoch 54/100\n",
            "2/2 [==============================] - 0s 9ms/step - loss: 26.4457 - mse: 1072.7347\n",
            "Epoch 55/100\n",
            "2/2 [==============================] - 0s 8ms/step - loss: 26.0367 - mse: 1028.7068\n",
            "Epoch 56/100\n",
            "2/2 [==============================] - 0s 7ms/step - loss: 11.2460 - mse: 171.5487\n",
            "Epoch 57/100\n",
            "2/2 [==============================] - 0s 12ms/step - loss: 13.2249 - mse: 218.6438\n",
            "Epoch 58/100\n",
            "2/2 [==============================] - 0s 8ms/step - loss: 9.8754 - mse: 107.6232\n",
            "Epoch 59/100\n",
            "2/2 [==============================] - 0s 9ms/step - loss: 13.4150 - mse: 255.2668\n",
            "Epoch 60/100\n",
            "2/2 [==============================] - 0s 12ms/step - loss: 10.9405 - mse: 141.6514\n",
            "Epoch 61/100\n",
            "2/2 [==============================] - 0s 5ms/step - loss: 13.5630 - mse: 246.4108\n",
            "Epoch 62/100\n",
            "2/2 [==============================] - 0s 8ms/step - loss: 17.8775 - mse: 486.6564\n",
            "Epoch 63/100\n",
            "2/2 [==============================] - 0s 9ms/step - loss: 8.7416 - mse: 92.1292\n",
            "Epoch 64/100\n",
            "2/2 [==============================] - 0s 3ms/step - loss: 16.1381 - mse: 373.2914\n",
            "Epoch 65/100\n",
            "2/2 [==============================] - 0s 10ms/step - loss: 10.7498 - mse: 146.6601\n",
            "Epoch 66/100\n",
            "2/2 [==============================] - 0s 6ms/step - loss: 22.1831 - mse: 729.0074\n",
            "Epoch 67/100\n",
            "2/2 [==============================] - 0s 4ms/step - loss: 10.2709 - mse: 121.2550\n",
            "Epoch 68/100\n",
            "2/2 [==============================] - 0s 13ms/step - loss: 13.4682 - mse: 268.9867\n",
            "Epoch 69/100\n",
            "2/2 [==============================] - 0s 7ms/step - loss: 11.4343 - mse: 163.1331\n",
            "Epoch 70/100\n",
            "2/2 [==============================] - 0s 7ms/step - loss: 13.6187 - mse: 245.7689\n",
            "Epoch 71/100\n",
            "2/2 [==============================] - 0s 7ms/step - loss: 15.6233 - mse: 346.7656\n",
            "Epoch 72/100\n",
            "2/2 [==============================] - 0s 11ms/step - loss: 11.8532 - mse: 168.3376\n",
            "Epoch 73/100\n",
            "2/2 [==============================] - 0s 5ms/step - loss: 16.6254 - mse: 372.3840\n",
            "Epoch 74/100\n",
            "2/2 [==============================] - 0s 5ms/step - loss: 24.1342 - mse: 916.6342\n",
            "Epoch 75/100\n",
            "2/2 [==============================] - 0s 5ms/step - loss: 9.6315 - mse: 149.3768\n",
            "Epoch 76/100\n",
            "2/2 [==============================] - 0s 7ms/step - loss: 12.4825 - mse: 189.7121\n",
            "Epoch 77/100\n",
            "2/2 [==============================] - 0s 6ms/step - loss: 16.7086 - mse: 432.6881\n",
            "Epoch 78/100\n",
            "2/2 [==============================] - 0s 5ms/step - loss: 9.0873 - mse: 96.3650\n",
            "Epoch 79/100\n",
            "2/2 [==============================] - 0s 4ms/step - loss: 24.0255 - mse: 868.9740\n",
            "Epoch 80/100\n",
            "2/2 [==============================] - 0s 6ms/step - loss: 26.8174 - mse: 1110.9148\n",
            "Epoch 81/100\n",
            "2/2 [==============================] - 0s 5ms/step - loss: 11.7213 - mse: 172.4500\n",
            "Epoch 82/100\n",
            "2/2 [==============================] - 0s 4ms/step - loss: 12.0124 - mse: 211.8800\n",
            "Epoch 83/100\n",
            "2/2 [==============================] - 0s 4ms/step - loss: 17.4085 - mse: 394.8097\n",
            "Epoch 84/100\n",
            "2/2 [==============================] - 0s 8ms/step - loss: 7.2769 - mse: 73.4361\n",
            "Epoch 85/100\n",
            "2/2 [==============================] - 0s 6ms/step - loss: 14.9605 - mse: 312.6097\n",
            "Epoch 86/100\n",
            "2/2 [==============================] - 0s 4ms/step - loss: 15.2848 - mse: 315.4443\n",
            "Epoch 87/100\n",
            "2/2 [==============================] - 0s 4ms/step - loss: 19.0979 - mse: 520.7350\n",
            "Epoch 88/100\n",
            "2/2 [==============================] - 0s 4ms/step - loss: 29.8574 - mse: 1290.3834\n",
            "Epoch 89/100\n",
            "2/2 [==============================] - 0s 4ms/step - loss: 10.1967 - mse: 124.4853\n",
            "Epoch 90/100\n",
            "2/2 [==============================] - 0s 5ms/step - loss: 21.5458 - mse: 665.3116\n",
            "Epoch 91/100\n",
            "2/2 [==============================] - 0s 5ms/step - loss: 10.5927 - mse: 162.0392\n",
            "Epoch 92/100\n",
            "2/2 [==============================] - 0s 4ms/step - loss: 18.4135 - mse: 464.9258\n",
            "Epoch 93/100\n",
            "2/2 [==============================] - 0s 4ms/step - loss: 7.4299 - mse: 82.2258\n",
            "Epoch 94/100\n",
            "2/2 [==============================] - 0s 5ms/step - loss: 17.7470 - mse: 446.1801\n",
            "Epoch 95/100\n",
            "2/2 [==============================] - 0s 6ms/step - loss: 11.1306 - mse: 164.4272\n",
            "Epoch 96/100\n",
            "2/2 [==============================] - 0s 25ms/step - loss: 19.4420 - mse: 510.8730\n",
            "Epoch 97/100\n",
            "2/2 [==============================] - 0s 8ms/step - loss: 12.1735 - mse: 210.1594\n",
            "Epoch 98/100\n",
            "2/2 [==============================] - 0s 6ms/step - loss: 11.5784 - mse: 169.5826\n",
            "Epoch 99/100\n",
            "2/2 [==============================] - 0s 5ms/step - loss: 13.8853 - mse: 265.3635\n",
            "Epoch 100/100\n",
            "2/2 [==============================] - 0s 5ms/step - loss: 20.2151 - mse: 607.9886\n"
          ]
        },
        {
          "output_type": "execute_result",
          "data": {
            "text/plain": [
              "<keras.callbacks.History at 0x7fecd8ec3f50>"
            ]
          },
          "metadata": {},
          "execution_count": 35
        }
      ]
    },
    {
      "cell_type": "code",
      "source": [
        "#Visualise\n",
        "y_pred_2 = model_2.predict(X_test)\n",
        "prediction_plot(predictions=y_pred_2)"
      ],
      "metadata": {
        "colab": {
          "base_uri": "https://localhost:8080/",
          "height": 465
        },
        "id": "Eb3zIt7CqxqB",
        "outputId": "7dc4033f-3d83-4678-b3cb-3fb8c381c187"
      },
      "execution_count": null,
      "outputs": [
        {
          "output_type": "stream",
          "name": "stderr",
          "text": [
            "WARNING:tensorflow:5 out of the last 5 calls to <function Model.make_predict_function.<locals>.predict_function at 0x7fecd853e290> triggered tf.function retracing. Tracing is expensive and the excessive number of tracings could be due to (1) creating @tf.function repeatedly in a loop, (2) passing tensors with different shapes, (3) passing Python objects instead of tensors. For (1), please define your @tf.function outside of the loop. For (2), @tf.function has experimental_relax_shapes=True option that relaxes argument shapes that can avoid unnecessary retracing. For (3), please refer to https://www.tensorflow.org/guide/function#controlling_retracing and https://www.tensorflow.org/api_docs/python/tf/function for  more details.\n"
          ]
        },
        {
          "output_type": "display_data",
          "data": {
            "text/plain": [
              "<Figure size 720x504 with 1 Axes>"
            ],
            "image/png": "[encoded data removed]"
          },
          "metadata": {
            "needs_background": "light"
          }
        }
      ]
    },
    {
      "cell_type": "markdown",
      "source": [
        "Build **model_3**"
      ],
      "metadata": {
        "id": "_4hpcYjbx0C2"
      }
    },
    {
      "cell_type": "code",
      "source": [
        "model_3 = tf.keras.Sequential([\n",
        "    tf.keras.layers.Dense(10),\n",
        "    tf.keras.layers.Dense(1),\n",
        "])\n",
        "\n",
        "model_3.compile(loss=\"mae\",\n",
        "                optimizer=tf.keras.optimizers.SGD(),\n",
        "                metrics=\"mae\")\n",
        "\n",
        "model_3.fit(tf.expand_dims(X_train,axis=-1), y_train, epochs=500, verbose=1)"
      ],
      "metadata": {
        "id": "qysQ5huArkVk",
        "colab": {
          "base_uri": "https://localhost:8080/"
        },
        "outputId": "5ce40104-c1f0-4af9-d33a-79699d90427b"
      },
      "execution_count": null,
      "outputs": [
        {
          "output_type": "stream",
          "name": "stdout",
          "text": [
            "Epoch 1/500\n",
            "2/2 [==============================] - 0s 5ms/step - loss: 21.9353 - mae: 21.9353\n",
            "Epoch 2/500\n",
            "2/2 [==============================] - 0s 5ms/step - loss: 22.0862 - mae: 22.0862\n",
            "Epoch 3/500\n",
            "2/2 [==============================] - 0s 6ms/step - loss: 28.3525 - mae: 28.3525\n",
            "Epoch 4/500\n",
            "2/2 [==============================] - 0s 4ms/step - loss: 23.1307 - mae: 23.1307\n",
            "Epoch 5/500\n",
            "2/2 [==============================] - 0s 5ms/step - loss: 13.8184 - mae: 13.8184\n",
            "Epoch 6/500\n",
            "2/2 [==============================] - 0s 10ms/step - loss: 11.0722 - mae: 11.0722\n",
            "Epoch 7/500\n",
            "2/2 [==============================] - 0s 5ms/step - loss: 12.0519 - mae: 12.0519\n",
            "Epoch 8/500\n",
            "2/2 [==============================] - 0s 6ms/step - loss: 10.8345 - mae: 10.8345\n",
            "Epoch 9/500\n",
            "2/2 [==============================] - 0s 7ms/step - loss: 37.3929 - mae: 37.3929\n",
            "Epoch 10/500\n",
            "2/2 [==============================] - 0s 5ms/step - loss: 25.0762 - mae: 25.0762\n",
            "Epoch 11/500\n",
            "2/2 [==============================] - 0s 3ms/step - loss: 10.2397 - mae: 10.2397\n",
            "Epoch 12/500\n",
            "2/2 [==============================] - 0s 4ms/step - loss: 25.4130 - mae: 25.4130\n",
            "Epoch 13/500\n",
            "2/2 [==============================] - 0s 4ms/step - loss: 16.7518 - mae: 16.7518\n",
            "Epoch 14/500\n",
            "2/2 [==============================] - 0s 3ms/step - loss: 25.4925 - mae: 25.4925\n",
            "Epoch 15/500\n",
            "2/2 [==============================] - 0s 5ms/step - loss: 17.4063 - mae: 17.4063\n",
            "Epoch 16/500\n",
            "2/2 [==============================] - 0s 4ms/step - loss: 9.9920 - mae: 9.9920\n",
            "Epoch 17/500\n",
            "2/2 [==============================] - 0s 3ms/step - loss: 18.4421 - mae: 18.4421\n",
            "Epoch 18/500\n",
            "2/2 [==============================] - 0s 4ms/step - loss: 11.3144 - mae: 11.3144\n",
            "Epoch 19/500\n",
            "2/2 [==============================] - 0s 4ms/step - loss: 13.8716 - mae: 13.8716\n",
            "Epoch 20/500\n",
            "2/2 [==============================] - 0s 4ms/step - loss: 11.1646 - mae: 11.1646\n",
            "Epoch 21/500\n",
            "2/2 [==============================] - 0s 4ms/step - loss: 17.1884 - mae: 17.1884\n",
            "Epoch 22/500\n",
            "2/2 [==============================] - 0s 4ms/step - loss: 15.4261 - mae: 15.4261\n",
            "Epoch 23/500\n",
            "2/2 [==============================] - 0s 18ms/step - loss: 9.2387 - mae: 9.2387\n",
            "Epoch 24/500\n",
            "2/2 [==============================] - 0s 4ms/step - loss: 17.2938 - mae: 17.2938\n",
            "Epoch 25/500\n",
            "2/2 [==============================] - 0s 10ms/step - loss: 15.9566 - mae: 15.9566\n",
            "Epoch 26/500\n",
            "2/2 [==============================] - 0s 7ms/step - loss: 20.9786 - mae: 20.9786\n",
            "Epoch 27/500\n",
            "2/2 [==============================] - 0s 8ms/step - loss: 25.8546 - mae: 25.8546\n",
            "Epoch 28/500\n",
            "2/2 [==============================] - 0s 8ms/step - loss: 18.3662 - mae: 18.3662\n",
            "Epoch 29/500\n",
            "2/2 [==============================] - 0s 6ms/step - loss: 9.2329 - mae: 9.2329\n",
            "Epoch 30/500\n",
            "2/2 [==============================] - 0s 6ms/step - loss: 28.9805 - mae: 28.9805\n",
            "Epoch 31/500\n",
            "2/2 [==============================] - 0s 6ms/step - loss: 52.4765 - mae: 52.4765\n",
            "Epoch 32/500\n",
            "2/2 [==============================] - 0s 6ms/step - loss: 11.8777 - mae: 11.8777\n",
            "Epoch 33/500\n",
            "2/2 [==============================] - 0s 7ms/step - loss: 15.4465 - mae: 15.4465\n",
            "Epoch 34/500\n",
            "2/2 [==============================] - 0s 7ms/step - loss: 12.5576 - mae: 12.5576\n",
            "Epoch 35/500\n",
            "2/2 [==============================] - 0s 10ms/step - loss: 9.1757 - mae: 9.1757\n",
            "Epoch 36/500\n",
            "2/2 [==============================] - 0s 7ms/step - loss: 16.4221 - mae: 16.4221\n",
            "Epoch 37/500\n",
            "2/2 [==============================] - 0s 9ms/step - loss: 11.0940 - mae: 11.0940\n",
            "Epoch 38/500\n",
            "2/2 [==============================] - 0s 8ms/step - loss: 18.2250 - mae: 18.2250\n",
            "Epoch 39/500\n",
            "2/2 [==============================] - 0s 7ms/step - loss: 19.1549 - mae: 19.1549\n",
            "Epoch 40/500\n",
            "2/2 [==============================] - 0s 14ms/step - loss: 20.5317 - mae: 20.5317\n",
            "Epoch 41/500\n",
            "2/2 [==============================] - 0s 7ms/step - loss: 14.7742 - mae: 14.7742\n",
            "Epoch 42/500\n",
            "2/2 [==============================] - 0s 9ms/step - loss: 12.1779 - mae: 12.1779\n",
            "Epoch 43/500\n",
            "2/2 [==============================] - 0s 5ms/step - loss: 10.6799 - mae: 10.6799\n",
            "Epoch 44/500\n",
            "2/2 [==============================] - 0s 7ms/step - loss: 32.2250 - mae: 32.2250\n",
            "Epoch 45/500\n",
            "2/2 [==============================] - 0s 4ms/step - loss: 12.4480 - mae: 12.4480\n",
            "Epoch 46/500\n",
            "2/2 [==============================] - 0s 5ms/step - loss: 17.4835 - mae: 17.4835\n",
            "Epoch 47/500\n",
            "2/2 [==============================] - 0s 4ms/step - loss: 15.7627 - mae: 15.7627\n",
            "Epoch 48/500\n",
            "2/2 [==============================] - 0s 6ms/step - loss: 8.3758 - mae: 8.3758\n",
            "Epoch 49/500\n",
            "2/2 [==============================] - 0s 4ms/step - loss: 13.9879 - mae: 13.9879\n",
            "Epoch 50/500\n",
            "2/2 [==============================] - 0s 4ms/step - loss: 12.8303 - mae: 12.8303\n",
            "Epoch 51/500\n",
            "2/2 [==============================] - 0s 4ms/step - loss: 14.8378 - mae: 14.8378\n",
            "Epoch 52/500\n",
            "2/2 [==============================] - 0s 4ms/step - loss: 18.7218 - mae: 18.7218\n",
            "Epoch 53/500\n",
            "2/2 [==============================] - 0s 7ms/step - loss: 24.1752 - mae: 24.1752\n",
            "Epoch 54/500\n",
            "2/2 [==============================] - 0s 6ms/step - loss: 23.1613 - mae: 23.1613\n",
            "Epoch 55/500\n",
            "2/2 [==============================] - 0s 8ms/step - loss: 24.0097 - mae: 24.0097\n",
            "Epoch 56/500\n",
            "2/2 [==============================] - 0s 8ms/step - loss: 11.1460 - mae: 11.1460\n",
            "Epoch 57/500\n",
            "2/2 [==============================] - 0s 4ms/step - loss: 13.0999 - mae: 13.0999\n",
            "Epoch 58/500\n",
            "2/2 [==============================] - 0s 5ms/step - loss: 9.7993 - mae: 9.7993\n",
            "Epoch 59/500\n",
            "2/2 [==============================] - 0s 5ms/step - loss: 13.2909 - mae: 13.2909\n",
            "Epoch 60/500\n",
            "2/2 [==============================] - 0s 5ms/step - loss: 10.8583 - mae: 10.8583\n",
            "Epoch 61/500\n",
            "2/2 [==============================] - 0s 4ms/step - loss: 13.4608 - mae: 13.4608\n",
            "Epoch 62/500\n",
            "2/2 [==============================] - 0s 5ms/step - loss: 17.4913 - mae: 17.4913\n",
            "Epoch 63/500\n",
            "2/2 [==============================] - 0s 5ms/step - loss: 9.1507 - mae: 9.1507\n",
            "Epoch 64/500\n",
            "2/2 [==============================] - 0s 4ms/step - loss: 18.3653 - mae: 18.3653\n",
            "Epoch 65/500\n",
            "2/2 [==============================] - 0s 5ms/step - loss: 10.1067 - mae: 10.1067\n",
            "Epoch 66/500\n",
            "2/2 [==============================] - 0s 5ms/step - loss: 24.2312 - mae: 24.2312\n",
            "Epoch 67/500\n",
            "2/2 [==============================] - 0s 8ms/step - loss: 10.8745 - mae: 10.8745\n",
            "Epoch 68/500\n",
            "2/2 [==============================] - 0s 5ms/step - loss: 10.7588 - mae: 10.7588\n",
            "Epoch 69/500\n",
            "2/2 [==============================] - 0s 4ms/step - loss: 23.2247 - mae: 23.2247\n",
            "Epoch 70/500\n",
            "2/2 [==============================] - 0s 5ms/step - loss: 8.8148 - mae: 8.8148\n",
            "Epoch 71/500\n",
            "2/2 [==============================] - 0s 5ms/step - loss: 15.9842 - mae: 15.9842\n",
            "Epoch 72/500\n",
            "2/2 [==============================] - 0s 4ms/step - loss: 8.1389 - mae: 8.1389\n",
            "Epoch 73/500\n",
            "2/2 [==============================] - 0s 4ms/step - loss: 9.4628 - mae: 9.4628\n",
            "Epoch 74/500\n",
            "2/2 [==============================] - 0s 4ms/step - loss: 28.1604 - mae: 28.1604\n",
            "Epoch 75/500\n",
            "2/2 [==============================] - 0s 5ms/step - loss: 10.1856 - mae: 10.1856\n",
            "Epoch 76/500\n",
            "2/2 [==============================] - 0s 8ms/step - loss: 13.1352 - mae: 13.1352\n",
            "Epoch 77/500\n",
            "2/2 [==============================] - 0s 5ms/step - loss: 18.3781 - mae: 18.3781\n",
            "Epoch 78/500\n",
            "2/2 [==============================] - 0s 5ms/step - loss: 9.0070 - mae: 9.0070\n",
            "Epoch 79/500\n",
            "2/2 [==============================] - 0s 5ms/step - loss: 23.4319 - mae: 23.4319\n",
            "Epoch 80/500\n",
            "2/2 [==============================] - 0s 4ms/step - loss: 26.1007 - mae: 26.1007\n",
            "Epoch 81/500\n",
            "2/2 [==============================] - 0s 4ms/step - loss: 11.3774 - mae: 11.3774\n",
            "Epoch 82/500\n",
            "2/2 [==============================] - 0s 6ms/step - loss: 12.4943 - mae: 12.4943\n",
            "Epoch 83/500\n",
            "2/2 [==============================] - 0s 9ms/step - loss: 17.1806 - mae: 17.1806\n",
            "Epoch 84/500\n",
            "2/2 [==============================] - 0s 8ms/step - loss: 6.5867 - mae: 6.5867\n",
            "Epoch 85/500\n",
            "2/2 [==============================] - 0s 5ms/step - loss: 20.2937 - mae: 20.2937\n",
            "Epoch 86/500\n",
            "2/2 [==============================] - 0s 7ms/step - loss: 10.1603 - mae: 10.1603\n",
            "Epoch 87/500\n",
            "2/2 [==============================] - 0s 19ms/step - loss: 24.3412 - mae: 24.3412\n",
            "Epoch 88/500\n",
            "2/2 [==============================] - 0s 7ms/step - loss: 19.0062 - mae: 19.0062\n",
            "Epoch 89/500\n",
            "2/2 [==============================] - 0s 9ms/step - loss: 7.1568 - mae: 7.1568\n",
            "Epoch 90/500\n",
            "2/2 [==============================] - 0s 16ms/step - loss: 18.2525 - mae: 18.2525\n",
            "Epoch 91/500\n",
            "2/2 [==============================] - 0s 10ms/step - loss: 13.3016 - mae: 13.3016\n",
            "Epoch 92/500\n",
            "2/2 [==============================] - 0s 7ms/step - loss: 14.8493 - mae: 14.8493\n",
            "Epoch 93/500\n",
            "2/2 [==============================] - 0s 6ms/step - loss: 11.6420 - mae: 11.6420\n",
            "Epoch 94/500\n",
            "2/2 [==============================] - 0s 8ms/step - loss: 16.1989 - mae: 16.1989\n",
            "Epoch 95/500\n",
            "2/2 [==============================] - 0s 7ms/step - loss: 15.5408 - mae: 15.5408\n",
            "Epoch 96/500\n",
            "2/2 [==============================] - 0s 6ms/step - loss: 15.0745 - mae: 15.0745\n",
            "Epoch 97/500\n",
            "2/2 [==============================] - 0s 9ms/step - loss: 10.9027 - mae: 10.9027\n",
            "Epoch 98/500\n",
            "2/2 [==============================] - 0s 6ms/step - loss: 14.3632 - mae: 14.3632\n",
            "Epoch 99/500\n",
            "2/2 [==============================] - 0s 5ms/step - loss: 13.3803 - mae: 13.3803\n",
            "Epoch 100/500\n",
            "2/2 [==============================] - 0s 5ms/step - loss: 20.0006 - mae: 20.0006\n",
            "Epoch 101/500\n",
            "2/2 [==============================] - 0s 6ms/step - loss: 22.5094 - mae: 22.5094\n",
            "Epoch 102/500\n",
            "2/2 [==============================] - 0s 7ms/step - loss: 11.2684 - mae: 11.2684\n",
            "Epoch 103/500\n",
            "2/2 [==============================] - 0s 4ms/step - loss: 9.3537 - mae: 9.3537\n",
            "Epoch 104/500\n",
            "2/2 [==============================] - 0s 4ms/step - loss: 25.1415 - mae: 25.1415\n",
            "Epoch 105/500\n",
            "2/2 [==============================] - 0s 3ms/step - loss: 12.4052 - mae: 12.4052\n",
            "Epoch 106/500\n",
            "2/2 [==============================] - 0s 3ms/step - loss: 9.3900 - mae: 9.3900\n",
            "Epoch 107/500\n",
            "2/2 [==============================] - 0s 5ms/step - loss: 23.1576 - mae: 23.1576\n",
            "Epoch 108/500\n",
            "2/2 [==============================] - 0s 6ms/step - loss: 8.2658 - mae: 8.2658\n",
            "Epoch 109/500\n",
            "2/2 [==============================] - 0s 8ms/step - loss: 13.9986 - mae: 13.9986\n",
            "Epoch 110/500\n",
            "2/2 [==============================] - 0s 7ms/step - loss: 10.6380 - mae: 10.6380\n",
            "Epoch 111/500\n",
            "2/2 [==============================] - 0s 3ms/step - loss: 16.9615 - mae: 16.9615\n",
            "Epoch 112/500\n",
            "2/2 [==============================] - 0s 14ms/step - loss: 8.2612 - mae: 8.2612\n",
            "Epoch 113/500\n",
            "2/2 [==============================] - 0s 9ms/step - loss: 19.6433 - mae: 19.6433\n",
            "Epoch 114/500\n",
            "2/2 [==============================] - 0s 4ms/step - loss: 17.3525 - mae: 17.3525\n",
            "Epoch 115/500\n",
            "2/2 [==============================] - 0s 5ms/step - loss: 11.2152 - mae: 11.2152\n",
            "Epoch 116/500\n",
            "2/2 [==============================] - 0s 5ms/step - loss: 23.5090 - mae: 23.5090\n",
            "Epoch 117/500\n",
            "2/2 [==============================] - 0s 5ms/step - loss: 9.7123 - mae: 9.7123\n",
            "Epoch 118/500\n",
            "2/2 [==============================] - 0s 5ms/step - loss: 10.7899 - mae: 10.7899\n",
            "Epoch 119/500\n",
            "2/2 [==============================] - 0s 4ms/step - loss: 8.0863 - mae: 8.0863\n",
            "Epoch 120/500\n",
            "2/2 [==============================] - 0s 7ms/step - loss: 29.8441 - mae: 29.8441\n",
            "Epoch 121/500\n",
            "2/2 [==============================] - 0s 5ms/step - loss: 8.1167 - mae: 8.1167\n",
            "Epoch 122/500\n",
            "2/2 [==============================] - 0s 5ms/step - loss: 28.4188 - mae: 28.4188\n",
            "Epoch 123/500\n",
            "2/2 [==============================] - 0s 5ms/step - loss: 33.0344 - mae: 33.0344\n",
            "Epoch 124/500\n",
            "2/2 [==============================] - 0s 5ms/step - loss: 19.7398 - mae: 19.7398\n",
            "Epoch 125/500\n",
            "2/2 [==============================] - 0s 5ms/step - loss: 7.0483 - mae: 7.0483\n",
            "Epoch 126/500\n",
            "2/2 [==============================] - 0s 5ms/step - loss: 21.8956 - mae: 21.8956\n",
            "Epoch 127/500\n",
            "2/2 [==============================] - 0s 5ms/step - loss: 8.0288 - mae: 8.0288\n",
            "Epoch 128/500\n",
            "2/2 [==============================] - 0s 5ms/step - loss: 21.1270 - mae: 21.1270\n",
            "Epoch 129/500\n",
            "2/2 [==============================] - 0s 21ms/step - loss: 9.0605 - mae: 9.0605\n",
            "Epoch 130/500\n",
            "2/2 [==============================] - 0s 10ms/step - loss: 24.1044 - mae: 24.1044\n",
            "Epoch 131/500\n",
            "2/2 [==============================] - 0s 11ms/step - loss: 9.8044 - mae: 9.8044\n",
            "Epoch 132/500\n",
            "2/2 [==============================] - 0s 10ms/step - loss: 18.3432 - mae: 18.3432\n",
            "Epoch 133/500\n",
            "2/2 [==============================] - 0s 9ms/step - loss: 7.6218 - mae: 7.6218\n",
            "Epoch 134/500\n",
            "2/2 [==============================] - 0s 6ms/step - loss: 18.6010 - mae: 18.6010\n",
            "Epoch 135/500\n",
            "2/2 [==============================] - 0s 7ms/step - loss: 10.5756 - mae: 10.5756\n",
            "Epoch 136/500\n",
            "2/2 [==============================] - 0s 5ms/step - loss: 18.2770 - mae: 18.2770\n",
            "Epoch 137/500\n",
            "2/2 [==============================] - 0s 8ms/step - loss: 23.1655 - mae: 23.1655\n",
            "Epoch 138/500\n",
            "2/2 [==============================] - 0s 7ms/step - loss: 9.1616 - mae: 9.1616\n",
            "Epoch 139/500\n",
            "2/2 [==============================] - 0s 5ms/step - loss: 8.9421 - mae: 8.9421\n",
            "Epoch 140/500\n",
            "2/2 [==============================] - 0s 6ms/step - loss: 16.4478 - mae: 16.4478\n",
            "Epoch 141/500\n",
            "2/2 [==============================] - 0s 4ms/step - loss: 8.4558 - mae: 8.4558\n",
            "Epoch 142/500\n",
            "2/2 [==============================] - 0s 8ms/step - loss: 36.8323 - mae: 36.8323\n",
            "Epoch 143/500\n",
            "2/2 [==============================] - 0s 5ms/step - loss: 25.5073 - mae: 25.5073\n",
            "Epoch 144/500\n",
            "2/2 [==============================] - 0s 4ms/step - loss: 9.5716 - mae: 9.5716\n",
            "Epoch 145/500\n",
            "2/2 [==============================] - 0s 5ms/step - loss: 26.6433 - mae: 26.6433\n",
            "Epoch 146/500\n",
            "2/2 [==============================] - 0s 4ms/step - loss: 8.7122 - mae: 8.7122\n",
            "Epoch 147/500\n",
            "2/2 [==============================] - 0s 12ms/step - loss: 15.6727 - mae: 15.6727\n",
            "Epoch 148/500\n",
            "2/2 [==============================] - 0s 11ms/step - loss: 18.3720 - mae: 18.3720\n",
            "Epoch 149/500\n",
            "2/2 [==============================] - 0s 4ms/step - loss: 8.1830 - mae: 8.1830\n",
            "Epoch 150/500\n",
            "2/2 [==============================] - 0s 7ms/step - loss: 7.5115 - mae: 7.5115\n",
            "Epoch 151/500\n",
            "2/2 [==============================] - 0s 9ms/step - loss: 18.2000 - mae: 18.2000\n",
            "Epoch 152/500\n",
            "2/2 [==============================] - 0s 6ms/step - loss: 10.2853 - mae: 10.2853\n",
            "Epoch 153/500\n",
            "2/2 [==============================] - 0s 5ms/step - loss: 29.3987 - mae: 29.3987\n",
            "Epoch 154/500\n",
            "2/2 [==============================] - 0s 4ms/step - loss: 10.6230 - mae: 10.6230\n",
            "Epoch 155/500\n",
            "2/2 [==============================] - 0s 11ms/step - loss: 15.5145 - mae: 15.5145\n",
            "Epoch 156/500\n",
            "2/2 [==============================] - 0s 4ms/step - loss: 17.1399 - mae: 17.1399\n",
            "Epoch 157/500\n",
            "2/2 [==============================] - 0s 7ms/step - loss: 32.5115 - mae: 32.5115\n",
            "Epoch 158/500\n",
            "2/2 [==============================] - 0s 13ms/step - loss: 10.6486 - mae: 10.6486\n",
            "Epoch 159/500\n",
            "2/2 [==============================] - 0s 10ms/step - loss: 8.8944 - mae: 8.8944\n",
            "Epoch 160/500\n",
            "2/2 [==============================] - 0s 10ms/step - loss: 21.8907 - mae: 21.8907\n",
            "Epoch 161/500\n",
            "2/2 [==============================] - 0s 6ms/step - loss: 11.1114 - mae: 11.1114\n",
            "Epoch 162/500\n",
            "2/2 [==============================] - 0s 5ms/step - loss: 21.4158 - mae: 21.4158\n",
            "Epoch 163/500\n",
            "2/2 [==============================] - 0s 6ms/step - loss: 18.8955 - mae: 18.8955\n",
            "Epoch 164/500\n",
            "2/2 [==============================] - 0s 7ms/step - loss: 12.7352 - mae: 12.7352\n",
            "Epoch 165/500\n",
            "2/2 [==============================] - 0s 5ms/step - loss: 12.7258 - mae: 12.7258\n",
            "Epoch 166/500\n",
            "2/2 [==============================] - 0s 11ms/step - loss: 18.8948 - mae: 18.8948\n",
            "Epoch 167/500\n",
            "2/2 [==============================] - 0s 11ms/step - loss: 26.8457 - mae: 26.8457\n",
            "Epoch 168/500\n",
            "2/2 [==============================] - 0s 9ms/step - loss: 10.0009 - mae: 10.0009\n",
            "Epoch 169/500\n",
            "2/2 [==============================] - 0s 5ms/step - loss: 23.0899 - mae: 23.0899\n",
            "Epoch 170/500\n",
            "2/2 [==============================] - 0s 6ms/step - loss: 10.0867 - mae: 10.0867\n",
            "Epoch 171/500\n",
            "2/2 [==============================] - 0s 12ms/step - loss: 17.8336 - mae: 17.8336\n",
            "Epoch 172/500\n",
            "2/2 [==============================] - 0s 6ms/step - loss: 29.3574 - mae: 29.3574\n",
            "Epoch 173/500\n",
            "2/2 [==============================] - 0s 5ms/step - loss: 16.9520 - mae: 16.9520\n",
            "Epoch 174/500\n",
            "2/2 [==============================] - 0s 6ms/step - loss: 11.1855 - mae: 11.1855\n",
            "Epoch 175/500\n",
            "2/2 [==============================] - 0s 6ms/step - loss: 27.4546 - mae: 27.4546\n",
            "Epoch 176/500\n",
            "2/2 [==============================] - 0s 8ms/step - loss: 8.4489 - mae: 8.4489\n",
            "Epoch 177/500\n",
            "2/2 [==============================] - 0s 21ms/step - loss: 9.4056 - mae: 9.4056\n",
            "Epoch 178/500\n",
            "2/2 [==============================] - 0s 11ms/step - loss: 18.5519 - mae: 18.5519\n",
            "Epoch 179/500\n",
            "2/2 [==============================] - 0s 8ms/step - loss: 10.4275 - mae: 10.4275\n",
            "Epoch 180/500\n",
            "2/2 [==============================] - 0s 5ms/step - loss: 8.0056 - mae: 8.0056\n",
            "Epoch 181/500\n",
            "2/2 [==============================] - 0s 24ms/step - loss: 17.7260 - mae: 17.7260\n",
            "Epoch 182/500\n",
            "2/2 [==============================] - 0s 21ms/step - loss: 11.1923 - mae: 11.1923\n",
            "Epoch 183/500\n",
            "2/2 [==============================] - 0s 18ms/step - loss: 12.3743 - mae: 12.3743\n",
            "Epoch 184/500\n",
            "2/2 [==============================] - 0s 7ms/step - loss: 27.2881 - mae: 27.2881\n",
            "Epoch 185/500\n",
            "2/2 [==============================] - 0s 13ms/step - loss: 7.5876 - mae: 7.5876\n",
            "Epoch 186/500\n",
            "2/2 [==============================] - 0s 6ms/step - loss: 15.9848 - mae: 15.9848\n",
            "Epoch 187/500\n",
            "2/2 [==============================] - 0s 7ms/step - loss: 8.6030 - mae: 8.6030\n",
            "Epoch 188/500\n",
            "2/2 [==============================] - 0s 11ms/step - loss: 28.7597 - mae: 28.7597\n",
            "Epoch 189/500\n",
            "2/2 [==============================] - 0s 10ms/step - loss: 13.1783 - mae: 13.1783\n",
            "Epoch 190/500\n",
            "2/2 [==============================] - 0s 10ms/step - loss: 18.3223 - mae: 18.3223\n",
            "Epoch 191/500\n",
            "2/2 [==============================] - 0s 9ms/step - loss: 13.7529 - mae: 13.7529\n",
            "Epoch 192/500\n",
            "2/2 [==============================] - 0s 8ms/step - loss: 13.7311 - mae: 13.7311\n",
            "Epoch 193/500\n",
            "2/2 [==============================] - 0s 9ms/step - loss: 28.5937 - mae: 28.5937\n",
            "Epoch 194/500\n",
            "2/2 [==============================] - 0s 10ms/step - loss: 7.0937 - mae: 7.0937\n",
            "Epoch 195/500\n",
            "2/2 [==============================] - 0s 9ms/step - loss: 7.0888 - mae: 7.0888\n",
            "Epoch 196/500\n",
            "2/2 [==============================] - 0s 7ms/step - loss: 22.0412 - mae: 22.0412\n",
            "Epoch 197/500\n",
            "2/2 [==============================] - 0s 14ms/step - loss: 20.7798 - mae: 20.7798\n",
            "Epoch 198/500\n",
            "2/2 [==============================] - 0s 12ms/step - loss: 12.4451 - mae: 12.4451\n",
            "Epoch 199/500\n",
            "2/2 [==============================] - 0s 7ms/step - loss: 17.8517 - mae: 17.8517\n",
            "Epoch 200/500\n",
            "2/2 [==============================] - 0s 10ms/step - loss: 13.6976 - mae: 13.6976\n",
            "Epoch 201/500\n",
            "2/2 [==============================] - 0s 11ms/step - loss: 5.5117 - mae: 5.5117\n",
            "Epoch 202/500\n",
            "2/2 [==============================] - 0s 14ms/step - loss: 13.6463 - mae: 13.6463\n",
            "Epoch 203/500\n",
            "2/2 [==============================] - 0s 6ms/step - loss: 9.4264 - mae: 9.4264\n",
            "Epoch 204/500\n",
            "2/2 [==============================] - 0s 5ms/step - loss: 20.8496 - mae: 20.8496\n",
            "Epoch 205/500\n",
            "2/2 [==============================] - 0s 13ms/step - loss: 9.5375 - mae: 9.5375\n",
            "Epoch 206/500\n",
            "2/2 [==============================] - 0s 8ms/step - loss: 11.1761 - mae: 11.1761\n",
            "Epoch 207/500\n",
            "2/2 [==============================] - 0s 11ms/step - loss: 17.7283 - mae: 17.7283\n",
            "Epoch 208/500\n",
            "2/2 [==============================] - 0s 10ms/step - loss: 14.4239 - mae: 14.4239\n",
            "Epoch 209/500\n",
            "2/2 [==============================] - 0s 6ms/step - loss: 16.7506 - mae: 16.7506\n",
            "Epoch 210/500\n",
            "2/2 [==============================] - 0s 8ms/step - loss: 18.2738 - mae: 18.2738\n",
            "Epoch 211/500\n",
            "2/2 [==============================] - 0s 7ms/step - loss: 9.9818 - mae: 9.9818\n",
            "Epoch 212/500\n",
            "2/2 [==============================] - 0s 12ms/step - loss: 18.7557 - mae: 18.7557\n",
            "Epoch 213/500\n",
            "2/2 [==============================] - 0s 9ms/step - loss: 14.9412 - mae: 14.9412\n",
            "Epoch 214/500\n",
            "2/2 [==============================] - 0s 6ms/step - loss: 14.5283 - mae: 14.5283\n",
            "Epoch 215/500\n",
            "2/2 [==============================] - 0s 14ms/step - loss: 23.1686 - mae: 23.1686\n",
            "Epoch 216/500\n",
            "2/2 [==============================] - 0s 5ms/step - loss: 13.6047 - mae: 13.6047\n",
            "Epoch 217/500\n",
            "2/2 [==============================] - 0s 9ms/step - loss: 10.0734 - mae: 10.0734\n",
            "Epoch 218/500\n",
            "2/2 [==============================] - 0s 5ms/step - loss: 12.4186 - mae: 12.4186\n",
            "Epoch 219/500\n",
            "2/2 [==============================] - 0s 6ms/step - loss: 5.8714 - mae: 5.8714\n",
            "Epoch 220/500\n",
            "2/2 [==============================] - 0s 6ms/step - loss: 10.2063 - mae: 10.2063\n",
            "Epoch 221/500\n",
            "2/2 [==============================] - 0s 17ms/step - loss: 28.8826 - mae: 28.8826\n",
            "Epoch 222/500\n",
            "2/2 [==============================] - 0s 12ms/step - loss: 28.0702 - mae: 28.0702\n",
            "Epoch 223/500\n",
            "2/2 [==============================] - 0s 9ms/step - loss: 10.0777 - mae: 10.0777\n",
            "Epoch 224/500\n",
            "2/2 [==============================] - 0s 6ms/step - loss: 14.6278 - mae: 14.6278\n",
            "Epoch 225/500\n",
            "2/2 [==============================] - 0s 17ms/step - loss: 16.6448 - mae: 16.6448\n",
            "Epoch 226/500\n",
            "2/2 [==============================] - 0s 10ms/step - loss: 15.8666 - mae: 15.8666\n",
            "Epoch 227/500\n",
            "2/2 [==============================] - 0s 10ms/step - loss: 16.0852 - mae: 16.0852\n",
            "Epoch 228/500\n",
            "2/2 [==============================] - 0s 16ms/step - loss: 13.8641 - mae: 13.8641\n",
            "Epoch 229/500\n",
            "2/2 [==============================] - 0s 6ms/step - loss: 17.9840 - mae: 17.9840\n",
            "Epoch 230/500\n",
            "2/2 [==============================] - 0s 11ms/step - loss: 15.5783 - mae: 15.5783\n",
            "Epoch 231/500\n",
            "2/2 [==============================] - 0s 11ms/step - loss: 21.1014 - mae: 21.1014\n",
            "Epoch 232/500\n",
            "2/2 [==============================] - 0s 8ms/step - loss: 25.5060 - mae: 25.5060\n",
            "Epoch 233/500\n",
            "2/2 [==============================] - 0s 6ms/step - loss: 16.5073 - mae: 16.5073\n",
            "Epoch 234/500\n",
            "2/2 [==============================] - 0s 7ms/step - loss: 7.3624 - mae: 7.3624\n",
            "Epoch 235/500\n",
            "2/2 [==============================] - 0s 11ms/step - loss: 17.1463 - mae: 17.1463\n",
            "Epoch 236/500\n",
            "2/2 [==============================] - 0s 14ms/step - loss: 7.2218 - mae: 7.2218\n",
            "Epoch 237/500\n",
            "2/2 [==============================] - 0s 4ms/step - loss: 9.3194 - mae: 9.3194\n",
            "Epoch 238/500\n",
            "2/2 [==============================] - 0s 4ms/step - loss: 8.1775 - mae: 8.1775\n",
            "Epoch 239/500\n",
            "2/2 [==============================] - 0s 4ms/step - loss: 17.1610 - mae: 17.1610\n",
            "Epoch 240/500\n",
            "2/2 [==============================] - 0s 4ms/step - loss: 8.9479 - mae: 8.9479\n",
            "Epoch 241/500\n",
            "2/2 [==============================] - 0s 5ms/step - loss: 13.2574 - mae: 13.2574\n",
            "Epoch 242/500\n",
            "2/2 [==============================] - 0s 16ms/step - loss: 8.8585 - mae: 8.8585\n",
            "Epoch 243/500\n",
            "2/2 [==============================] - 0s 4ms/step - loss: 18.8868 - mae: 18.8868\n",
            "Epoch 244/500\n",
            "2/2 [==============================] - 0s 5ms/step - loss: 14.0563 - mae: 14.0563\n",
            "Epoch 245/500\n",
            "2/2 [==============================] - 0s 5ms/step - loss: 14.6840 - mae: 14.6840\n",
            "Epoch 246/500\n",
            "2/2 [==============================] - 0s 5ms/step - loss: 15.8171 - mae: 15.8171\n",
            "Epoch 247/500\n",
            "2/2 [==============================] - 0s 5ms/step - loss: 17.6968 - mae: 17.6968\n",
            "Epoch 248/500\n",
            "2/2 [==============================] - 0s 5ms/step - loss: 13.2535 - mae: 13.2535\n",
            "Epoch 249/500\n",
            "2/2 [==============================] - 0s 15ms/step - loss: 14.5275 - mae: 14.5275\n",
            "Epoch 250/500\n",
            "2/2 [==============================] - 0s 4ms/step - loss: 23.2527 - mae: 23.2527\n",
            "Epoch 251/500\n",
            "2/2 [==============================] - 0s 6ms/step - loss: 9.3337 - mae: 9.3337\n",
            "Epoch 252/500\n",
            "2/2 [==============================] - 0s 11ms/step - loss: 36.5868 - mae: 36.5868\n",
            "Epoch 253/500\n",
            "2/2 [==============================] - 0s 4ms/step - loss: 21.7806 - mae: 21.7806\n",
            "Epoch 254/500\n",
            "2/2 [==============================] - 0s 6ms/step - loss: 7.3169 - mae: 7.3169\n",
            "Epoch 255/500\n",
            "2/2 [==============================] - 0s 7ms/step - loss: 24.6447 - mae: 24.6447\n",
            "Epoch 256/500\n",
            "2/2 [==============================] - 0s 8ms/step - loss: 12.4180 - mae: 12.4180\n",
            "Epoch 257/500\n",
            "2/2 [==============================] - 0s 9ms/step - loss: 10.5846 - mae: 10.5846\n",
            "Epoch 258/500\n",
            "2/2 [==============================] - 0s 4ms/step - loss: 14.1860 - mae: 14.1860\n",
            "Epoch 259/500\n",
            "2/2 [==============================] - 0s 4ms/step - loss: 11.2612 - mae: 11.2612\n",
            "Epoch 260/500\n",
            "2/2 [==============================] - 0s 4ms/step - loss: 31.5571 - mae: 31.5571\n",
            "Epoch 261/500\n",
            "2/2 [==============================] - 0s 5ms/step - loss: 11.1806 - mae: 11.1806\n",
            "Epoch 262/500\n",
            "2/2 [==============================] - 0s 5ms/step - loss: 10.0363 - mae: 10.0363\n",
            "Epoch 263/500\n",
            "2/2 [==============================] - 0s 4ms/step - loss: 8.9539 - mae: 8.9539\n",
            "Epoch 264/500\n",
            "2/2 [==============================] - 0s 4ms/step - loss: 21.4497 - mae: 21.4497\n",
            "Epoch 265/500\n",
            "2/2 [==============================] - 0s 9ms/step - loss: 11.4696 - mae: 11.4696\n",
            "Epoch 266/500\n",
            "2/2 [==============================] - 0s 5ms/step - loss: 13.3109 - mae: 13.3109\n",
            "Epoch 267/500\n",
            "2/2 [==============================] - 0s 5ms/step - loss: 11.0960 - mae: 11.0960\n",
            "Epoch 268/500\n",
            "2/2 [==============================] - 0s 7ms/step - loss: 19.1819 - mae: 19.1819\n",
            "Epoch 269/500\n",
            "2/2 [==============================] - 0s 5ms/step - loss: 40.6321 - mae: 40.6321\n",
            "Epoch 270/500\n",
            "2/2 [==============================] - 0s 4ms/step - loss: 12.8939 - mae: 12.8939\n",
            "Epoch 271/500\n",
            "2/2 [==============================] - 0s 4ms/step - loss: 14.7735 - mae: 14.7735\n",
            "Epoch 272/500\n",
            "2/2 [==============================] - 0s 4ms/step - loss: 28.5239 - mae: 28.5239\n",
            "Epoch 273/500\n",
            "2/2 [==============================] - 0s 4ms/step - loss: 7.3650 - mae: 7.3650\n",
            "Epoch 274/500\n",
            "2/2 [==============================] - 0s 4ms/step - loss: 6.3646 - mae: 6.3646\n",
            "Epoch 275/500\n",
            "2/2 [==============================] - 0s 5ms/step - loss: 36.8360 - mae: 36.8360\n",
            "Epoch 276/500\n",
            "2/2 [==============================] - 0s 14ms/step - loss: 8.2925 - mae: 8.2925\n",
            "Epoch 277/500\n",
            "2/2 [==============================] - 0s 6ms/step - loss: 27.6667 - mae: 27.6667\n",
            "Epoch 278/500\n",
            "2/2 [==============================] - 0s 8ms/step - loss: 10.6925 - mae: 10.6925\n",
            "Epoch 279/500\n",
            "2/2 [==============================] - 0s 9ms/step - loss: 16.1201 - mae: 16.1201\n",
            "Epoch 280/500\n",
            "2/2 [==============================] - 0s 8ms/step - loss: 21.2550 - mae: 21.2550\n",
            "Epoch 281/500\n",
            "2/2 [==============================] - 0s 24ms/step - loss: 23.7470 - mae: 23.7470\n",
            "Epoch 282/500\n",
            "2/2 [==============================] - 0s 9ms/step - loss: 8.2580 - mae: 8.2580\n",
            "Epoch 283/500\n",
            "2/2 [==============================] - 0s 4ms/step - loss: 8.4443 - mae: 8.4443\n",
            "Epoch 284/500\n",
            "2/2 [==============================] - 0s 16ms/step - loss: 26.5833 - mae: 26.5833\n",
            "Epoch 285/500\n",
            "2/2 [==============================] - 0s 18ms/step - loss: 14.1990 - mae: 14.1990\n",
            "Epoch 286/500\n",
            "2/2 [==============================] - 0s 13ms/step - loss: 5.2652 - mae: 5.2652\n",
            "Epoch 287/500\n",
            "2/2 [==============================] - 0s 17ms/step - loss: 20.8363 - mae: 20.8363\n",
            "Epoch 288/500\n",
            "2/2 [==============================] - 0s 19ms/step - loss: 27.5655 - mae: 27.5655\n",
            "Epoch 289/500\n",
            "2/2 [==============================] - 0s 7ms/step - loss: 10.4466 - mae: 10.4466\n",
            "Epoch 290/500\n",
            "2/2 [==============================] - 0s 4ms/step - loss: 16.3190 - mae: 16.3190\n",
            "Epoch 291/500\n",
            "2/2 [==============================] - 0s 13ms/step - loss: 16.5101 - mae: 16.5101\n",
            "Epoch 292/500\n",
            "2/2 [==============================] - 0s 9ms/step - loss: 7.4372 - mae: 7.4372\n",
            "Epoch 293/500\n",
            "2/2 [==============================] - 0s 16ms/step - loss: 16.5537 - mae: 16.5537\n",
            "Epoch 294/500\n",
            "2/2 [==============================] - 0s 15ms/step - loss: 25.3454 - mae: 25.3454\n",
            "Epoch 295/500\n",
            "2/2 [==============================] - 0s 23ms/step - loss: 14.5567 - mae: 14.5567\n",
            "Epoch 296/500\n",
            "2/2 [==============================] - 0s 42ms/step - loss: 4.6779 - mae: 4.6779\n",
            "Epoch 297/500\n",
            "2/2 [==============================] - 0s 12ms/step - loss: 7.2820 - mae: 7.2820\n",
            "Epoch 298/500\n",
            "2/2 [==============================] - 0s 9ms/step - loss: 19.5894 - mae: 19.5894\n",
            "Epoch 299/500\n",
            "2/2 [==============================] - 0s 14ms/step - loss: 6.6188 - mae: 6.6188\n",
            "Epoch 300/500\n",
            "2/2 [==============================] - 0s 13ms/step - loss: 22.0367 - mae: 22.0367\n",
            "Epoch 301/500\n",
            "2/2 [==============================] - 0s 6ms/step - loss: 9.1308 - mae: 9.1308\n",
            "Epoch 302/500\n",
            "2/2 [==============================] - 0s 4ms/step - loss: 11.1834 - mae: 11.1834\n",
            "Epoch 303/500\n",
            "2/2 [==============================] - 0s 16ms/step - loss: 9.3357 - mae: 9.3357\n",
            "Epoch 304/500\n",
            "2/2 [==============================] - 0s 8ms/step - loss: 23.6902 - mae: 23.6902\n",
            "Epoch 305/500\n",
            "2/2 [==============================] - 0s 7ms/step - loss: 7.9213 - mae: 7.9213\n",
            "Epoch 306/500\n",
            "2/2 [==============================] - 0s 4ms/step - loss: 23.7434 - mae: 23.7434\n",
            "Epoch 307/500\n",
            "2/2 [==============================] - 0s 16ms/step - loss: 5.8868 - mae: 5.8868\n",
            "Epoch 308/500\n",
            "2/2 [==============================] - 0s 8ms/step - loss: 21.3286 - mae: 21.3286\n",
            "Epoch 309/500\n",
            "2/2 [==============================] - 0s 7ms/step - loss: 18.3994 - mae: 18.3994\n",
            "Epoch 310/500\n",
            "2/2 [==============================] - 0s 4ms/step - loss: 4.4978 - mae: 4.4978\n",
            "Epoch 311/500\n",
            "2/2 [==============================] - 0s 31ms/step - loss: 6.5091 - mae: 6.5091\n",
            "Epoch 312/500\n",
            "2/2 [==============================] - 0s 14ms/step - loss: 35.4382 - mae: 35.4382\n",
            "Epoch 313/500\n",
            "2/2 [==============================] - 0s 14ms/step - loss: 28.9148 - mae: 28.9148\n",
            "Epoch 314/500\n",
            "2/2 [==============================] - 0s 24ms/step - loss: 11.1945 - mae: 11.1945\n",
            "Epoch 315/500\n",
            "2/2 [==============================] - 0s 10ms/step - loss: 23.5547 - mae: 23.5547\n",
            "Epoch 316/500\n",
            "2/2 [==============================] - 0s 5ms/step - loss: 14.4208 - mae: 14.4208\n",
            "Epoch 317/500\n",
            "2/2 [==============================] - 0s 4ms/step - loss: 19.9661 - mae: 19.9661\n",
            "Epoch 318/500\n",
            "2/2 [==============================] - 0s 5ms/step - loss: 7.9955 - mae: 7.9955\n",
            "Epoch 319/500\n",
            "2/2 [==============================] - 0s 10ms/step - loss: 18.1037 - mae: 18.1037\n",
            "Epoch 320/500\n",
            "2/2 [==============================] - 0s 5ms/step - loss: 10.6353 - mae: 10.6353\n",
            "Epoch 321/500\n",
            "2/2 [==============================] - 0s 15ms/step - loss: 7.0212 - mae: 7.0212\n",
            "Epoch 322/500\n",
            "2/2 [==============================] - 0s 5ms/step - loss: 8.6726 - mae: 8.6726\n",
            "Epoch 323/500\n",
            "2/2 [==============================] - 0s 4ms/step - loss: 18.3385 - mae: 18.3385\n",
            "Epoch 324/500\n",
            "2/2 [==============================] - 0s 7ms/step - loss: 6.3034 - mae: 6.3034\n",
            "Epoch 325/500\n",
            "2/2 [==============================] - 0s 4ms/step - loss: 14.6095 - mae: 14.6095\n",
            "Epoch 326/500\n",
            "2/2 [==============================] - 0s 4ms/step - loss: 6.9862 - mae: 6.9862\n",
            "Epoch 327/500\n",
            "2/2 [==============================] - 0s 4ms/step - loss: 17.6240 - mae: 17.6240\n",
            "Epoch 328/500\n",
            "2/2 [==============================] - 0s 5ms/step - loss: 14.3733 - mae: 14.3733\n",
            "Epoch 329/500\n",
            "2/2 [==============================] - 0s 5ms/step - loss: 17.6845 - mae: 17.6845\n",
            "Epoch 330/500\n",
            "2/2 [==============================] - 0s 4ms/step - loss: 6.7786 - mae: 6.7786\n",
            "Epoch 331/500\n",
            "2/2 [==============================] - 0s 11ms/step - loss: 19.7463 - mae: 19.7463\n",
            "Epoch 332/500\n",
            "2/2 [==============================] - 0s 11ms/step - loss: 10.5487 - mae: 10.5487\n",
            "Epoch 333/500\n",
            "2/2 [==============================] - 0s 17ms/step - loss: 16.3443 - mae: 16.3443\n",
            "Epoch 334/500\n",
            "2/2 [==============================] - 0s 11ms/step - loss: 9.7153 - mae: 9.7153\n",
            "Epoch 335/500\n",
            "2/2 [==============================] - 0s 7ms/step - loss: 13.0544 - mae: 13.0544\n",
            "Epoch 336/500\n",
            "2/2 [==============================] - 0s 11ms/step - loss: 32.4919 - mae: 32.4919\n",
            "Epoch 337/500\n",
            "2/2 [==============================] - 0s 8ms/step - loss: 11.0362 - mae: 11.0362\n",
            "Epoch 338/500\n",
            "2/2 [==============================] - 0s 17ms/step - loss: 19.9478 - mae: 19.9478\n",
            "Epoch 339/500\n",
            "2/2 [==============================] - 0s 10ms/step - loss: 34.3322 - mae: 34.3322\n",
            "Epoch 340/500\n",
            "2/2 [==============================] - 0s 20ms/step - loss: 9.2796 - mae: 9.2796\n",
            "Epoch 341/500\n",
            "2/2 [==============================] - 0s 9ms/step - loss: 17.3007 - mae: 17.3007\n",
            "Epoch 342/500\n",
            "2/2 [==============================] - 0s 10ms/step - loss: 14.9113 - mae: 14.9113\n",
            "Epoch 343/500\n",
            "2/2 [==============================] - 0s 9ms/step - loss: 10.3158 - mae: 10.3158\n",
            "Epoch 344/500\n",
            "2/2 [==============================] - 0s 9ms/step - loss: 9.9336 - mae: 9.9336\n",
            "Epoch 345/500\n",
            "2/2 [==============================] - 0s 11ms/step - loss: 30.8990 - mae: 30.8990\n",
            "Epoch 346/500\n",
            "2/2 [==============================] - 0s 7ms/step - loss: 10.6250 - mae: 10.6250\n",
            "Epoch 347/500\n",
            "2/2 [==============================] - 0s 4ms/step - loss: 25.5353 - mae: 25.5353\n",
            "Epoch 348/500\n",
            "2/2 [==============================] - 0s 6ms/step - loss: 13.3548 - mae: 13.3548\n",
            "Epoch 349/500\n",
            "2/2 [==============================] - 0s 5ms/step - loss: 13.0062 - mae: 13.0062\n",
            "Epoch 350/500\n",
            "2/2 [==============================] - 0s 7ms/step - loss: 15.3883 - mae: 15.3883\n",
            "Epoch 351/500\n",
            "2/2 [==============================] - 0s 15ms/step - loss: 32.8591 - mae: 32.8591\n",
            "Epoch 352/500\n",
            "2/2 [==============================] - 0s 6ms/step - loss: 14.0585 - mae: 14.0585\n",
            "Epoch 353/500\n",
            "2/2 [==============================] - 0s 7ms/step - loss: 17.7457 - mae: 17.7457\n",
            "Epoch 354/500\n",
            "2/2 [==============================] - 0s 9ms/step - loss: 11.3276 - mae: 11.3276\n",
            "Epoch 355/500\n",
            "2/2 [==============================] - 0s 7ms/step - loss: 26.7386 - mae: 26.7386\n",
            "Epoch 356/500\n",
            "2/2 [==============================] - 0s 7ms/step - loss: 10.1938 - mae: 10.1938\n",
            "Epoch 357/500\n",
            "2/2 [==============================] - 0s 5ms/step - loss: 14.7789 - mae: 14.7789\n",
            "Epoch 358/500\n",
            "2/2 [==============================] - 0s 10ms/step - loss: 14.6655 - mae: 14.6655\n",
            "Epoch 359/500\n",
            "2/2 [==============================] - 0s 9ms/step - loss: 12.3235 - mae: 12.3235\n",
            "Epoch 360/500\n",
            "2/2 [==============================] - 0s 5ms/step - loss: 20.3227 - mae: 20.3227\n",
            "Epoch 361/500\n",
            "2/2 [==============================] - 0s 10ms/step - loss: 10.9378 - mae: 10.9378\n",
            "Epoch 362/500\n",
            "2/2 [==============================] - 0s 8ms/step - loss: 6.8188 - mae: 6.8188\n",
            "Epoch 363/500\n",
            "2/2 [==============================] - 0s 9ms/step - loss: 23.8777 - mae: 23.8777\n",
            "Epoch 364/500\n",
            "2/2 [==============================] - 0s 10ms/step - loss: 29.6006 - mae: 29.6006\n",
            "Epoch 365/500\n",
            "2/2 [==============================] - 0s 6ms/step - loss: 8.3080 - mae: 8.3080\n",
            "Epoch 366/500\n",
            "2/2 [==============================] - 0s 4ms/step - loss: 6.1020 - mae: 6.1020\n",
            "Epoch 367/500\n",
            "2/2 [==============================] - 0s 12ms/step - loss: 34.7128 - mae: 34.7128\n",
            "Epoch 368/500\n",
            "2/2 [==============================] - 0s 15ms/step - loss: 7.3756 - mae: 7.3756\n",
            "Epoch 369/500\n",
            "2/2 [==============================] - 0s 4ms/step - loss: 9.1755 - mae: 9.1755\n",
            "Epoch 370/500\n",
            "2/2 [==============================] - 0s 8ms/step - loss: 10.8642 - mae: 10.8642\n",
            "Epoch 371/500\n",
            "2/2 [==============================] - 0s 14ms/step - loss: 8.6410 - mae: 8.6410\n",
            "Epoch 372/500\n",
            "2/2 [==============================] - 0s 10ms/step - loss: 6.4582 - mae: 6.4582\n",
            "Epoch 373/500\n",
            "2/2 [==============================] - 0s 10ms/step - loss: 23.4218 - mae: 23.4218\n",
            "Epoch 374/500\n",
            "2/2 [==============================] - 0s 15ms/step - loss: 10.4537 - mae: 10.4537\n",
            "Epoch 375/500\n",
            "2/2 [==============================] - 0s 12ms/step - loss: 13.0513 - mae: 13.0513\n",
            "Epoch 376/500\n",
            "2/2 [==============================] - 0s 7ms/step - loss: 14.9367 - mae: 14.9367\n",
            "Epoch 377/500\n",
            "2/2 [==============================] - 0s 14ms/step - loss: 14.8224 - mae: 14.8224\n",
            "Epoch 378/500\n",
            "2/2 [==============================] - 0s 8ms/step - loss: 16.2965 - mae: 16.2965\n",
            "Epoch 379/500\n",
            "2/2 [==============================] - 0s 4ms/step - loss: 20.8894 - mae: 20.8894\n",
            "Epoch 380/500\n",
            "2/2 [==============================] - 0s 9ms/step - loss: 33.3745 - mae: 33.3745\n",
            "Epoch 381/500\n",
            "2/2 [==============================] - 0s 13ms/step - loss: 8.1589 - mae: 8.1589\n",
            "Epoch 382/500\n",
            "2/2 [==============================] - 0s 4ms/step - loss: 13.0057 - mae: 13.0057\n",
            "Epoch 383/500\n",
            "2/2 [==============================] - 0s 6ms/step - loss: 8.4480 - mae: 8.4480\n",
            "Epoch 384/500\n",
            "2/2 [==============================] - 0s 4ms/step - loss: 7.0604 - mae: 7.0604\n",
            "Epoch 385/500\n",
            "2/2 [==============================] - 0s 5ms/step - loss: 10.9545 - mae: 10.9545\n",
            "Epoch 386/500\n",
            "2/2 [==============================] - 0s 5ms/step - loss: 19.8100 - mae: 19.8100\n",
            "Epoch 387/500\n",
            "2/2 [==============================] - 0s 10ms/step - loss: 24.7597 - mae: 24.7597\n",
            "Epoch 388/500\n",
            "2/2 [==============================] - 0s 10ms/step - loss: 8.6847 - mae: 8.6847\n",
            "Epoch 389/500\n",
            "2/2 [==============================] - 0s 9ms/step - loss: 5.9197 - mae: 5.9197\n",
            "Epoch 390/500\n",
            "2/2 [==============================] - 0s 7ms/step - loss: 24.3429 - mae: 24.3429\n",
            "Epoch 391/500\n",
            "2/2 [==============================] - 0s 6ms/step - loss: 5.9424 - mae: 5.9424\n",
            "Epoch 392/500\n",
            "2/2 [==============================] - 0s 5ms/step - loss: 16.0986 - mae: 16.0986\n",
            "Epoch 393/500\n",
            "2/2 [==============================] - 0s 5ms/step - loss: 6.4637 - mae: 6.4637\n",
            "Epoch 394/500\n",
            "2/2 [==============================] - 0s 4ms/step - loss: 12.5467 - mae: 12.5467\n",
            "Epoch 395/500\n",
            "2/2 [==============================] - 0s 5ms/step - loss: 12.4191 - mae: 12.4191\n",
            "Epoch 396/500\n",
            "2/2 [==============================] - 0s 6ms/step - loss: 7.3306 - mae: 7.3306\n",
            "Epoch 397/500\n",
            "2/2 [==============================] - 0s 4ms/step - loss: 7.5898 - mae: 7.5898\n",
            "Epoch 398/500\n",
            "2/2 [==============================] - 0s 8ms/step - loss: 20.3907 - mae: 20.3907\n",
            "Epoch 399/500\n",
            "2/2 [==============================] - 0s 7ms/step - loss: 5.8798 - mae: 5.8798\n",
            "Epoch 400/500\n",
            "2/2 [==============================] - 0s 5ms/step - loss: 24.5904 - mae: 24.5904\n",
            "Epoch 401/500\n",
            "2/2 [==============================] - 0s 5ms/step - loss: 13.2331 - mae: 13.2331\n",
            "Epoch 402/500\n",
            "2/2 [==============================] - 0s 8ms/step - loss: 8.3559 - mae: 8.3559\n",
            "Epoch 403/500\n",
            "2/2 [==============================] - 0s 7ms/step - loss: 10.2302 - mae: 10.2302\n",
            "Epoch 404/500\n",
            "2/2 [==============================] - 0s 6ms/step - loss: 10.0815 - mae: 10.0815\n",
            "Epoch 405/500\n",
            "2/2 [==============================] - 0s 8ms/step - loss: 6.2633 - mae: 6.2633\n",
            "Epoch 406/500\n",
            "2/2 [==============================] - 0s 6ms/step - loss: 19.4353 - mae: 19.4353\n",
            "Epoch 407/500\n",
            "2/2 [==============================] - 0s 10ms/step - loss: 10.2699 - mae: 10.2699\n",
            "Epoch 408/500\n",
            "2/2 [==============================] - 0s 9ms/step - loss: 20.8920 - mae: 20.8920\n",
            "Epoch 409/500\n",
            "2/2 [==============================] - 0s 17ms/step - loss: 30.8533 - mae: 30.8533\n",
            "Epoch 410/500\n",
            "2/2 [==============================] - 0s 21ms/step - loss: 9.3428 - mae: 9.3428\n",
            "Epoch 411/500\n",
            "2/2 [==============================] - 0s 12ms/step - loss: 14.9321 - mae: 14.9321\n",
            "Epoch 412/500\n",
            "2/2 [==============================] - 0s 19ms/step - loss: 21.8482 - mae: 21.8482\n",
            "Epoch 413/500\n",
            "2/2 [==============================] - 0s 18ms/step - loss: 12.4072 - mae: 12.4072\n",
            "Epoch 414/500\n",
            "2/2 [==============================] - 0s 7ms/step - loss: 6.6135 - mae: 6.6135\n",
            "Epoch 415/500\n",
            "2/2 [==============================] - 0s 6ms/step - loss: 12.7063 - mae: 12.7063\n",
            "Epoch 416/500\n",
            "2/2 [==============================] - 0s 9ms/step - loss: 26.9449 - mae: 26.9449\n",
            "Epoch 417/500\n",
            "2/2 [==============================] - 0s 11ms/step - loss: 12.0251 - mae: 12.0251\n",
            "Epoch 418/500\n",
            "2/2 [==============================] - 0s 14ms/step - loss: 13.0729 - mae: 13.0729\n",
            "Epoch 419/500\n",
            "2/2 [==============================] - 0s 21ms/step - loss: 16.0353 - mae: 16.0353\n",
            "Epoch 420/500\n",
            "2/2 [==============================] - 0s 4ms/step - loss: 25.0797 - mae: 25.0797\n",
            "Epoch 421/500\n",
            "2/2 [==============================] - 0s 8ms/step - loss: 16.5748 - mae: 16.5748\n",
            "Epoch 422/500\n",
            "2/2 [==============================] - 0s 8ms/step - loss: 8.6843 - mae: 8.6843\n",
            "Epoch 423/500\n",
            "2/2 [==============================] - 0s 16ms/step - loss: 24.8024 - mae: 24.8024\n",
            "Epoch 424/500\n",
            "2/2 [==============================] - 0s 4ms/step - loss: 16.5056 - mae: 16.5056\n",
            "Epoch 425/500\n",
            "2/2 [==============================] - 0s 6ms/step - loss: 7.2266 - mae: 7.2266\n",
            "Epoch 426/500\n",
            "2/2 [==============================] - 0s 5ms/step - loss: 20.6458 - mae: 20.6458\n",
            "Epoch 427/500\n",
            "2/2 [==============================] - 0s 5ms/step - loss: 6.3986 - mae: 6.3986\n",
            "Epoch 428/500\n",
            "2/2 [==============================] - 0s 9ms/step - loss: 13.2138 - mae: 13.2138\n",
            "Epoch 429/500\n",
            "2/2 [==============================] - 0s 6ms/step - loss: 10.9741 - mae: 10.9741\n",
            "Epoch 430/500\n",
            "2/2 [==============================] - 0s 5ms/step - loss: 11.8502 - mae: 11.8502\n",
            "Epoch 431/500\n",
            "2/2 [==============================] - 0s 6ms/step - loss: 8.4907 - mae: 8.4907\n",
            "Epoch 432/500\n",
            "2/2 [==============================] - 0s 18ms/step - loss: 18.5577 - mae: 18.5577\n",
            "Epoch 433/500\n",
            "2/2 [==============================] - 0s 11ms/step - loss: 10.1399 - mae: 10.1399\n",
            "Epoch 434/500\n",
            "2/2 [==============================] - 0s 5ms/step - loss: 30.6716 - mae: 30.6716\n",
            "Epoch 435/500\n",
            "2/2 [==============================] - 0s 6ms/step - loss: 11.1748 - mae: 11.1748\n",
            "Epoch 436/500\n",
            "2/2 [==============================] - 0s 5ms/step - loss: 28.7722 - mae: 28.7722\n",
            "Epoch 437/500\n",
            "2/2 [==============================] - 0s 5ms/step - loss: 8.0387 - mae: 8.0387\n",
            "Epoch 438/500\n",
            "2/2 [==============================] - 0s 5ms/step - loss: 12.8111 - mae: 12.8111\n",
            "Epoch 439/500\n",
            "2/2 [==============================] - 0s 5ms/step - loss: 33.9087 - mae: 33.9087\n",
            "Epoch 440/500\n",
            "2/2 [==============================] - 0s 6ms/step - loss: 15.4282 - mae: 15.4282\n",
            "Epoch 441/500\n",
            "2/2 [==============================] - 0s 5ms/step - loss: 17.7708 - mae: 17.7708\n",
            "Epoch 442/500\n",
            "2/2 [==============================] - 0s 4ms/step - loss: 6.4168 - mae: 6.4168\n",
            "Epoch 443/500\n",
            "2/2 [==============================] - 0s 4ms/step - loss: 12.8951 - mae: 12.8951\n",
            "Epoch 444/500\n",
            "2/2 [==============================] - 0s 4ms/step - loss: 5.5577 - mae: 5.5577\n",
            "Epoch 445/500\n",
            "2/2 [==============================] - 0s 5ms/step - loss: 9.6911 - mae: 9.6911\n",
            "Epoch 446/500\n",
            "2/2 [==============================] - 0s 10ms/step - loss: 15.1375 - mae: 15.1375\n",
            "Epoch 447/500\n",
            "2/2 [==============================] - 0s 10ms/step - loss: 22.3797 - mae: 22.3797\n",
            "Epoch 448/500\n",
            "2/2 [==============================] - 0s 5ms/step - loss: 13.6292 - mae: 13.6292\n",
            "Epoch 449/500\n",
            "2/2 [==============================] - 0s 4ms/step - loss: 11.7118 - mae: 11.7118\n",
            "Epoch 450/500\n",
            "2/2 [==============================] - 0s 9ms/step - loss: 15.2425 - mae: 15.2425\n",
            "Epoch 451/500\n",
            "2/2 [==============================] - 0s 11ms/step - loss: 17.0833 - mae: 17.0833\n",
            "Epoch 452/500\n",
            "2/2 [==============================] - 0s 6ms/step - loss: 45.3382 - mae: 45.3382\n",
            "Epoch 453/500\n",
            "2/2 [==============================] - 0s 10ms/step - loss: 26.1022 - mae: 26.1022\n",
            "Epoch 454/500\n",
            "2/2 [==============================] - 0s 6ms/step - loss: 22.7545 - mae: 22.7545\n",
            "Epoch 455/500\n",
            "2/2 [==============================] - 0s 4ms/step - loss: 8.0246 - mae: 8.0246\n",
            "Epoch 456/500\n",
            "2/2 [==============================] - 0s 7ms/step - loss: 10.4082 - mae: 10.4082\n",
            "Epoch 457/500\n",
            "2/2 [==============================] - 0s 8ms/step - loss: 15.0143 - mae: 15.0143\n",
            "Epoch 458/500\n",
            "2/2 [==============================] - 0s 5ms/step - loss: 16.5696 - mae: 16.5696\n",
            "Epoch 459/500\n",
            "2/2 [==============================] - 0s 8ms/step - loss: 26.8504 - mae: 26.8504\n",
            "Epoch 460/500\n",
            "2/2 [==============================] - 0s 7ms/step - loss: 12.4544 - mae: 12.4544\n",
            "Epoch 461/500\n",
            "2/2 [==============================] - 0s 4ms/step - loss: 12.4981 - mae: 12.4981\n",
            "Epoch 462/500\n",
            "2/2 [==============================] - 0s 8ms/step - loss: 13.3250 - mae: 13.3250\n",
            "Epoch 463/500\n",
            "2/2 [==============================] - 0s 16ms/step - loss: 29.5628 - mae: 29.5628\n",
            "Epoch 464/500\n",
            "2/2 [==============================] - 0s 4ms/step - loss: 3.4787 - mae: 3.4787\n",
            "Epoch 465/500\n",
            "2/2 [==============================] - 0s 12ms/step - loss: 15.2241 - mae: 15.2241\n",
            "Epoch 466/500\n",
            "2/2 [==============================] - 0s 9ms/step - loss: 20.8594 - mae: 20.8594\n",
            "Epoch 467/500\n",
            "2/2 [==============================] - 0s 22ms/step - loss: 30.4365 - mae: 30.4365\n",
            "Epoch 468/500\n",
            "2/2 [==============================] - 0s 9ms/step - loss: 11.0335 - mae: 11.0335\n",
            "Epoch 469/500\n",
            "2/2 [==============================] - 0s 5ms/step - loss: 12.7942 - mae: 12.7942\n",
            "Epoch 470/500\n",
            "2/2 [==============================] - 0s 8ms/step - loss: 3.2505 - mae: 3.2505\n",
            "Epoch 471/500\n",
            "2/2 [==============================] - 0s 5ms/step - loss: 16.7254 - mae: 16.7254\n",
            "Epoch 472/500\n",
            "2/2 [==============================] - 0s 6ms/step - loss: 13.4109 - mae: 13.4109\n",
            "Epoch 473/500\n",
            "2/2 [==============================] - 0s 6ms/step - loss: 15.3054 - mae: 15.3054\n",
            "Epoch 474/500\n",
            "2/2 [==============================] - 0s 7ms/step - loss: 11.7739 - mae: 11.7739\n",
            "Epoch 475/500\n",
            "2/2 [==============================] - 0s 7ms/step - loss: 16.4374 - mae: 16.4374\n",
            "Epoch 476/500\n",
            "2/2 [==============================] - 0s 8ms/step - loss: 13.8916 - mae: 13.8916\n",
            "Epoch 477/500\n",
            "2/2 [==============================] - 0s 12ms/step - loss: 30.6912 - mae: 30.6912\n",
            "Epoch 478/500\n",
            "2/2 [==============================] - 0s 7ms/step - loss: 8.6252 - mae: 8.6252\n",
            "Epoch 479/500\n",
            "2/2 [==============================] - 0s 5ms/step - loss: 10.7660 - mae: 10.7660\n",
            "Epoch 480/500\n",
            "2/2 [==============================] - 0s 9ms/step - loss: 17.9336 - mae: 17.9336\n",
            "Epoch 481/500\n",
            "2/2 [==============================] - 0s 4ms/step - loss: 15.8334 - mae: 15.8334\n",
            "Epoch 482/500\n",
            "2/2 [==============================] - 0s 4ms/step - loss: 21.3522 - mae: 21.3522\n",
            "Epoch 483/500\n",
            "2/2 [==============================] - 0s 11ms/step - loss: 25.2811 - mae: 25.2811\n",
            "Epoch 484/500\n",
            "2/2 [==============================] - 0s 5ms/step - loss: 23.8774 - mae: 23.8774\n",
            "Epoch 485/500\n",
            "2/2 [==============================] - 0s 9ms/step - loss: 5.7682 - mae: 5.7682\n",
            "Epoch 486/500\n",
            "2/2 [==============================] - 0s 9ms/step - loss: 19.8749 - mae: 19.8749\n",
            "Epoch 487/500\n",
            "2/2 [==============================] - 0s 8ms/step - loss: 14.0581 - mae: 14.0581\n",
            "Epoch 488/500\n",
            "2/2 [==============================] - 0s 6ms/step - loss: 30.6372 - mae: 30.6372\n",
            "Epoch 489/500\n",
            "2/2 [==============================] - 0s 13ms/step - loss: 11.9880 - mae: 11.9880\n",
            "Epoch 490/500\n",
            "2/2 [==============================] - 0s 9ms/step - loss: 12.7608 - mae: 12.7608\n",
            "Epoch 491/500\n",
            "2/2 [==============================] - 0s 14ms/step - loss: 23.6628 - mae: 23.6628\n",
            "Epoch 492/500\n",
            "2/2 [==============================] - 0s 20ms/step - loss: 20.4167 - mae: 20.4167\n",
            "Epoch 493/500\n",
            "2/2 [==============================] - 0s 4ms/step - loss: 4.9820 - mae: 4.9820\n",
            "Epoch 494/500\n",
            "2/2 [==============================] - 0s 7ms/step - loss: 12.6967 - mae: 12.6967\n",
            "Epoch 495/500\n",
            "2/2 [==============================] - 0s 7ms/step - loss: 13.4265 - mae: 13.4265\n",
            "Epoch 496/500\n",
            "2/2 [==============================] - 0s 4ms/step - loss: 12.7079 - mae: 12.7079\n",
            "Epoch 497/500\n",
            "2/2 [==============================] - 0s 15ms/step - loss: 17.6841 - mae: 17.6841\n",
            "Epoch 498/500\n",
            "2/2 [==============================] - 0s 13ms/step - loss: 23.4230 - mae: 23.4230\n",
            "Epoch 499/500\n",
            "2/2 [==============================] - 0s 5ms/step - loss: 9.1590 - mae: 9.1590\n",
            "Epoch 500/500\n",
            "2/2 [==============================] - 0s 4ms/step - loss: 14.3818 - mae: 14.3818\n"
          ]
        },
        {
          "output_type": "execute_result",
          "data": {
            "text/plain": [
              "<keras.callbacks.History at 0x7fecd84f5250>"
            ]
          },
          "metadata": {},
          "execution_count": 37
        }
      ]
    },
    {
      "cell_type": "code",
      "source": [
        "y_pred_3 = model_3.predict(X_test)\n",
        "prediction_plot(predictions=y_pred_3)"
      ],
      "metadata": {
        "colab": {
          "base_uri": "https://localhost:8080/",
          "height": 465
        },
        "id": "6hrxCksYz1f4",
        "outputId": "a952c544-d854-4426-e7c7-f05604e40eab"
      },
      "execution_count": null,
      "outputs": [
        {
          "output_type": "stream",
          "name": "stderr",
          "text": [
            "WARNING:tensorflow:6 out of the last 6 calls to <function Model.make_predict_function.<locals>.predict_function at 0x7fecd8408b90> triggered tf.function retracing. Tracing is expensive and the excessive number of tracings could be due to (1) creating @tf.function repeatedly in a loop, (2) passing tensors with different shapes, (3) passing Python objects instead of tensors. For (1), please define your @tf.function outside of the loop. For (2), @tf.function has experimental_relax_shapes=True option that relaxes argument shapes that can avoid unnecessary retracing. For (3), please refer to https://www.tensorflow.org/guide/function#controlling_retracing and https://www.tensorflow.org/api_docs/python/tf/function for  more details.\n"
          ]
        },
        {
          "output_type": "display_data",
          "data": {
            "text/plain": [
              "<Figure size 720x504 with 1 Axes>"
            ],
            "image/png": "[encoded data removed]"
          },
          "metadata": {
            "needs_background": "light"
          }
        }
      ]
    },
    {
      "cell_type": "code",
      "source": [
        "#Calculate all models evaluation metrics.\n",
        "mae_1 = mae(y_test, tf.squeeze(y_preds_1))\n",
        "mse_1 = mse(y_test, tf.squeeze(y_preds_1))\n",
        "mae_2 = mae(y_test, tf.squeeze(y_pred_2))\n",
        "mse_2 = mse(y_test,tf.squeeze(y_pred_2))\n",
        "mae_3 = mae(y_test, tf.squeeze(y_pred_3))\n",
        "mse_3 = mse(y_test, tf.squeeze(y_pred_3))"
      ],
      "metadata": {
        "id": "rWAwPTinyI7F"
      },
      "execution_count": null,
      "outputs": []
    },
    {
      "cell_type": "markdown",
      "source": [
        "## Comparing the results of our experiments\n",
        "\n",
        "Let's compare the results. "
      ],
      "metadata": {
        "id": "lOcPR8V40crN"
      }
    },
    {
      "cell_type": "code",
      "source": [
        "# Let's compare our model's results using a pandas DataFrame\n",
        "import pandas as pd\n",
        "\n",
        "model_results = [[\"model_1\", mae_1.numpy(),mse_1.numpy()],\n",
        "                 [\"model_2\", mae_2.numpy(), mse_2.numpy()],\n",
        "                 [\"model_3\", mae_3.numpy(), mse_3.numpy()]]\n",
        "\n",
        "all_results = pd.DataFrame(model_results, columns=[\"model\",\"mae\",\"mse\"])\n",
        "all_results"
      ],
      "metadata": {
        "id": "XXPl68R_0D9A",
        "colab": {
          "base_uri": "https://localhost:8080/",
          "height": 143
        },
        "outputId": "07ca0fed-27c1-4d4b-ce3a-35b84f69c311"
      },
      "execution_count": null,
      "outputs": [
        {
          "output_type": "execute_result",
          "data": {
            "text/plain": [
              "     model        mae          mse\n",
              "0  model_1  18.745327   353.573364\n",
              "1  model_2   3.110995    12.497052\n",
              "2  model_3  67.909554  4696.061523"
            ],
            "text/html": [
              "\n",
              "  <div id=\"df-ed8b83d1-ab8f-407e-843d-e3a85afc6fbc\">\n",
              "    <div class=\"colab-df-container\">\n",
              "      <div>\n",
              "<style scoped>\n",
              "    .dataframe tbody tr th:only-of-type {\n",
              "        vertical-align: middle;\n",
              "    }\n",
              "\n",
              "    .dataframe tbody tr th {\n",
              "        vertical-align: top;\n",
              "    }\n",
              "\n",
              "    .dataframe thead th {\n",
              "        text-align: right;\n",
              "    }\n",
              "</style>\n",
              "<table border=\"1\" class=\"dataframe\">\n",
              "  <thead>\n",
              "    <tr style=\"text-align: right;\">\n",
              "      <th></th>\n",
              "      <th>model</th>\n",
              "      <th>mae</th>\n",
              "      <th>mse</th>\n",
              "    </tr>\n",
              "  </thead>\n",
              "  <tbody>\n",
              "    <tr>\n",
              "      <th>0</th>\n",
              "      <td>model_1</td>\n",
              "      <td>18.745327</td>\n",
              "      <td>353.573364</td>\n",
              "    </tr>\n",
              "    <tr>\n",
              "      <th>1</th>\n",
              "      <td>model_2</td>\n",
              "      <td>3.110995</td>\n",
              "      <td>12.497052</td>\n",
              "    </tr>\n",
              "    <tr>\n",
              "      <th>2</th>\n",
              "      <td>model_3</td>\n",
              "      <td>67.909554</td>\n",
              "      <td>4696.061523</td>\n",
              "    </tr>\n",
              "  </tbody>\n",
              "</table>\n",
              "</div>\n",
              "      <button class=\"colab-df-convert\" onclick=\"convertToInteractive('df-ed8b83d1-ab8f-407e-843d-e3a85afc6fbc')\"\n",
              "              title=\"Convert this dataframe to an interactive table.\"\n",
              "              style=\"display:none;\">\n",
              "        \n",
              "  <svg xmlns=\"http://www.w3.org/2000/svg\" height=\"24px\"viewBox=\"0 0 24 24\"\n",
              "       width=\"24px\">\n",
              "    <path d=\"M0 0h24v24H0V0z\" fill=\"none\"/>\n",
              "    <path d=\"M18.56 5.44l.94 2.06.94-2.06 2.06-.94-2.06-.94-.94-2.06-.94 2.06-2.06.94zm-11 1L8.5 8.5l.94-2.06 2.06-.94-2.06-.94L8.5 2.5l-.94 2.06-2.06.94zm10 10l.94 2.06.94-2.06 2.06-.94-2.06-.94-.94-2.06-.94 2.06-2.06.94z\"/><path d=\"M17.41 7.96l-1.37-1.37c-.4-.4-.92-.59-1.43-.59-.52 0-1.04.2-1.43.59L10.3 9.45l-7.72 7.72c-.78.78-.78 2.05 0 2.83L4 21.41c.39.39.9.59 1.41.59.51 0 1.02-.2 1.41-.59l7.78-7.78 2.81-2.81c.8-.78.8-2.07 0-2.86zM5.41 20L4 18.59l7.72-7.72 1.47 1.35L5.41 20z\"/>\n",
              "  </svg>\n",
              "      </button>\n",
              "      \n",
              "  <style>\n",
              "    .colab-df-container {\n",
              "      display:flex;\n",
              "      flex-wrap:wrap;\n",
              "      gap: 12px;\n",
              "    }\n",
              "\n",
              "    .colab-df-convert {\n",
              "      background-color: #E8F0FE;\n",
              "      border: none;\n",
              "      border-radius: 50%;\n",
              "      cursor: pointer;\n",
              "      display: none;\n",
              "      fill: #1967D2;\n",
              "      height: 32px;\n",
              "      padding: 0 0 0 0;\n",
              "      width: 32px;\n",
              "    }\n",
              "\n",
              "    .colab-df-convert:hover {\n",
              "      background-color: #E2EBFA;\n",
              "      box-shadow: 0px 1px 2px rgba(60, 64, 67, 0.3), 0px 1px 3px 1px rgba(60, 64, 67, 0.15);\n",
              "      fill: #174EA6;\n",
              "    }\n",
              "\n",
              "    [theme=dark] .colab-df-convert {\n",
              "      background-color: #3B4455;\n",
              "      fill: #D2E3FC;\n",
              "    }\n",
              "\n",
              "    [theme=dark] .colab-df-convert:hover {\n",
              "      background-color: #434B5C;\n",
              "      box-shadow: 0px 1px 3px 1px rgba(0, 0, 0, 0.15);\n",
              "      filter: drop-shadow(0px 1px 2px rgba(0, 0, 0, 0.3));\n",
              "      fill: #FFFFFF;\n",
              "    }\n",
              "  </style>\n",
              "\n",
              "      <script>\n",
              "        const buttonEl =\n",
              "          document.querySelector('#df-ed8b83d1-ab8f-407e-843d-e3a85afc6fbc button.colab-df-convert');\n",
              "        buttonEl.style.display =\n",
              "          google.colab.kernel.accessAllowed ? 'block' : 'none';\n",
              "\n",
              "        async function convertToInteractive(key) {\n",
              "          const element = document.querySelector('#df-ed8b83d1-ab8f-407e-843d-e3a85afc6fbc');\n",
              "          const dataTable =\n",
              "            await google.colab.kernel.invokeFunction('convertToInteractive',\n",
              "                                                     [key], {});\n",
              "          if (!dataTable) return;\n",
              "\n",
              "          const docLinkHtml = 'Like what you see? Visit the ' +\n",
              "            '<a target=\"_blank\" href=https://colab.research.google.com/notebooks/data_table.ipynb>data table notebook</a>'\n",
              "            + ' to learn more about interactive tables.';\n",
              "          element.innerHTML = '';\n",
              "          dataTable['output_type'] = 'display_data';\n",
              "          await google.colab.output.renderOutput(dataTable, element);\n",
              "          const docLink = document.createElement('div');\n",
              "          docLink.innerHTML = docLinkHtml;\n",
              "          element.appendChild(docLink);\n",
              "        }\n",
              "      </script>\n",
              "    </div>\n",
              "  </div>\n",
              "  "
            ]
          },
          "metadata": {},
          "execution_count": 40
        }
      ]
    },
    {
      "cell_type": "markdown",
      "source": [
        "Looks like model_2 performed the best.."
      ],
      "metadata": {
        "id": "M5SsnBTX0OMd"
      }
    },
    {
      "cell_type": "markdown",
      "source": [
        "🔑 One of your main goal would be to minimise the time between your experiments The more experiments you do, the more things you'll figure out which don't work and in turn, get closer to figuiring out what does work. "
      ],
      "metadata": {
        "id": "_0t5vrey0S9O"
      }
    },
    {
      "cell_type": "markdown",
      "source": [
        "##Tracking your experiments\n",
        "\n",
        "One really good habit in ML modelling is to track the results of your experiments.\n",
        "\n",
        "And when doing so, it can be tedious if you're running lots of experiments. \n",
        "\n",
        "Luckily, we have tools: \n",
        "\n",
        "📖 **Resources**:\n",
        "\n",
        "* TensorBoard - a component of the Tensorflow library to help track modelling experiments\n",
        "* Weights & Biases - a tool for tracking all of kinds ML experiments. "
      ],
      "metadata": {
        "id": "dNw4wFNS2ooE"
      }
    },
    {
      "cell_type": "markdown",
      "source": [
        "#Saving our Models\n",
        "\n",
        "Saving our mdoels allows us to use it outside of colab or wherever we want. (such as in web application or a mobile app)\n",
        "\n",
        "\n",
        "Two formats for saving model: \n",
        "\n",
        "* The SavedModel format\n",
        "* The HDF5 format\n"
      ],
      "metadata": {
        "id": "QVQk8bm_4ETk"
      }
    },
    {
      "cell_type": "code",
      "source": [
        "#Save model using the SavedModel format\n",
        "model_2.save(\"best_model_SavedModel_format\")"
      ],
      "metadata": {
        "id": "jXiY-EzozZ-3"
      },
      "execution_count": null,
      "outputs": []
    },
    {
      "cell_type": "code",
      "source": [
        "#Save model using HDF5 format\n",
        "model_2.save(\"best_model_HDF5_format.h5\")"
      ],
      "metadata": {
        "id": "UrkwQl98C8Ud"
      },
      "execution_count": null,
      "outputs": []
    },
    {
      "cell_type": "markdown",
      "source": [
        "##Loading in a saved model\n",
        "\n"
      ],
      "metadata": {
        "id": "bzVxP0smDwbU"
      }
    },
    {
      "cell_type": "code",
      "source": [
        "#Load in the SavedModel format\n",
        "loaded_SavedModel_format = tf.keras.models.load_model(\"/content/best_model_SavedModel_format\")"
      ],
      "metadata": {
        "id": "po8zo6cJDhTQ"
      },
      "execution_count": null,
      "outputs": []
    },
    {
      "cell_type": "code",
      "source": [
        "loaded_SavedModel_format.summary()"
      ],
      "metadata": {
        "colab": {
          "base_uri": "https://localhost:8080/"
        },
        "id": "2XytHtJoEcKX",
        "outputId": "36c6704e-f04b-48f0-e65f-24810842cb4e"
      },
      "execution_count": null,
      "outputs": [
        {
          "output_type": "stream",
          "name": "stdout",
          "text": [
            "Model: \"sequential_4\"\n",
            "_________________________________________________________________\n",
            " Layer (type)                Output Shape              Param #   \n",
            "=================================================================\n",
            " dense_5 (Dense)             (None, 10)                20        \n",
            "                                                                 \n",
            " dense_6 (Dense)             (None, 1)                 11        \n",
            "                                                                 \n",
            "=================================================================\n",
            "Total params: 31\n",
            "Trainable params: 31\n",
            "Non-trainable params: 0\n",
            "_________________________________________________________________\n"
          ]
        }
      ]
    },
    {
      "cell_type": "code",
      "source": [
        "#Compare model_2 predictions with SavedModel format model predictions\n",
        "model_2_preds = model_2.predict(X_test)\n",
        "loaded_SavedModel_format_preds = loaded_SavedModel_format.predict(X_test)\n",
        "model_2_preds == loaded_SavedModel_format_preds"
      ],
      "metadata": {
        "colab": {
          "base_uri": "https://localhost:8080/"
        },
        "id": "8katpgm-EhFU",
        "outputId": "44ad15ac-c0ac-431b-a047-0119bd5cfa03"
      },
      "execution_count": null,
      "outputs": [
        {
          "output_type": "execute_result",
          "data": {
            "text/plain": [
              "array([[ True],\n",
              "       [ True],\n",
              "       [ True],\n",
              "       [ True],\n",
              "       [ True],\n",
              "       [ True],\n",
              "       [ True],\n",
              "       [ True],\n",
              "       [ True],\n",
              "       [ True]])"
            ]
          },
          "metadata": {},
          "execution_count": 45
        }
      ]
    },
    {
      "cell_type": "code",
      "source": [
        "#Load in a model HDF5 format\n",
        "loaded_h5_format = tf.keras.models.load_model(\"/content/best_model_HDF5_format.h5\")"
      ],
      "metadata": {
        "id": "AN80kWqcF-1C"
      },
      "execution_count": null,
      "outputs": []
    },
    {
      "cell_type": "code",
      "source": [
        "#Compare model_2 predictions with H5 format model predictions\n",
        "model_2_preds = model_2.predict(X_test)\n",
        "loaded_h5_format_preds = loaded_h5_format.predict(X_test)\n",
        "model_2_preds == loaded_h5_format_preds"
      ],
      "metadata": {
        "colab": {
          "base_uri": "https://localhost:8080/"
        },
        "id": "qEkEkq9IGQDy",
        "outputId": "5b0f4f1b-9f9b-467c-8740-4b3292edc89c"
      },
      "execution_count": null,
      "outputs": [
        {
          "output_type": "execute_result",
          "data": {
            "text/plain": [
              "array([[ True],\n",
              "       [ True],\n",
              "       [ True],\n",
              "       [ True],\n",
              "       [ True],\n",
              "       [ True],\n",
              "       [ True],\n",
              "       [ True],\n",
              "       [ True],\n",
              "       [ True]])"
            ]
          },
          "metadata": {},
          "execution_count": 47
        }
      ]
    },
    {
      "cell_type": "markdown",
      "source": [
        "#A larger example"
      ],
      "metadata": {
        "id": "Mk7TZrDn0qya"
      }
    },
    {
      "cell_type": "code",
      "source": [
        "#import required libraries\n",
        "import tensorflow as tf\n",
        "import pandas as pd\n",
        "import matplotlib.pyplot as plt"
      ],
      "metadata": {
        "id": "tbM6g-HwGaQD"
      },
      "execution_count": null,
      "outputs": []
    },
    {
      "cell_type": "code",
      "source": [
        "#Read in the insurance dataset\n",
        "insurance = pd.read_csv(\"https://raw.githubusercontent.com/stedy/Machine-Learning-with-R-datasets/master/insurance.csv\")\n",
        "insurance.head()"
      ],
      "metadata": {
        "colab": {
          "base_uri": "https://localhost:8080/",
          "height": 206
        },
        "id": "CuCsow6C01zX",
        "outputId": "69c9f51a-ff2a-4c51-a530-b0bdd3622524"
      },
      "execution_count": null,
      "outputs": [
        {
          "output_type": "execute_result",
          "data": {
            "text/plain": [
              "   age     sex     bmi  children smoker     region      charges\n",
              "0   19  female  27.900         0    yes  southwest  16884.92400\n",
              "1   18    male  33.770         1     no  southeast   1725.55230\n",
              "2   28    male  33.000         3     no  southeast   4449.46200\n",
              "3   33    male  22.705         0     no  northwest  21984.47061\n",
              "4   32    male  28.880         0     no  northwest   3866.85520"
            ],
            "text/html": [
              "\n",
              "  <div id=\"df-48d82dab-d808-42c1-a9fa-835aa0e13490\">\n",
              "    <div class=\"colab-df-container\">\n",
              "      <div>\n",
              "<style scoped>\n",
              "    .dataframe tbody tr th:only-of-type {\n",
              "        vertical-align: middle;\n",
              "    }\n",
              "\n",
              "    .dataframe tbody tr th {\n",
              "        vertical-align: top;\n",
              "    }\n",
              "\n",
              "    .dataframe thead th {\n",
              "        text-align: right;\n",
              "    }\n",
              "</style>\n",
              "<table border=\"1\" class=\"dataframe\">\n",
              "  <thead>\n",
              "    <tr style=\"text-align: right;\">\n",
              "      <th></th>\n",
              "      <th>age</th>\n",
              "      <th>sex</th>\n",
              "      <th>bmi</th>\n",
              "      <th>children</th>\n",
              "      <th>smoker</th>\n",
              "      <th>region</th>\n",
              "      <th>charges</th>\n",
              "    </tr>\n",
              "  </thead>\n",
              "  <tbody>\n",
              "    <tr>\n",
              "      <th>0</th>\n",
              "      <td>19</td>\n",
              "      <td>female</td>\n",
              "      <td>27.900</td>\n",
              "      <td>0</td>\n",
              "      <td>yes</td>\n",
              "      <td>southwest</td>\n",
              "      <td>16884.92400</td>\n",
              "    </tr>\n",
              "    <tr>\n",
              "      <th>1</th>\n",
              "      <td>18</td>\n",
              "      <td>male</td>\n",
              "      <td>33.770</td>\n",
              "      <td>1</td>\n",
              "      <td>no</td>\n",
              "      <td>southeast</td>\n",
              "      <td>1725.55230</td>\n",
              "    </tr>\n",
              "    <tr>\n",
              "      <th>2</th>\n",
              "      <td>28</td>\n",
              "      <td>male</td>\n",
              "      <td>33.000</td>\n",
              "      <td>3</td>\n",
              "      <td>no</td>\n",
              "      <td>southeast</td>\n",
              "      <td>4449.46200</td>\n",
              "    </tr>\n",
              "    <tr>\n",
              "      <th>3</th>\n",
              "      <td>33</td>\n",
              "      <td>male</td>\n",
              "      <td>22.705</td>\n",
              "      <td>0</td>\n",
              "      <td>no</td>\n",
              "      <td>northwest</td>\n",
              "      <td>21984.47061</td>\n",
              "    </tr>\n",
              "    <tr>\n",
              "      <th>4</th>\n",
              "      <td>32</td>\n",
              "      <td>male</td>\n",
              "      <td>28.880</td>\n",
              "      <td>0</td>\n",
              "      <td>no</td>\n",
              "      <td>northwest</td>\n",
              "      <td>3866.85520</td>\n",
              "    </tr>\n",
              "  </tbody>\n",
              "</table>\n",
              "</div>\n",
              "      <button class=\"colab-df-convert\" onclick=\"convertToInteractive('df-48d82dab-d808-42c1-a9fa-835aa0e13490')\"\n",
              "              title=\"Convert this dataframe to an interactive table.\"\n",
              "              style=\"display:none;\">\n",
              "        \n",
              "  <svg xmlns=\"http://www.w3.org/2000/svg\" height=\"24px\"viewBox=\"0 0 24 24\"\n",
              "       width=\"24px\">\n",
              "    <path d=\"M0 0h24v24H0V0z\" fill=\"none\"/>\n",
              "    <path d=\"M18.56 5.44l.94 2.06.94-2.06 2.06-.94-2.06-.94-.94-2.06-.94 2.06-2.06.94zm-11 1L8.5 8.5l.94-2.06 2.06-.94-2.06-.94L8.5 2.5l-.94 2.06-2.06.94zm10 10l.94 2.06.94-2.06 2.06-.94-2.06-.94-.94-2.06-.94 2.06-2.06.94z\"/><path d=\"M17.41 7.96l-1.37-1.37c-.4-.4-.92-.59-1.43-.59-.52 0-1.04.2-1.43.59L10.3 9.45l-7.72 7.72c-.78.78-.78 2.05 0 2.83L4 21.41c.39.39.9.59 1.41.59.51 0 1.02-.2 1.41-.59l7.78-7.78 2.81-2.81c.8-.78.8-2.07 0-2.86zM5.41 20L4 18.59l7.72-7.72 1.47 1.35L5.41 20z\"/>\n",
              "  </svg>\n",
              "      </button>\n",
              "      \n",
              "  <style>\n",
              "    .colab-df-container {\n",
              "      display:flex;\n",
              "      flex-wrap:wrap;\n",
              "      gap: 12px;\n",
              "    }\n",
              "\n",
              "    .colab-df-convert {\n",
              "      background-color: #E8F0FE;\n",
              "      border: none;\n",
              "      border-radius: 50%;\n",
              "      cursor: pointer;\n",
              "      display: none;\n",
              "      fill: #1967D2;\n",
              "      height: 32px;\n",
              "      padding: 0 0 0 0;\n",
              "      width: 32px;\n",
              "    }\n",
              "\n",
              "    .colab-df-convert:hover {\n",
              "      background-color: #E2EBFA;\n",
              "      box-shadow: 0px 1px 2px rgba(60, 64, 67, 0.3), 0px 1px 3px 1px rgba(60, 64, 67, 0.15);\n",
              "      fill: #174EA6;\n",
              "    }\n",
              "\n",
              "    [theme=dark] .colab-df-convert {\n",
              "      background-color: #3B4455;\n",
              "      fill: #D2E3FC;\n",
              "    }\n",
              "\n",
              "    [theme=dark] .colab-df-convert:hover {\n",
              "      background-color: #434B5C;\n",
              "      box-shadow: 0px 1px 3px 1px rgba(0, 0, 0, 0.15);\n",
              "      filter: drop-shadow(0px 1px 2px rgba(0, 0, 0, 0.3));\n",
              "      fill: #FFFFFF;\n",
              "    }\n",
              "  </style>\n",
              "\n",
              "      <script>\n",
              "        const buttonEl =\n",
              "          document.querySelector('#df-48d82dab-d808-42c1-a9fa-835aa0e13490 button.colab-df-convert');\n",
              "        buttonEl.style.display =\n",
              "          google.colab.kernel.accessAllowed ? 'block' : 'none';\n",
              "\n",
              "        async function convertToInteractive(key) {\n",
              "          const element = document.querySelector('#df-48d82dab-d808-42c1-a9fa-835aa0e13490');\n",
              "          const dataTable =\n",
              "            await google.colab.kernel.invokeFunction('convertToInteractive',\n",
              "                                                     [key], {});\n",
              "          if (!dataTable) return;\n",
              "\n",
              "          const docLinkHtml = 'Like what you see? Visit the ' +\n",
              "            '<a target=\"_blank\" href=https://colab.research.google.com/notebooks/data_table.ipynb>data table notebook</a>'\n",
              "            + ' to learn more about interactive tables.';\n",
              "          element.innerHTML = '';\n",
              "          dataTable['output_type'] = 'display_data';\n",
              "          await google.colab.output.renderOutput(dataTable, element);\n",
              "          const docLink = document.createElement('div');\n",
              "          docLink.innerHTML = docLinkHtml;\n",
              "          element.appendChild(docLink);\n",
              "        }\n",
              "      </script>\n",
              "    </div>\n",
              "  </div>\n",
              "  "
            ]
          },
          "metadata": {},
          "execution_count": 49
        }
      ]
    },
    {
      "cell_type": "markdown",
      "source": [
        "#### To convert the categorical into numerical values, we mainly use one-hot encoding because the categorical field like \"Gender\", \"Smoker\" are of type = object whereas the numerical field like \"Age\" is of type  int32/64. "
      ],
      "metadata": {
        "id": "nE4S2Waf3i4I"
      }
    },
    {
      "cell_type": "code",
      "source": [
        "#Let's try one-hot encoding our Dataframe\n",
        "insurance_one_hot = pd.get_dummies(insurance)\n",
        "insurance_one_hot.head()"
      ],
      "metadata": {
        "colab": {
          "base_uri": "https://localhost:8080/",
          "height": 270
        },
        "id": "UeFkt1Fn1ARi",
        "outputId": "289357e7-77f3-412c-d7b3-4ef612eacac4"
      },
      "execution_count": null,
      "outputs": [
        {
          "output_type": "execute_result",
          "data": {
            "text/plain": [
              "   age     bmi  children      charges  sex_female  sex_male  smoker_no  \\\n",
              "0   19  27.900         0  16884.92400           1         0          0   \n",
              "1   18  33.770         1   1725.55230           0         1          1   \n",
              "2   28  33.000         3   4449.46200           0         1          1   \n",
              "3   33  22.705         0  21984.47061           0         1          1   \n",
              "4   32  28.880         0   3866.85520           0         1          1   \n",
              "\n",
              "   smoker_yes  region_northeast  region_northwest  region_southeast  \\\n",
              "0           1                 0                 0                 0   \n",
              "1           0                 0                 0                 1   \n",
              "2           0                 0                 0                 1   \n",
              "3           0                 0                 1                 0   \n",
              "4           0                 0                 1                 0   \n",
              "\n",
              "   region_southwest  \n",
              "0                 1  \n",
              "1                 0  \n",
              "2                 0  \n",
              "3                 0  \n",
              "4                 0  "
            ],
            "text/html": [
              "\n",
              "  <div id=\"df-15c8455e-a816-4858-bc57-0fe98089b0ab\">\n",
              "    <div class=\"colab-df-container\">\n",
              "      <div>\n",
              "<style scoped>\n",
              "    .dataframe tbody tr th:only-of-type {\n",
              "        vertical-align: middle;\n",
              "    }\n",
              "\n",
              "    .dataframe tbody tr th {\n",
              "        vertical-align: top;\n",
              "    }\n",
              "\n",
              "    .dataframe thead th {\n",
              "        text-align: right;\n",
              "    }\n",
              "</style>\n",
              "<table border=\"1\" class=\"dataframe\">\n",
              "  <thead>\n",
              "    <tr style=\"text-align: right;\">\n",
              "      <th></th>\n",
              "      <th>age</th>\n",
              "      <th>bmi</th>\n",
              "      <th>children</th>\n",
              "      <th>charges</th>\n",
              "      <th>sex_female</th>\n",
              "      <th>sex_male</th>\n",
              "      <th>smoker_no</th>\n",
              "      <th>smoker_yes</th>\n",
              "      <th>region_northeast</th>\n",
              "      <th>region_northwest</th>\n",
              "      <th>region_southeast</th>\n",
              "      <th>region_southwest</th>\n",
              "    </tr>\n",
              "  </thead>\n",
              "  <tbody>\n",
              "    <tr>\n",
              "      <th>0</th>\n",
              "      <td>19</td>\n",
              "      <td>27.900</td>\n",
              "      <td>0</td>\n",
              "      <td>16884.92400</td>\n",
              "      <td>1</td>\n",
              "      <td>0</td>\n",
              "      <td>0</td>\n",
              "      <td>1</td>\n",
              "      <td>0</td>\n",
              "      <td>0</td>\n",
              "      <td>0</td>\n",
              "      <td>1</td>\n",
              "    </tr>\n",
              "    <tr>\n",
              "      <th>1</th>\n",
              "      <td>18</td>\n",
              "      <td>33.770</td>\n",
              "      <td>1</td>\n",
              "      <td>1725.55230</td>\n",
              "      <td>0</td>\n",
              "      <td>1</td>\n",
              "      <td>1</td>\n",
              "      <td>0</td>\n",
              "      <td>0</td>\n",
              "      <td>0</td>\n",
              "      <td>1</td>\n",
              "      <td>0</td>\n",
              "    </tr>\n",
              "    <tr>\n",
              "      <th>2</th>\n",
              "      <td>28</td>\n",
              "      <td>33.000</td>\n",
              "      <td>3</td>\n",
              "      <td>4449.46200</td>\n",
              "      <td>0</td>\n",
              "      <td>1</td>\n",
              "      <td>1</td>\n",
              "      <td>0</td>\n",
              "      <td>0</td>\n",
              "      <td>0</td>\n",
              "      <td>1</td>\n",
              "      <td>0</td>\n",
              "    </tr>\n",
              "    <tr>\n",
              "      <th>3</th>\n",
              "      <td>33</td>\n",
              "      <td>22.705</td>\n",
              "      <td>0</td>\n",
              "      <td>21984.47061</td>\n",
              "      <td>0</td>\n",
              "      <td>1</td>\n",
              "      <td>1</td>\n",
              "      <td>0</td>\n",
              "      <td>0</td>\n",
              "      <td>1</td>\n",
              "      <td>0</td>\n",
              "      <td>0</td>\n",
              "    </tr>\n",
              "    <tr>\n",
              "      <th>4</th>\n",
              "      <td>32</td>\n",
              "      <td>28.880</td>\n",
              "      <td>0</td>\n",
              "      <td>3866.85520</td>\n",
              "      <td>0</td>\n",
              "      <td>1</td>\n",
              "      <td>1</td>\n",
              "      <td>0</td>\n",
              "      <td>0</td>\n",
              "      <td>1</td>\n",
              "      <td>0</td>\n",
              "      <td>0</td>\n",
              "    </tr>\n",
              "  </tbody>\n",
              "</table>\n",
              "</div>\n",
              "      <button class=\"colab-df-convert\" onclick=\"convertToInteractive('df-15c8455e-a816-4858-bc57-0fe98089b0ab')\"\n",
              "              title=\"Convert this dataframe to an interactive table.\"\n",
              "              style=\"display:none;\">\n",
              "        \n",
              "  <svg xmlns=\"http://www.w3.org/2000/svg\" height=\"24px\"viewBox=\"0 0 24 24\"\n",
              "       width=\"24px\">\n",
              "    <path d=\"M0 0h24v24H0V0z\" fill=\"none\"/>\n",
              "    <path d=\"M18.56 5.44l.94 2.06.94-2.06 2.06-.94-2.06-.94-.94-2.06-.94 2.06-2.06.94zm-11 1L8.5 8.5l.94-2.06 2.06-.94-2.06-.94L8.5 2.5l-.94 2.06-2.06.94zm10 10l.94 2.06.94-2.06 2.06-.94-2.06-.94-.94-2.06-.94 2.06-2.06.94z\"/><path d=\"M17.41 7.96l-1.37-1.37c-.4-.4-.92-.59-1.43-.59-.52 0-1.04.2-1.43.59L10.3 9.45l-7.72 7.72c-.78.78-.78 2.05 0 2.83L4 21.41c.39.39.9.59 1.41.59.51 0 1.02-.2 1.41-.59l7.78-7.78 2.81-2.81c.8-.78.8-2.07 0-2.86zM5.41 20L4 18.59l7.72-7.72 1.47 1.35L5.41 20z\"/>\n",
              "  </svg>\n",
              "      </button>\n",
              "      \n",
              "  <style>\n",
              "    .colab-df-container {\n",
              "      display:flex;\n",
              "      flex-wrap:wrap;\n",
              "      gap: 12px;\n",
              "    }\n",
              "\n",
              "    .colab-df-convert {\n",
              "      background-color: #E8F0FE;\n",
              "      border: none;\n",
              "      border-radius: 50%;\n",
              "      cursor: pointer;\n",
              "      display: none;\n",
              "      fill: #1967D2;\n",
              "      height: 32px;\n",
              "      padding: 0 0 0 0;\n",
              "      width: 32px;\n",
              "    }\n",
              "\n",
              "    .colab-df-convert:hover {\n",
              "      background-color: #E2EBFA;\n",
              "      box-shadow: 0px 1px 2px rgba(60, 64, 67, 0.3), 0px 1px 3px 1px rgba(60, 64, 67, 0.15);\n",
              "      fill: #174EA6;\n",
              "    }\n",
              "\n",
              "    [theme=dark] .colab-df-convert {\n",
              "      background-color: #3B4455;\n",
              "      fill: #D2E3FC;\n",
              "    }\n",
              "\n",
              "    [theme=dark] .colab-df-convert:hover {\n",
              "      background-color: #434B5C;\n",
              "      box-shadow: 0px 1px 3px 1px rgba(0, 0, 0, 0.15);\n",
              "      filter: drop-shadow(0px 1px 2px rgba(0, 0, 0, 0.3));\n",
              "      fill: #FFFFFF;\n",
              "    }\n",
              "  </style>\n",
              "\n",
              "      <script>\n",
              "        const buttonEl =\n",
              "          document.querySelector('#df-15c8455e-a816-4858-bc57-0fe98089b0ab button.colab-df-convert');\n",
              "        buttonEl.style.display =\n",
              "          google.colab.kernel.accessAllowed ? 'block' : 'none';\n",
              "\n",
              "        async function convertToInteractive(key) {\n",
              "          const element = document.querySelector('#df-15c8455e-a816-4858-bc57-0fe98089b0ab');\n",
              "          const dataTable =\n",
              "            await google.colab.kernel.invokeFunction('convertToInteractive',\n",
              "                                                     [key], {});\n",
              "          if (!dataTable) return;\n",
              "\n",
              "          const docLinkHtml = 'Like what you see? Visit the ' +\n",
              "            '<a target=\"_blank\" href=https://colab.research.google.com/notebooks/data_table.ipynb>data table notebook</a>'\n",
              "            + ' to learn more about interactive tables.';\n",
              "          element.innerHTML = '';\n",
              "          dataTable['output_type'] = 'display_data';\n",
              "          await google.colab.output.renderOutput(dataTable, element);\n",
              "          const docLink = document.createElement('div');\n",
              "          docLink.innerHTML = docLinkHtml;\n",
              "          element.appendChild(docLink);\n",
              "        }\n",
              "      </script>\n",
              "    </div>\n",
              "  </div>\n",
              "  "
            ]
          },
          "metadata": {},
          "execution_count": 50
        }
      ]
    },
    {
      "cell_type": "code",
      "source": [
        "#Create X & y (features & labels)\n",
        "X = insurance_one_hot.drop(\"charges\", axis=1) #feature\n",
        "y= insurance_one_hot[\"charges\"] #label"
      ],
      "metadata": {
        "id": "KRaw-heb4Txc"
      },
      "execution_count": null,
      "outputs": []
    },
    {
      "cell_type": "code",
      "source": [
        "#Create training and test sets\n",
        "from sklearn.model_selection import train_test_split\n",
        "X_train, X_test, y_train, y_test = train_test_split(X, y, test_size = 0.2, random_state = 42)\n",
        "len(X_train), len(X_test)"
      ],
      "metadata": {
        "colab": {
          "base_uri": "https://localhost:8080/"
        },
        "id": "KUVW56o5TyYT",
        "outputId": "5839eff2-5dca-4acd-c073-e1971bafb2a5"
      },
      "execution_count": null,
      "outputs": [
        {
          "output_type": "execute_result",
          "data": {
            "text/plain": [
              "(1070, 268)"
            ]
          },
          "metadata": {},
          "execution_count": 52
        }
      ]
    },
    {
      "cell_type": "code",
      "source": [
        "#Build a neural network\n",
        "\n",
        "charges_model = tf.keras.Sequential([\n",
        "    tf.keras.layers.Dense(10),\n",
        "    tf.keras.layers.Dense(1)\n",
        "])\n",
        "\n",
        "charges_model.compile(loss = \"mae\",\n",
        "                      optimizer = tf.keras.optimizers.SGD(),\n",
        "                      metrics=[\"mae\"])\n",
        "\n",
        "charges_model.fit(X_train, y_train, epochs=100)"
      ],
      "metadata": {
        "colab": {
          "base_uri": "https://localhost:8080/"
        },
        "id": "J-NJfIqIUTPK",
        "outputId": "c288bbc6-9de4-4546-afb3-c6d143226de9"
      },
      "execution_count": null,
      "outputs": [
        {
          "output_type": "stream",
          "name": "stdout",
          "text": [
            "Epoch 1/100\n",
            "34/34 [==============================] - 1s 3ms/step - loss: 8716.4688 - mae: 8716.4688\n",
            "Epoch 2/100\n",
            "34/34 [==============================] - 0s 2ms/step - loss: 7883.9185 - mae: 7883.9185\n",
            "Epoch 3/100\n",
            "34/34 [==============================] - 0s 5ms/step - loss: 7605.7485 - mae: 7605.7485\n",
            "Epoch 4/100\n",
            "34/34 [==============================] - 0s 6ms/step - loss: 7606.8960 - mae: 7606.8960\n",
            "Epoch 5/100\n",
            "34/34 [==============================] - 0s 4ms/step - loss: 7703.9551 - mae: 7703.9551\n",
            "Epoch 6/100\n",
            "34/34 [==============================] - 0s 2ms/step - loss: 7643.4912 - mae: 7643.4912\n",
            "Epoch 7/100\n",
            "34/34 [==============================] - 0s 2ms/step - loss: 7546.4575 - mae: 7546.4575\n",
            "Epoch 8/100\n",
            "34/34 [==============================] - 0s 2ms/step - loss: 7736.8052 - mae: 7736.8052\n",
            "Epoch 9/100\n",
            "34/34 [==============================] - 0s 2ms/step - loss: 7548.9189 - mae: 7548.9189\n",
            "Epoch 10/100\n",
            "34/34 [==============================] - 0s 3ms/step - loss: 7731.2910 - mae: 7731.2910\n",
            "Epoch 11/100\n",
            "34/34 [==============================] - 0s 3ms/step - loss: 7531.5366 - mae: 7531.5366\n",
            "Epoch 12/100\n",
            "34/34 [==============================] - 0s 2ms/step - loss: 7605.1108 - mae: 7605.1108\n",
            "Epoch 13/100\n",
            "34/34 [==============================] - 0s 2ms/step - loss: 7694.1294 - mae: 7694.1294\n",
            "Epoch 14/100\n",
            "34/34 [==============================] - 0s 4ms/step - loss: 7625.8022 - mae: 7625.8022\n",
            "Epoch 15/100\n",
            "34/34 [==============================] - 0s 6ms/step - loss: 7555.8843 - mae: 7555.8843\n",
            "Epoch 16/100\n",
            "34/34 [==============================] - 0s 4ms/step - loss: 7698.8984 - mae: 7698.8984\n",
            "Epoch 17/100\n",
            "34/34 [==============================] - 0s 4ms/step - loss: 7666.6313 - mae: 7666.6313\n",
            "Epoch 18/100\n",
            "34/34 [==============================] - 0s 3ms/step - loss: 7778.6138 - mae: 7778.6138\n",
            "Epoch 19/100\n",
            "34/34 [==============================] - 0s 3ms/step - loss: 7583.3008 - mae: 7583.3008\n",
            "Epoch 20/100\n",
            "34/34 [==============================] - 0s 4ms/step - loss: 7869.9609 - mae: 7869.9609\n",
            "Epoch 21/100\n",
            "34/34 [==============================] - 0s 4ms/step - loss: 7513.9478 - mae: 7513.9478\n",
            "Epoch 22/100\n",
            "34/34 [==============================] - 0s 4ms/step - loss: 7761.0015 - mae: 7761.0015\n",
            "Epoch 23/100\n",
            "34/34 [==============================] - 0s 3ms/step - loss: 7740.5122 - mae: 7740.5122\n",
            "Epoch 24/100\n",
            "34/34 [==============================] - 0s 3ms/step - loss: 7530.3687 - mae: 7530.3687\n",
            "Epoch 25/100\n",
            "34/34 [==============================] - 0s 2ms/step - loss: 7576.2075 - mae: 7576.2075\n",
            "Epoch 26/100\n",
            "34/34 [==============================] - 0s 3ms/step - loss: 7599.8779 - mae: 7599.8779\n",
            "Epoch 27/100\n",
            "34/34 [==============================] - 0s 2ms/step - loss: 7572.0391 - mae: 7572.0391\n",
            "Epoch 28/100\n",
            "34/34 [==============================] - 0s 2ms/step - loss: 7426.6211 - mae: 7426.6211\n",
            "Epoch 29/100\n",
            "34/34 [==============================] - 0s 2ms/step - loss: 7675.7100 - mae: 7675.7100\n",
            "Epoch 30/100\n",
            "34/34 [==============================] - 0s 2ms/step - loss: 7702.6479 - mae: 7702.6479\n",
            "Epoch 31/100\n",
            "34/34 [==============================] - 0s 3ms/step - loss: 7545.1357 - mae: 7545.1357\n",
            "Epoch 32/100\n",
            "34/34 [==============================] - 0s 2ms/step - loss: 7426.8125 - mae: 7426.8125\n",
            "Epoch 33/100\n",
            "34/34 [==============================] - 0s 5ms/step - loss: 7449.6685 - mae: 7449.6685\n",
            "Epoch 34/100\n",
            "34/34 [==============================] - 0s 2ms/step - loss: 7540.8203 - mae: 7540.8203\n",
            "Epoch 35/100\n",
            "34/34 [==============================] - 0s 2ms/step - loss: 7380.7271 - mae: 7380.7271\n",
            "Epoch 36/100\n",
            "34/34 [==============================] - 0s 3ms/step - loss: 7387.5698 - mae: 7387.5698\n",
            "Epoch 37/100\n",
            "34/34 [==============================] - 0s 3ms/step - loss: 7522.3066 - mae: 7522.3066\n",
            "Epoch 38/100\n",
            "34/34 [==============================] - 0s 2ms/step - loss: 7363.2339 - mae: 7363.2339\n",
            "Epoch 39/100\n",
            "34/34 [==============================] - 0s 4ms/step - loss: 7535.3989 - mae: 7535.3989\n",
            "Epoch 40/100\n",
            "34/34 [==============================] - 0s 3ms/step - loss: 7554.7256 - mae: 7554.7256\n",
            "Epoch 41/100\n",
            "34/34 [==============================] - 0s 2ms/step - loss: 7746.1562 - mae: 7746.1562\n",
            "Epoch 42/100\n",
            "34/34 [==============================] - 0s 2ms/step - loss: 7382.2275 - mae: 7382.2275\n",
            "Epoch 43/100\n",
            "34/34 [==============================] - 0s 2ms/step - loss: 7604.8442 - mae: 7604.8442\n",
            "Epoch 44/100\n",
            "34/34 [==============================] - 0s 4ms/step - loss: 7390.5845 - mae: 7390.5845\n",
            "Epoch 45/100\n",
            "34/34 [==============================] - 0s 2ms/step - loss: 7513.8545 - mae: 7513.8545\n",
            "Epoch 46/100\n",
            "34/34 [==============================] - 0s 2ms/step - loss: 7324.6919 - mae: 7324.6919\n",
            "Epoch 47/100\n",
            "34/34 [==============================] - 0s 3ms/step - loss: 7485.2158 - mae: 7485.2158\n",
            "Epoch 48/100\n",
            "34/34 [==============================] - 0s 2ms/step - loss: 7320.3647 - mae: 7320.3647\n",
            "Epoch 49/100\n",
            "34/34 [==============================] - 0s 3ms/step - loss: 7540.9092 - mae: 7540.9092\n",
            "Epoch 50/100\n",
            "34/34 [==============================] - 0s 2ms/step - loss: 7484.5566 - mae: 7484.5566\n",
            "Epoch 51/100\n",
            "34/34 [==============================] - 0s 4ms/step - loss: 7411.3569 - mae: 7411.3569\n",
            "Epoch 52/100\n",
            "34/34 [==============================] - 0s 2ms/step - loss: 7484.2061 - mae: 7484.2061\n",
            "Epoch 53/100\n",
            "34/34 [==============================] - 0s 4ms/step - loss: 7417.7090 - mae: 7417.7090\n",
            "Epoch 54/100\n",
            "34/34 [==============================] - 0s 4ms/step - loss: 7248.3789 - mae: 7248.3789\n",
            "Epoch 55/100\n",
            "34/34 [==============================] - 0s 3ms/step - loss: 7204.1230 - mae: 7204.1230\n",
            "Epoch 56/100\n",
            "34/34 [==============================] - 0s 5ms/step - loss: 7234.5845 - mae: 7234.5845\n",
            "Epoch 57/100\n",
            "34/34 [==============================] - 0s 4ms/step - loss: 7407.1133 - mae: 7407.1133\n",
            "Epoch 58/100\n",
            "34/34 [==============================] - 0s 4ms/step - loss: 7472.2505 - mae: 7472.2505\n",
            "Epoch 59/100\n",
            "34/34 [==============================] - 0s 4ms/step - loss: 7642.4937 - mae: 7642.4937\n",
            "Epoch 60/100\n",
            "34/34 [==============================] - 0s 5ms/step - loss: 7479.7471 - mae: 7479.7471\n",
            "Epoch 61/100\n",
            "34/34 [==============================] - 0s 2ms/step - loss: 7478.2739 - mae: 7478.2739\n",
            "Epoch 62/100\n",
            "34/34 [==============================] - 0s 2ms/step - loss: 7396.4028 - mae: 7396.4028\n",
            "Epoch 63/100\n",
            "34/34 [==============================] - 0s 2ms/step - loss: 7355.8110 - mae: 7355.8110\n",
            "Epoch 64/100\n",
            "34/34 [==============================] - 0s 3ms/step - loss: 7377.2808 - mae: 7377.2808\n",
            "Epoch 65/100\n",
            "34/34 [==============================] - 0s 4ms/step - loss: 7596.6357 - mae: 7596.6357\n",
            "Epoch 66/100\n",
            "34/34 [==============================] - 0s 4ms/step - loss: 7083.9956 - mae: 7083.9956\n",
            "Epoch 67/100\n",
            "34/34 [==============================] - 0s 4ms/step - loss: 7237.0747 - mae: 7237.0747\n",
            "Epoch 68/100\n",
            "34/34 [==============================] - 0s 5ms/step - loss: 7578.5801 - mae: 7578.5801\n",
            "Epoch 69/100\n",
            "34/34 [==============================] - 0s 3ms/step - loss: 7541.5908 - mae: 7541.5908\n",
            "Epoch 70/100\n",
            "34/34 [==============================] - 0s 5ms/step - loss: 7687.0552 - mae: 7687.0552\n",
            "Epoch 71/100\n",
            "34/34 [==============================] - 0s 3ms/step - loss: 7365.9795 - mae: 7365.9795\n",
            "Epoch 72/100\n",
            "34/34 [==============================] - 0s 3ms/step - loss: 7501.0137 - mae: 7501.0137\n",
            "Epoch 73/100\n",
            "34/34 [==============================] - 0s 3ms/step - loss: 7284.1436 - mae: 7284.1436\n",
            "Epoch 74/100\n",
            "34/34 [==============================] - 0s 3ms/step - loss: 7520.9541 - mae: 7520.9541\n",
            "Epoch 75/100\n",
            "34/34 [==============================] - 0s 3ms/step - loss: 7302.8018 - mae: 7302.8018\n",
            "Epoch 76/100\n",
            "34/34 [==============================] - 0s 3ms/step - loss: 7100.1826 - mae: 7100.1826\n",
            "Epoch 77/100\n",
            "34/34 [==============================] - 0s 4ms/step - loss: 7282.4155 - mae: 7282.4155\n",
            "Epoch 78/100\n",
            "34/34 [==============================] - 0s 3ms/step - loss: 7493.8125 - mae: 7493.8125\n",
            "Epoch 79/100\n",
            "34/34 [==============================] - 0s 3ms/step - loss: 7399.8247 - mae: 7399.8247\n",
            "Epoch 80/100\n",
            "34/34 [==============================] - 0s 2ms/step - loss: 7230.1880 - mae: 7230.1880\n",
            "Epoch 81/100\n",
            "34/34 [==============================] - 0s 2ms/step - loss: 7250.1099 - mae: 7250.1099\n",
            "Epoch 82/100\n",
            "34/34 [==============================] - 0s 2ms/step - loss: 7161.5635 - mae: 7161.5635\n",
            "Epoch 83/100\n",
            "34/34 [==============================] - 0s 4ms/step - loss: 7488.6406 - mae: 7488.6406\n",
            "Epoch 84/100\n",
            "34/34 [==============================] - 0s 4ms/step - loss: 7406.6665 - mae: 7406.6665\n",
            "Epoch 85/100\n",
            "34/34 [==============================] - 0s 3ms/step - loss: 7539.6470 - mae: 7539.6470\n",
            "Epoch 86/100\n",
            "34/34 [==============================] - 0s 2ms/step - loss: 7482.7041 - mae: 7482.7041\n",
            "Epoch 87/100\n",
            "34/34 [==============================] - 0s 2ms/step - loss: 7345.7705 - mae: 7345.7705\n",
            "Epoch 88/100\n",
            "34/34 [==============================] - 0s 3ms/step - loss: 7303.8203 - mae: 7303.8203\n",
            "Epoch 89/100\n",
            "34/34 [==============================] - 0s 2ms/step - loss: 7470.3569 - mae: 7470.3569\n",
            "Epoch 90/100\n",
            "34/34 [==============================] - 0s 2ms/step - loss: 7025.2329 - mae: 7025.2329\n",
            "Epoch 91/100\n",
            "34/34 [==============================] - 0s 2ms/step - loss: 7307.1665 - mae: 7307.1665\n",
            "Epoch 92/100\n",
            "34/34 [==============================] - 0s 2ms/step - loss: 7269.0850 - mae: 7269.0850\n",
            "Epoch 93/100\n",
            "34/34 [==============================] - 0s 3ms/step - loss: 7511.9287 - mae: 7511.9287\n",
            "Epoch 94/100\n",
            "34/34 [==============================] - 0s 2ms/step - loss: 7191.7705 - mae: 7191.7705\n",
            "Epoch 95/100\n",
            "34/34 [==============================] - 0s 4ms/step - loss: 7167.2295 - mae: 7167.2295\n",
            "Epoch 96/100\n",
            "34/34 [==============================] - 0s 2ms/step - loss: 7220.9238 - mae: 7220.9238\n",
            "Epoch 97/100\n",
            "34/34 [==============================] - 0s 3ms/step - loss: 7034.2202 - mae: 7034.2202\n",
            "Epoch 98/100\n",
            "34/34 [==============================] - 0s 2ms/step - loss: 7572.9321 - mae: 7572.9321\n",
            "Epoch 99/100\n",
            "34/34 [==============================] - 0s 3ms/step - loss: 7255.1318 - mae: 7255.1318\n",
            "Epoch 100/100\n",
            "34/34 [==============================] - 0s 2ms/step - loss: 7171.9634 - mae: 7171.9634\n"
          ]
        },
        {
          "output_type": "execute_result",
          "data": {
            "text/plain": [
              "<keras.callbacks.History at 0x7fecd32725d0>"
            ]
          },
          "metadata": {},
          "execution_count": 53
        }
      ]
    },
    {
      "cell_type": "code",
      "source": [
        "#Check the results of the model\n",
        "charges_model.evaluate(X_test,y_test)"
      ],
      "metadata": {
        "colab": {
          "base_uri": "https://localhost:8080/"
        },
        "id": "xp4tArjtWnRR",
        "outputId": "bf9a16cd-a7dc-4c6f-d5e4-0cab90638676"
      },
      "execution_count": null,
      "outputs": [
        {
          "output_type": "stream",
          "name": "stdout",
          "text": [
            "9/9 [==============================] - 0s 2ms/step - loss: 8962.6367 - mae: 8962.6367\n"
          ]
        },
        {
          "output_type": "execute_result",
          "data": {
            "text/plain": [
              "[8962.63671875, 8962.63671875]"
            ]
          },
          "metadata": {},
          "execution_count": 54
        }
      ]
    },
    {
      "cell_type": "markdown",
      "source": [
        "##Build Experiment model 1"
      ],
      "metadata": {
        "id": "jKyKC-9_aKCE"
      }
    },
    {
      "cell_type": "code",
      "source": [
        "#Experiment 1 with charges_model\n",
        "charges_model_exp1 = tf.keras.Sequential([\n",
        "                    tf.keras.layers.Dense(100),\n",
        "                    tf.keras.layers.Dense(10),\n",
        "                    tf.keras.layers.Dense(1)\n",
        "])\n",
        "\n",
        "charges_model_exp1.compile(loss = \"mae\",\n",
        "                           optimizer = tf.keras.optimizers.Adam(),\n",
        "                           metrics=[\"mae\"])\n",
        "\n",
        "charges_model_exp1.fit(X_train, y_train, epochs=100, verbose=1)"
      ],
      "metadata": {
        "colab": {
          "base_uri": "https://localhost:8080/"
        },
        "id": "tLXcXA51WSgj",
        "outputId": "41e2cfdf-17a3-4b69-ef12-a3b5393f5329"
      },
      "execution_count": null,
      "outputs": [
        {
          "output_type": "stream",
          "name": "stdout",
          "text": [
            "Epoch 1/100\n",
            "34/34 [==============================] - 0s 2ms/step - loss: 13268.4639 - mae: 13268.4639\n",
            "Epoch 2/100\n",
            "34/34 [==============================] - 0s 2ms/step - loss: 13061.3486 - mae: 13061.3486\n",
            "Epoch 3/100\n",
            "34/34 [==============================] - 0s 2ms/step - loss: 12654.8975 - mae: 12654.8975\n",
            "Epoch 4/100\n",
            "34/34 [==============================] - 0s 2ms/step - loss: 11904.9453 - mae: 11904.9453\n",
            "Epoch 5/100\n",
            "34/34 [==============================] - 0s 2ms/step - loss: 10715.0078 - mae: 10715.0078\n",
            "Epoch 6/100\n",
            "34/34 [==============================] - 0s 2ms/step - loss: 9271.5957 - mae: 9271.5957\n",
            "Epoch 7/100\n",
            "34/34 [==============================] - 0s 2ms/step - loss: 8020.7441 - mae: 8020.7441\n",
            "Epoch 8/100\n",
            "34/34 [==============================] - 0s 2ms/step - loss: 7496.7988 - mae: 7496.7988\n",
            "Epoch 9/100\n",
            "34/34 [==============================] - 0s 2ms/step - loss: 7420.8643 - mae: 7420.8643\n",
            "Epoch 10/100\n",
            "34/34 [==============================] - 0s 2ms/step - loss: 7401.3711 - mae: 7401.3711\n",
            "Epoch 11/100\n",
            "34/34 [==============================] - 0s 2ms/step - loss: 7382.7222 - mae: 7382.7222\n",
            "Epoch 12/100\n",
            "34/34 [==============================] - 0s 2ms/step - loss: 7360.2896 - mae: 7360.2896\n",
            "Epoch 13/100\n",
            "34/34 [==============================] - 0s 2ms/step - loss: 7339.3696 - mae: 7339.3696\n",
            "Epoch 14/100\n",
            "34/34 [==============================] - 0s 2ms/step - loss: 7316.8364 - mae: 7316.8364\n",
            "Epoch 15/100\n",
            "34/34 [==============================] - 0s 2ms/step - loss: 7297.2046 - mae: 7297.2046\n",
            "Epoch 16/100\n",
            "34/34 [==============================] - 0s 2ms/step - loss: 7274.4165 - mae: 7274.4165\n",
            "Epoch 17/100\n",
            "34/34 [==============================] - 0s 2ms/step - loss: 7253.3960 - mae: 7253.3960\n",
            "Epoch 18/100\n",
            "34/34 [==============================] - 0s 2ms/step - loss: 7229.2773 - mae: 7229.2773\n",
            "Epoch 19/100\n",
            "34/34 [==============================] - 0s 2ms/step - loss: 7206.1030 - mae: 7206.1030\n",
            "Epoch 20/100\n",
            "34/34 [==============================] - 0s 2ms/step - loss: 7181.4365 - mae: 7181.4365\n",
            "Epoch 21/100\n",
            "34/34 [==============================] - 0s 2ms/step - loss: 7161.4541 - mae: 7161.4541\n",
            "Epoch 22/100\n",
            "34/34 [==============================] - 0s 2ms/step - loss: 7132.1006 - mae: 7132.1006\n",
            "Epoch 23/100\n",
            "34/34 [==============================] - 0s 2ms/step - loss: 7105.6753 - mae: 7105.6753\n",
            "Epoch 24/100\n",
            "34/34 [==============================] - 0s 2ms/step - loss: 7078.8159 - mae: 7078.8159\n",
            "Epoch 25/100\n",
            "34/34 [==============================] - 0s 2ms/step - loss: 7058.2500 - mae: 7058.2500\n",
            "Epoch 26/100\n",
            "34/34 [==============================] - 0s 2ms/step - loss: 7025.2368 - mae: 7025.2368\n",
            "Epoch 27/100\n",
            "34/34 [==============================] - 0s 2ms/step - loss: 6994.6855 - mae: 6994.6855\n",
            "Epoch 28/100\n",
            "34/34 [==============================] - 0s 2ms/step - loss: 6964.2720 - mae: 6964.2720\n",
            "Epoch 29/100\n",
            "34/34 [==============================] - 0s 2ms/step - loss: 6933.6689 - mae: 6933.6689\n",
            "Epoch 30/100\n",
            "34/34 [==============================] - 0s 2ms/step - loss: 6904.0142 - mae: 6904.0142\n",
            "Epoch 31/100\n",
            "34/34 [==============================] - 0s 2ms/step - loss: 6871.2368 - mae: 6871.2368\n",
            "Epoch 32/100\n",
            "34/34 [==============================] - 0s 2ms/step - loss: 6840.1997 - mae: 6840.1997\n",
            "Epoch 33/100\n",
            "34/34 [==============================] - 0s 2ms/step - loss: 6805.6729 - mae: 6805.6729\n",
            "Epoch 34/100\n",
            "34/34 [==============================] - 0s 2ms/step - loss: 6771.8403 - mae: 6771.8403\n",
            "Epoch 35/100\n",
            "34/34 [==============================] - 0s 2ms/step - loss: 6734.5103 - mae: 6734.5103\n",
            "Epoch 36/100\n",
            "34/34 [==============================] - 0s 2ms/step - loss: 6698.5376 - mae: 6698.5376\n",
            "Epoch 37/100\n",
            "34/34 [==============================] - 0s 2ms/step - loss: 6660.8408 - mae: 6660.8408\n",
            "Epoch 38/100\n",
            "34/34 [==============================] - 0s 2ms/step - loss: 6630.4443 - mae: 6630.4443\n",
            "Epoch 39/100\n",
            "34/34 [==============================] - 0s 3ms/step - loss: 6590.3262 - mae: 6590.3262\n",
            "Epoch 40/100\n",
            "34/34 [==============================] - 0s 2ms/step - loss: 6559.7017 - mae: 6559.7017\n",
            "Epoch 41/100\n",
            "34/34 [==============================] - 0s 2ms/step - loss: 6534.7148 - mae: 6534.7148\n",
            "Epoch 42/100\n",
            "34/34 [==============================] - 0s 2ms/step - loss: 6512.4678 - mae: 6512.4678\n",
            "Epoch 43/100\n",
            "34/34 [==============================] - 0s 2ms/step - loss: 6491.8506 - mae: 6491.8506\n",
            "Epoch 44/100\n",
            "34/34 [==============================] - 0s 2ms/step - loss: 6473.3472 - mae: 6473.3472\n",
            "Epoch 45/100\n",
            "34/34 [==============================] - 0s 2ms/step - loss: 6465.1367 - mae: 6465.1367\n",
            "Epoch 46/100\n",
            "34/34 [==============================] - 0s 2ms/step - loss: 6446.8667 - mae: 6446.8667\n",
            "Epoch 47/100\n",
            "34/34 [==============================] - 0s 2ms/step - loss: 6431.9097 - mae: 6431.9097\n",
            "Epoch 48/100\n",
            "34/34 [==============================] - 0s 2ms/step - loss: 6417.8643 - mae: 6417.8643\n",
            "Epoch 49/100\n",
            "34/34 [==============================] - 0s 2ms/step - loss: 6407.0908 - mae: 6407.0908\n",
            "Epoch 50/100\n",
            "34/34 [==============================] - 0s 2ms/step - loss: 6392.6177 - mae: 6392.6177\n",
            "Epoch 51/100\n",
            "34/34 [==============================] - 0s 2ms/step - loss: 6379.1514 - mae: 6379.1514\n",
            "Epoch 52/100\n",
            "34/34 [==============================] - 0s 2ms/step - loss: 6366.4839 - mae: 6366.4839\n",
            "Epoch 53/100\n",
            "34/34 [==============================] - 0s 2ms/step - loss: 6352.1279 - mae: 6352.1279\n",
            "Epoch 54/100\n",
            "34/34 [==============================] - 0s 2ms/step - loss: 6337.9785 - mae: 6337.9785\n",
            "Epoch 55/100\n",
            "34/34 [==============================] - 0s 2ms/step - loss: 6324.0259 - mae: 6324.0259\n",
            "Epoch 56/100\n",
            "34/34 [==============================] - 0s 2ms/step - loss: 6309.7314 - mae: 6309.7314\n",
            "Epoch 57/100\n",
            "34/34 [==============================] - 0s 2ms/step - loss: 6295.5688 - mae: 6295.5688\n",
            "Epoch 58/100\n",
            "34/34 [==============================] - 0s 2ms/step - loss: 6282.3384 - mae: 6282.3384\n",
            "Epoch 59/100\n",
            "34/34 [==============================] - 0s 2ms/step - loss: 6265.6104 - mae: 6265.6104\n",
            "Epoch 60/100\n",
            "34/34 [==============================] - 0s 2ms/step - loss: 6254.3433 - mae: 6254.3433\n",
            "Epoch 61/100\n",
            "34/34 [==============================] - 0s 2ms/step - loss: 6234.0952 - mae: 6234.0952\n",
            "Epoch 62/100\n",
            "34/34 [==============================] - 0s 2ms/step - loss: 6221.3530 - mae: 6221.3530\n",
            "Epoch 63/100\n",
            "34/34 [==============================] - 0s 2ms/step - loss: 6202.0806 - mae: 6202.0806\n",
            "Epoch 64/100\n",
            "34/34 [==============================] - 0s 2ms/step - loss: 6184.3867 - mae: 6184.3867\n",
            "Epoch 65/100\n",
            "34/34 [==============================] - 0s 2ms/step - loss: 6166.6880 - mae: 6166.6880\n",
            "Epoch 66/100\n",
            "34/34 [==============================] - 0s 2ms/step - loss: 6148.0186 - mae: 6148.0186\n",
            "Epoch 67/100\n",
            "34/34 [==============================] - 0s 2ms/step - loss: 6135.6411 - mae: 6135.6411\n",
            "Epoch 68/100\n",
            "34/34 [==============================] - 0s 2ms/step - loss: 6111.8062 - mae: 6111.8062\n",
            "Epoch 69/100\n",
            "34/34 [==============================] - 0s 2ms/step - loss: 6094.1167 - mae: 6094.1167\n",
            "Epoch 70/100\n",
            "34/34 [==============================] - 0s 2ms/step - loss: 6073.1860 - mae: 6073.1860\n",
            "Epoch 71/100\n",
            "34/34 [==============================] - 0s 2ms/step - loss: 6052.5938 - mae: 6052.5938\n",
            "Epoch 72/100\n",
            "34/34 [==============================] - 0s 2ms/step - loss: 6031.7725 - mae: 6031.7725\n",
            "Epoch 73/100\n",
            "34/34 [==============================] - 0s 2ms/step - loss: 6016.1646 - mae: 6016.1646\n",
            "Epoch 74/100\n",
            "34/34 [==============================] - 0s 2ms/step - loss: 5985.9941 - mae: 5985.9941\n",
            "Epoch 75/100\n",
            "34/34 [==============================] - 0s 2ms/step - loss: 5964.3496 - mae: 5964.3496\n",
            "Epoch 76/100\n",
            "34/34 [==============================] - 0s 2ms/step - loss: 5946.7422 - mae: 5946.7422\n",
            "Epoch 77/100\n",
            "34/34 [==============================] - 0s 2ms/step - loss: 5914.3203 - mae: 5914.3203\n",
            "Epoch 78/100\n",
            "34/34 [==============================] - 0s 2ms/step - loss: 5888.6045 - mae: 5888.6045\n",
            "Epoch 79/100\n",
            "34/34 [==============================] - 0s 2ms/step - loss: 5862.1616 - mae: 5862.1616\n",
            "Epoch 80/100\n",
            "34/34 [==============================] - 0s 2ms/step - loss: 5832.1289 - mae: 5832.1289\n",
            "Epoch 81/100\n",
            "34/34 [==============================] - 0s 2ms/step - loss: 5805.4756 - mae: 5805.4756\n",
            "Epoch 82/100\n",
            "34/34 [==============================] - 0s 2ms/step - loss: 5773.9502 - mae: 5773.9502\n",
            "Epoch 83/100\n",
            "34/34 [==============================] - 0s 2ms/step - loss: 5744.3672 - mae: 5744.3672\n",
            "Epoch 84/100\n",
            "34/34 [==============================] - 0s 2ms/step - loss: 5707.7456 - mae: 5707.7456\n",
            "Epoch 85/100\n",
            "34/34 [==============================] - 0s 2ms/step - loss: 5679.6450 - mae: 5679.6450\n",
            "Epoch 86/100\n",
            "34/34 [==============================] - 0s 2ms/step - loss: 5642.9658 - mae: 5642.9658\n",
            "Epoch 87/100\n",
            "34/34 [==============================] - 0s 2ms/step - loss: 5604.2358 - mae: 5604.2358\n",
            "Epoch 88/100\n",
            "34/34 [==============================] - 0s 2ms/step - loss: 5567.0239 - mae: 5567.0239\n",
            "Epoch 89/100\n",
            "34/34 [==============================] - 0s 2ms/step - loss: 5523.1113 - mae: 5523.1113\n",
            "Epoch 90/100\n",
            "34/34 [==============================] - 0s 2ms/step - loss: 5478.6675 - mae: 5478.6675\n",
            "Epoch 91/100\n",
            "34/34 [==============================] - 0s 2ms/step - loss: 5437.0337 - mae: 5437.0337\n",
            "Epoch 92/100\n",
            "34/34 [==============================] - 0s 2ms/step - loss: 5387.4790 - mae: 5387.4790\n",
            "Epoch 93/100\n",
            "34/34 [==============================] - 0s 2ms/step - loss: 5341.5430 - mae: 5341.5430\n",
            "Epoch 94/100\n",
            "34/34 [==============================] - 0s 2ms/step - loss: 5290.4507 - mae: 5290.4507\n",
            "Epoch 95/100\n",
            "34/34 [==============================] - 0s 2ms/step - loss: 5236.6777 - mae: 5236.6777\n",
            "Epoch 96/100\n",
            "34/34 [==============================] - 0s 2ms/step - loss: 5186.8970 - mae: 5186.8970\n",
            "Epoch 97/100\n",
            "34/34 [==============================] - 0s 2ms/step - loss: 5130.7622 - mae: 5130.7622\n",
            "Epoch 98/100\n",
            "34/34 [==============================] - 0s 2ms/step - loss: 5064.7446 - mae: 5064.7446\n",
            "Epoch 99/100\n",
            "34/34 [==============================] - 0s 2ms/step - loss: 5000.5747 - mae: 5000.5747\n",
            "Epoch 100/100\n",
            "34/34 [==============================] - 0s 2ms/step - loss: 4944.0322 - mae: 4944.0322\n"
          ]
        },
        {
          "output_type": "execute_result",
          "data": {
            "text/plain": [
              "<keras.callbacks.History at 0x7fecd3130550>"
            ]
          },
          "metadata": {},
          "execution_count": 55
        }
      ]
    },
    {
      "cell_type": "code",
      "source": [
        "charges_model_exp1.evaluate(X_test, y_test)"
      ],
      "metadata": {
        "colab": {
          "base_uri": "https://localhost:8080/"
        },
        "id": "-piIJaeTazYC",
        "outputId": "3ed803ae-1e04-479b-d41a-1ad4452392a1"
      },
      "execution_count": null,
      "outputs": [
        {
          "output_type": "stream",
          "name": "stdout",
          "text": [
            "9/9 [==============================] - 0s 2ms/step - loss: 4813.8833 - mae: 4813.8833\n"
          ]
        },
        {
          "output_type": "execute_result",
          "data": {
            "text/plain": [
              "[4813.88330078125, 4813.88330078125]"
            ]
          },
          "metadata": {},
          "execution_count": 56
        }
      ]
    },
    {
      "cell_type": "markdown",
      "source": [
        "## Build experiment 2 model"
      ],
      "metadata": {
        "id": "EEyjnhYEb7Ow"
      }
    },
    {
      "cell_type": "code",
      "source": [
        "#Set random seed\n",
        "tf.random.set_seed(42)\n",
        "\n",
        "#Create a neural network model\n",
        "charges_model2 = tf.keras.Sequential([\n",
        "    tf.keras.layers.Dense(100),\n",
        "    tf.keras.layers.Dense(10),\n",
        "    tf.keras.layers.Dense(1)\n",
        "])\n",
        "\n",
        "#Compile the model\n",
        "charges_model2.compile(loss=\"mae\",\n",
        "                       optimizer = tf.keras.optimizers.Adam(),\n",
        "                       metrics=[\"mae\"])\n",
        "\n",
        "#Fit the model\n",
        "history = charges_model2.fit(X_train, y_train, epochs=500,verbose=0)"
      ],
      "metadata": {
        "id": "GvcHSQBta6Pi"
      },
      "execution_count": null,
      "outputs": []
    },
    {
      "cell_type": "code",
      "source": [
        "#Evaluating the more epochs model\n",
        "charges_model2.evaluate(X_test, y_test)"
      ],
      "metadata": {
        "colab": {
          "base_uri": "https://localhost:8080/"
        },
        "id": "De_9Sk3kchgc",
        "outputId": "436721ab-d0b8-4138-aa6f-f436aa77b375"
      },
      "execution_count": null,
      "outputs": [
        {
          "output_type": "stream",
          "name": "stdout",
          "text": [
            "9/9 [==============================] - 0s 2ms/step - loss: 3170.5703 - mae: 3170.5703\n"
          ]
        },
        {
          "output_type": "execute_result",
          "data": {
            "text/plain": [
              "[3170.5703125, 3170.5703125]"
            ]
          },
          "metadata": {},
          "execution_count": 58
        }
      ]
    },
    {
      "cell_type": "code",
      "source": [
        "#Plot history (also known as a loss curve or a training curve)\n",
        "\n",
        "pd.DataFrame(history.history).plot()\n",
        "plt.ylabel(\"loss\")\n",
        "plt.xlabel(\"epochs\")"
      ],
      "metadata": {
        "colab": {
          "base_uri": "https://localhost:8080/",
          "height": 296
        },
        "id": "iU10qLP0cvRz",
        "outputId": "4971a21c-4719-40ef-fa8a-da76ff41e00b"
      },
      "execution_count": null,
      "outputs": [
        {
          "output_type": "execute_result",
          "data": {
            "text/plain": [
              "Text(0.5, 0, 'epochs')"
            ]
          },
          "metadata": {},
          "execution_count": 59
        },
        {
          "output_type": "display_data",
          "data": {
            "text/plain": [
              "<Figure size 432x288 with 1 Axes>"
            ],
            "image/png": "[encoded data removed]"
          },
          "metadata": {
            "needs_background": "light"
          }
        }
      ]
    },
    {
      "cell_type": "markdown",
      "source": [
        ">⭐How long should you train your model for? \n",
        "The solution is called `EarlyStopping Callback`, which is a Tensorflow component you can add to your model to stop training once the model stops improving at a certain metric. "
      ],
      "metadata": {
        "id": "rrY77oCkebXb"
      }
    },
    {
      "cell_type": "markdown",
      "source": [
        "# Preprocessing data (Normalization and Standardization)"
      ],
      "metadata": {
        "id": "M0XChAqmfTRG"
      }
    },
    {
      "cell_type": "code",
      "source": [
        "X[\"age\"].plot(kind=\"hist\")"
      ],
      "metadata": {
        "colab": {
          "base_uri": "https://localhost:8080/",
          "height": 282
        },
        "id": "t6CQ3cJHdafy",
        "outputId": "fec5254b-3e48-4408-9b4c-b1b48a745bda"
      },
      "execution_count": null,
      "outputs": [
        {
          "output_type": "execute_result",
          "data": {
            "text/plain": [
              "<matplotlib.axes._subplots.AxesSubplot at 0x7fecd68d57d0>"
            ]
          },
          "metadata": {},
          "execution_count": 60
        },
        {
          "output_type": "display_data",
          "data": {
            "text/plain": [
              "<Figure size 432x288 with 1 Axes>"
            ],
            "image/png": "[encoded data removed]"
          },
          "metadata": {
            "needs_background": "light"
          }
        }
      ]
    },
    {
      "cell_type": "markdown",
      "source": [
        "**Scaling / Normalization** - convets all the numerical value between 0 and 1 while preserving the original distribution.\n",
        "\n",
        "**Standardization** - Removes the mean and divide each value by the standard deviation. (When to use this - to transform a feature to have close to normal distribution, `this reduces the effect of outliers`.)\n",
        "\n",
        "📖 : [Resource for Scaling & Standardization](https://github.com/mrdbourke/tensorflow-deep-learning)\n"
      ],
      "metadata": {
        "id": "wLNM0v5SAH33"
      }
    },
    {
      "cell_type": "code",
      "source": [
        "import pandas as pd\n",
        "import numpy as np\n",
        "import tensorflow as tf\n",
        "import matplotlib.pyplot as plt\n",
        "\n",
        "#Read in the insurance dataframe\n",
        "insurance = pd.read_csv(\"https://raw.githubusercontent.com/stedy/Machine-Learning-with-R-datasets/master/insurance.csv\")"
      ],
      "metadata": {
        "id": "qqOqBMOM_6mI"
      },
      "execution_count": null,
      "outputs": []
    },
    {
      "cell_type": "markdown",
      "source": [
        "To prepare our data, we can borrow a few classes from Scikit-Learn."
      ],
      "metadata": {
        "id": "7NSJWLu9DZRv"
      }
    },
    {
      "cell_type": "code",
      "source": [
        "from sklearn.compose import make_column_transformer\n",
        "from sklearn.preprocessing import MinMaxScaler, OneHotEncoder\n",
        "from sklearn.model_selection import train_test_split\n",
        "\n",
        "#Create a column transformer\n",
        "ct = make_column_transformer(\n",
        "    (MinMaxScaler(), [\"age\", \"bmi\", \"children\"]), #turn all values in these columns between 0 and 1 \n",
        "    (OneHotEncoder(handle_unknown=\"ignore\"),[\"sex\",\"smoker\",\"region\" ])\n",
        ")\n",
        "\n",
        "#Create X & y values. \n",
        "X = insurance.drop(\"charges\",axis=1)\n",
        "y = insurance[\"charges\"]\n",
        "\n",
        "#Split into train and test data\n",
        "X_train, X_test, y_train, y_test = train_test_split(X, y, test_size=0.2, random_state = 42)\n",
        "\n",
        "#Fit the column transformer to our training data\n",
        "ct.fit(X_train)\n",
        "\n",
        "#Transform training and test data with normalization (MinMaxScaler) and OneHotEncoder\n",
        "X_train_normal = ct.transform(X_train)\n",
        "X_test_normal = ct.transform(X_test)"
      ],
      "metadata": {
        "id": "WVE4ZBs0B3lq"
      },
      "execution_count": null,
      "outputs": []
    },
    {
      "cell_type": "code",
      "source": [
        "#What does our data looks like\n",
        "X_train.loc[0]"
      ],
      "metadata": {
        "colab": {
          "base_uri": "https://localhost:8080/"
        },
        "id": "05kwf-JoFeIE",
        "outputId": "da6c493a-8c26-4bdc-f60d-d4a8fd5c2625"
      },
      "execution_count": null,
      "outputs": [
        {
          "output_type": "execute_result",
          "data": {
            "text/plain": [
              "age                19\n",
              "sex            female\n",
              "bmi              27.9\n",
              "children            0\n",
              "smoker            yes\n",
              "region      southwest\n",
              "Name: 0, dtype: object"
            ]
          },
          "metadata": {},
          "execution_count": 67
        }
      ]
    },
    {
      "cell_type": "code",
      "source": [
        "X_train_normal[0]"
      ],
      "metadata": {
        "colab": {
          "base_uri": "https://localhost:8080/"
        },
        "id": "hsiOLe1LFkXV",
        "outputId": "7ff89b8a-5041-4ce9-b014-84befe8145e0"
      },
      "execution_count": null,
      "outputs": [
        {
          "output_type": "execute_result",
          "data": {
            "text/plain": [
              "array([0.60869565, 0.10734463, 0.4       , 1.        , 0.        ,\n",
              "       1.        , 0.        , 0.        , 1.        , 0.        ,\n",
              "       0.        ])"
            ]
          },
          "metadata": {},
          "execution_count": 70
        }
      ]
    },
    {
      "cell_type": "code",
      "source": [
        "X_train_normal.shape, X_train.shape"
      ],
      "metadata": {
        "colab": {
          "base_uri": "https://localhost:8080/"
        },
        "id": "QaeXCIzmFn5R",
        "outputId": "46540fb9-53bc-46b8-fb2c-610cc7d128e3"
      },
      "execution_count": null,
      "outputs": [
        {
          "output_type": "execute_result",
          "data": {
            "text/plain": [
              "((1070, 11), (1070, 6))"
            ]
          },
          "metadata": {},
          "execution_count": 74
        }
      ]
    },
    {
      "cell_type": "markdown",
      "source": [
        "Now let's build a neural network model on it."
      ],
      "metadata": {
        "id": "yE0coA2ELlNw"
      }
    },
    {
      "cell_type": "code",
      "source": [
        "#Build a neural network model to fit on our normalized data\n",
        "\n",
        "#Create a neural network\n",
        "insurance_model = tf.keras.Sequential([\n",
        "    tf.keras.layers.Dense(100),\n",
        "    tf.keras.layers.Dense(10),\n",
        "    tf.keras.layers.Dense(1)\n",
        "])\n",
        "\n",
        "#Compile the model\n",
        "insurance_model.compile(loss=\"mae\",\n",
        "                        optimizer=tf.keras.optimizers.Adam(),\n",
        "                        metrics=[\"mae\"])\n",
        "\n",
        "#Fit the model \n",
        "insurance_model.fit(X_train_normal, y_train, epochs=100)"
      ],
      "metadata": {
        "colab": {
          "base_uri": "https://localhost:8080/"
        },
        "id": "_s_ajd8ELa6i",
        "outputId": "ff2b2207-f4f0-41df-984c-22af63d9458e"
      },
      "execution_count": null,
      "outputs": [
        {
          "output_type": "stream",
          "name": "stdout",
          "text": [
            "Epoch 1/100\n",
            "34/34 [==============================] - 1s 3ms/step - loss: 13344.2314 - mae: 13344.2314\n",
            "Epoch 2/100\n",
            "34/34 [==============================] - 0s 4ms/step - loss: 13336.8213 - mae: 13336.8213\n",
            "Epoch 3/100\n",
            "34/34 [==============================] - 0s 3ms/step - loss: 13316.9512 - mae: 13316.9512\n",
            "Epoch 4/100\n",
            "34/34 [==============================] - 0s 5ms/step - loss: 13273.8916 - mae: 13273.8916\n",
            "Epoch 5/100\n",
            "34/34 [==============================] - 0s 4ms/step - loss: 13196.7715 - mae: 13196.7715\n",
            "Epoch 6/100\n",
            "34/34 [==============================] - 0s 4ms/step - loss: 13074.7617 - mae: 13074.7617\n",
            "Epoch 7/100\n",
            "34/34 [==============================] - 0s 4ms/step - loss: 12897.6738 - mae: 12897.6738\n",
            "Epoch 8/100\n",
            "34/34 [==============================] - 0s 3ms/step - loss: 12655.4170 - mae: 12655.4170\n",
            "Epoch 9/100\n",
            "34/34 [==============================] - 0s 2ms/step - loss: 12337.7451 - mae: 12337.7451\n",
            "Epoch 10/100\n",
            "34/34 [==============================] - 0s 2ms/step - loss: 11939.5898 - mae: 11939.5898\n",
            "Epoch 11/100\n",
            "34/34 [==============================] - 0s 2ms/step - loss: 11469.0273 - mae: 11469.0273\n",
            "Epoch 12/100\n",
            "34/34 [==============================] - 0s 2ms/step - loss: 10964.1689 - mae: 10964.1689\n",
            "Epoch 13/100\n",
            "34/34 [==============================] - 0s 2ms/step - loss: 10464.1758 - mae: 10464.1758\n",
            "Epoch 14/100\n",
            "34/34 [==============================] - 0s 2ms/step - loss: 9967.4219 - mae: 9967.4219\n",
            "Epoch 15/100\n",
            "34/34 [==============================] - 0s 2ms/step - loss: 9496.8613 - mae: 9496.8613\n",
            "Epoch 16/100\n",
            "34/34 [==============================] - 0s 2ms/step - loss: 9077.7832 - mae: 9077.7832\n",
            "Epoch 17/100\n",
            "34/34 [==============================] - 0s 2ms/step - loss: 8730.4062 - mae: 8730.4062\n",
            "Epoch 18/100\n",
            "34/34 [==============================] - 0s 2ms/step - loss: 8449.6279 - mae: 8449.6279\n",
            "Epoch 19/100\n",
            "34/34 [==============================] - 0s 2ms/step - loss: 8234.8818 - mae: 8234.8818\n",
            "Epoch 20/100\n",
            "34/34 [==============================] - 0s 2ms/step - loss: 8088.7344 - mae: 8088.7344\n",
            "Epoch 21/100\n",
            "34/34 [==============================] - 0s 2ms/step - loss: 7980.3477 - mae: 7980.3477\n",
            "Epoch 22/100\n",
            "34/34 [==============================] - 0s 2ms/step - loss: 7905.4180 - mae: 7905.4180\n",
            "Epoch 23/100\n",
            "34/34 [==============================] - 0s 2ms/step - loss: 7846.5327 - mae: 7846.5327\n",
            "Epoch 24/100\n",
            "34/34 [==============================] - 0s 2ms/step - loss: 7794.1060 - mae: 7794.1060\n",
            "Epoch 25/100\n",
            "34/34 [==============================] - 0s 2ms/step - loss: 7755.5815 - mae: 7755.5815\n",
            "Epoch 26/100\n",
            "34/34 [==============================] - 0s 2ms/step - loss: 7704.3618 - mae: 7704.3618\n",
            "Epoch 27/100\n",
            "34/34 [==============================] - 0s 2ms/step - loss: 7662.7891 - mae: 7662.7891\n",
            "Epoch 28/100\n",
            "34/34 [==============================] - 0s 2ms/step - loss: 7620.6362 - mae: 7620.6362\n",
            "Epoch 29/100\n",
            "34/34 [==============================] - 0s 2ms/step - loss: 7578.2861 - mae: 7578.2861\n",
            "Epoch 30/100\n",
            "34/34 [==============================] - 0s 2ms/step - loss: 7535.1709 - mae: 7535.1709\n",
            "Epoch 31/100\n",
            "34/34 [==============================] - 0s 2ms/step - loss: 7491.5854 - mae: 7491.5854\n",
            "Epoch 32/100\n",
            "34/34 [==============================] - 0s 2ms/step - loss: 7447.7866 - mae: 7447.7866\n",
            "Epoch 33/100\n",
            "34/34 [==============================] - 0s 3ms/step - loss: 7403.7832 - mae: 7403.7832\n",
            "Epoch 34/100\n",
            "34/34 [==============================] - 0s 2ms/step - loss: 7355.9272 - mae: 7355.9272\n",
            "Epoch 35/100\n",
            "34/34 [==============================] - 0s 2ms/step - loss: 7309.4429 - mae: 7309.4429\n",
            "Epoch 36/100\n",
            "34/34 [==============================] - 0s 2ms/step - loss: 7259.6294 - mae: 7259.6294\n",
            "Epoch 37/100\n",
            "34/34 [==============================] - 0s 2ms/step - loss: 7209.6924 - mae: 7209.6924\n",
            "Epoch 38/100\n",
            "34/34 [==============================] - 0s 2ms/step - loss: 7159.0659 - mae: 7159.0659\n",
            "Epoch 39/100\n",
            "34/34 [==============================] - 0s 2ms/step - loss: 7104.6245 - mae: 7104.6245\n",
            "Epoch 40/100\n",
            "34/34 [==============================] - 0s 2ms/step - loss: 7049.7441 - mae: 7049.7441\n",
            "Epoch 41/100\n",
            "34/34 [==============================] - 0s 2ms/step - loss: 6993.8691 - mae: 6993.8691\n",
            "Epoch 42/100\n",
            "34/34 [==============================] - 0s 2ms/step - loss: 6935.5273 - mae: 6935.5273\n",
            "Epoch 43/100\n",
            "34/34 [==============================] - 0s 2ms/step - loss: 6873.5825 - mae: 6873.5825\n",
            "Epoch 44/100\n",
            "34/34 [==============================] - 0s 3ms/step - loss: 6807.9810 - mae: 6807.9810\n",
            "Epoch 45/100\n",
            "34/34 [==============================] - 0s 6ms/step - loss: 6741.5430 - mae: 6741.5430\n",
            "Epoch 46/100\n",
            "34/34 [==============================] - 0s 4ms/step - loss: 6673.3647 - mae: 6673.3647\n",
            "Epoch 47/100\n",
            "34/34 [==============================] - 0s 5ms/step - loss: 6602.8745 - mae: 6602.8745\n",
            "Epoch 48/100\n",
            "34/34 [==============================] - 0s 6ms/step - loss: 6525.0781 - mae: 6525.0781\n",
            "Epoch 49/100\n",
            "34/34 [==============================] - 0s 5ms/step - loss: 6446.9487 - mae: 6446.9487\n",
            "Epoch 50/100\n",
            "34/34 [==============================] - 0s 3ms/step - loss: 6362.3364 - mae: 6362.3364\n",
            "Epoch 51/100\n",
            "34/34 [==============================] - 0s 5ms/step - loss: 6278.7837 - mae: 6278.7837\n",
            "Epoch 52/100\n",
            "34/34 [==============================] - 0s 2ms/step - loss: 6186.5474 - mae: 6186.5474\n",
            "Epoch 53/100\n",
            "34/34 [==============================] - 0s 2ms/step - loss: 6091.7764 - mae: 6091.7764\n",
            "Epoch 54/100\n",
            "34/34 [==============================] - 0s 2ms/step - loss: 5994.2642 - mae: 5994.2642\n",
            "Epoch 55/100\n",
            "34/34 [==============================] - 0s 4ms/step - loss: 5888.2124 - mae: 5888.2124\n",
            "Epoch 56/100\n",
            "34/34 [==============================] - 0s 4ms/step - loss: 5781.1758 - mae: 5781.1758\n",
            "Epoch 57/100\n",
            "34/34 [==============================] - 0s 3ms/step - loss: 5666.5815 - mae: 5666.5815\n",
            "Epoch 58/100\n",
            "34/34 [==============================] - 0s 2ms/step - loss: 5548.6816 - mae: 5548.6816\n",
            "Epoch 59/100\n",
            "34/34 [==============================] - 0s 2ms/step - loss: 5431.6001 - mae: 5431.6001\n",
            "Epoch 60/100\n",
            "34/34 [==============================] - 0s 2ms/step - loss: 5309.1821 - mae: 5309.1821\n",
            "Epoch 61/100\n",
            "34/34 [==============================] - 0s 3ms/step - loss: 5181.8345 - mae: 5181.8345\n",
            "Epoch 62/100\n",
            "34/34 [==============================] - 0s 3ms/step - loss: 5053.0488 - mae: 5053.0488\n",
            "Epoch 63/100\n",
            "34/34 [==============================] - 0s 4ms/step - loss: 4923.9619 - mae: 4923.9619\n",
            "Epoch 64/100\n",
            "34/34 [==============================] - 0s 5ms/step - loss: 4791.7808 - mae: 4791.7808\n",
            "Epoch 65/100\n",
            "34/34 [==============================] - 0s 4ms/step - loss: 4663.5293 - mae: 4663.5293\n",
            "Epoch 66/100\n",
            "34/34 [==============================] - 0s 5ms/step - loss: 4535.3003 - mae: 4535.3003\n",
            "Epoch 67/100\n",
            "34/34 [==============================] - 0s 4ms/step - loss: 4423.4600 - mae: 4423.4600\n",
            "Epoch 68/100\n",
            "34/34 [==============================] - 0s 4ms/step - loss: 4314.0635 - mae: 4314.0635\n",
            "Epoch 69/100\n",
            "34/34 [==============================] - 0s 4ms/step - loss: 4211.1636 - mae: 4211.1636\n",
            "Epoch 70/100\n",
            "34/34 [==============================] - 0s 2ms/step - loss: 4116.7002 - mae: 4116.7002\n",
            "Epoch 71/100\n",
            "34/34 [==============================] - 0s 2ms/step - loss: 4029.2576 - mae: 4029.2576\n",
            "Epoch 72/100\n",
            "34/34 [==============================] - 0s 2ms/step - loss: 3953.5510 - mae: 3953.5510\n",
            "Epoch 73/100\n",
            "34/34 [==============================] - 0s 2ms/step - loss: 3888.1299 - mae: 3888.1299\n",
            "Epoch 74/100\n",
            "34/34 [==============================] - 0s 2ms/step - loss: 3834.3367 - mae: 3834.3367\n",
            "Epoch 75/100\n",
            "34/34 [==============================] - 0s 4ms/step - loss: 3790.0764 - mae: 3790.0764\n",
            "Epoch 76/100\n",
            "34/34 [==============================] - 0s 4ms/step - loss: 3756.0994 - mae: 3756.0994\n",
            "Epoch 77/100\n",
            "34/34 [==============================] - 0s 4ms/step - loss: 3729.5410 - mae: 3729.5410\n",
            "Epoch 78/100\n",
            "34/34 [==============================] - 0s 3ms/step - loss: 3710.2896 - mae: 3710.2896\n",
            "Epoch 79/100\n",
            "34/34 [==============================] - 0s 2ms/step - loss: 3696.4714 - mae: 3696.4714\n",
            "Epoch 80/100\n",
            "34/34 [==============================] - 0s 2ms/step - loss: 3687.1135 - mae: 3687.1135\n",
            "Epoch 81/100\n",
            "34/34 [==============================] - 0s 3ms/step - loss: 3679.9248 - mae: 3679.9248\n",
            "Epoch 82/100\n",
            "34/34 [==============================] - 0s 3ms/step - loss: 3675.9272 - mae: 3675.9272\n",
            "Epoch 83/100\n",
            "34/34 [==============================] - 0s 3ms/step - loss: 3669.6099 - mae: 3669.6099\n",
            "Epoch 84/100\n",
            "34/34 [==============================] - 0s 2ms/step - loss: 3666.5498 - mae: 3666.5498\n",
            "Epoch 85/100\n",
            "34/34 [==============================] - 0s 2ms/step - loss: 3663.6228 - mae: 3663.6228\n",
            "Epoch 86/100\n",
            "34/34 [==============================] - 0s 2ms/step - loss: 3661.7432 - mae: 3661.7432\n",
            "Epoch 87/100\n",
            "34/34 [==============================] - 0s 3ms/step - loss: 3658.8174 - mae: 3658.8174\n",
            "Epoch 88/100\n",
            "34/34 [==============================] - 0s 4ms/step - loss: 3656.2937 - mae: 3656.2937\n",
            "Epoch 89/100\n",
            "34/34 [==============================] - 0s 4ms/step - loss: 3654.4993 - mae: 3654.4993\n",
            "Epoch 90/100\n",
            "34/34 [==============================] - 0s 3ms/step - loss: 3653.2610 - mae: 3653.2610\n",
            "Epoch 91/100\n",
            "34/34 [==============================] - 0s 2ms/step - loss: 3649.9761 - mae: 3649.9761\n",
            "Epoch 92/100\n",
            "34/34 [==============================] - 0s 2ms/step - loss: 3649.3462 - mae: 3649.3462\n",
            "Epoch 93/100\n",
            "34/34 [==============================] - 0s 3ms/step - loss: 3647.0876 - mae: 3647.0876\n",
            "Epoch 94/100\n",
            "34/34 [==============================] - 0s 4ms/step - loss: 3645.4250 - mae: 3645.4250\n",
            "Epoch 95/100\n",
            "34/34 [==============================] - 0s 4ms/step - loss: 3646.3633 - mae: 3646.3633\n",
            "Epoch 96/100\n",
            "34/34 [==============================] - 0s 4ms/step - loss: 3643.3008 - mae: 3643.3008\n",
            "Epoch 97/100\n",
            "34/34 [==============================] - 0s 4ms/step - loss: 3641.0444 - mae: 3641.0444\n",
            "Epoch 98/100\n",
            "34/34 [==============================] - 0s 3ms/step - loss: 3639.1226 - mae: 3639.1226\n",
            "Epoch 99/100\n",
            "34/34 [==============================] - 0s 4ms/step - loss: 3638.2063 - mae: 3638.2063\n",
            "Epoch 100/100\n",
            "34/34 [==============================] - 0s 4ms/step - loss: 3636.6348 - mae: 3636.6348\n"
          ]
        },
        {
          "output_type": "execute_result",
          "data": {
            "text/plain": [
              "<keras.callbacks.History at 0x7fecd006fb90>"
            ]
          },
          "metadata": {},
          "execution_count": 79
        }
      ]
    },
    {
      "cell_type": "code",
      "source": [
        "insurance_model.evaluate(X_test_normal, y_test)"
      ],
      "metadata": {
        "colab": {
          "base_uri": "https://localhost:8080/"
        },
        "id": "ctDP2e8bMH_o",
        "outputId": "bb7bb3db-54e4-4ae8-8776-cdc48b730d10"
      },
      "execution_count": null,
      "outputs": [
        {
          "output_type": "stream",
          "name": "stdout",
          "text": [
            "9/9 [==============================] - 0s 2ms/step - loss: 3441.3308 - mae: 3441.3308\n"
          ]
        },
        {
          "output_type": "execute_result",
          "data": {
            "text/plain": [
              "[3441.330810546875, 3441.330810546875]"
            ]
          },
          "metadata": {},
          "execution_count": 80
        }
      ]
    },
    {
      "cell_type": "code",
      "source": [],
      "metadata": {
        "id": "apHFyS8dM6wE"
      },
      "execution_count": null,
      "outputs": []
    }
  ]
}